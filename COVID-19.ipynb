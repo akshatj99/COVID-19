{
 "cells": [
  {
   "cell_type": "code",
   "execution_count": 1,
   "metadata": {},
   "outputs": [],
   "source": [
    "import pandas as pd\n",
    "import matplotlib.pyplot as plt\n",
    "from matplotlib import style\n",
    "style.use('ggplot')\n",
    "%matplotlib inline\n",
    "\n",
    "import plotly\n",
    "import plotly.express as px\n",
    "import plotly.graph_objects as go\n",
    "#plt.rcParams['figure.figsize']=16,8\n",
    "import cufflinks as cf\n",
    "import plotly.offline as pyo\n",
    "from plotly.offline import init_notebook_mode,plot,iplot\n",
    "\n",
    "import folium"
   ]
  },
  {
   "cell_type": "code",
   "execution_count": 2,
   "metadata": {},
   "outputs": [
    {
     "data": {
      "text/html": [
       "        <script type=\"text/javascript\">\n",
       "        window.PlotlyConfig = {MathJaxConfig: 'local'};\n",
       "        if (window.MathJax) {MathJax.Hub.Config({SVG: {font: \"STIX-Web\"}});}\n",
       "        if (typeof require !== 'undefined') {\n",
       "        require.undef(\"plotly\");\n",
       "        requirejs.config({\n",
       "            paths: {\n",
       "                'plotly': ['https://cdn.plot.ly/plotly-latest.min']\n",
       "            }\n",
       "        });\n",
       "        require(['plotly'], function(Plotly) {\n",
       "            window._Plotly = Plotly;\n",
       "        });\n",
       "        }\n",
       "        </script>\n",
       "        "
      ]
     },
     "metadata": {},
     "output_type": "display_data"
    },
    {
     "data": {
      "text/html": [
       "        <script type=\"text/javascript\">\n",
       "        window.PlotlyConfig = {MathJaxConfig: 'local'};\n",
       "        if (window.MathJax) {MathJax.Hub.Config({SVG: {font: \"STIX-Web\"}});}\n",
       "        if (typeof require !== 'undefined') {\n",
       "        require.undef(\"plotly\");\n",
       "        requirejs.config({\n",
       "            paths: {\n",
       "                'plotly': ['https://cdn.plot.ly/plotly-latest.min']\n",
       "            }\n",
       "        });\n",
       "        require(['plotly'], function(Plotly) {\n",
       "            window._Plotly = Plotly;\n",
       "        });\n",
       "        }\n",
       "        </script>\n",
       "        "
      ]
     },
     "metadata": {},
     "output_type": "display_data"
    }
   ],
   "source": [
    "pyo.init_notebook_mode(connected=True)\n",
    "cf.go_offline()"
   ]
  },
  {
   "cell_type": "code",
   "execution_count": 3,
   "metadata": {},
   "outputs": [],
   "source": [
    "df=pd.read_excel(r\"E:\\projects\\ML_Data_Science\\COVID-19-Time-Series-Forecasting-with-Data-Analysis-master\\Covid cases in India.xlsx\")"
   ]
  },
  {
   "cell_type": "code",
   "execution_count": 4,
   "metadata": {},
   "outputs": [],
   "source": [
    "df.drop([\"S. No.\"],axis=1,inplace=True)"
   ]
  },
  {
   "cell_type": "code",
   "execution_count": 5,
   "metadata": {},
   "outputs": [
    {
     "data": {
      "text/html": [
       "<div>\n",
       "<style scoped>\n",
       "    .dataframe tbody tr th:only-of-type {\n",
       "        vertical-align: middle;\n",
       "    }\n",
       "\n",
       "    .dataframe tbody tr th {\n",
       "        vertical-align: top;\n",
       "    }\n",
       "\n",
       "    .dataframe thead th {\n",
       "        text-align: right;\n",
       "    }\n",
       "</style>\n",
       "<table border=\"1\" class=\"dataframe\">\n",
       "  <thead>\n",
       "    <tr style=\"text-align: right;\">\n",
       "      <th></th>\n",
       "      <th>Name of State / UT</th>\n",
       "      <th>Total Confirmed cases (Indian National)</th>\n",
       "      <th>Total Confirmed cases ( Foreign National )</th>\n",
       "      <th>Cured</th>\n",
       "      <th>Death</th>\n",
       "    </tr>\n",
       "  </thead>\n",
       "  <tbody>\n",
       "    <tr>\n",
       "      <th>0</th>\n",
       "      <td>Andhra Pradesh</td>\n",
       "      <td>955</td>\n",
       "      <td>0</td>\n",
       "      <td>11</td>\n",
       "      <td>0</td>\n",
       "    </tr>\n",
       "    <tr>\n",
       "      <th>1</th>\n",
       "      <td>Chhattisgarh</td>\n",
       "      <td>36</td>\n",
       "      <td>0</td>\n",
       "      <td>32</td>\n",
       "      <td>0</td>\n",
       "    </tr>\n",
       "    <tr>\n",
       "      <th>2</th>\n",
       "      <td>Delhi</td>\n",
       "      <td>2376</td>\n",
       "      <td>1</td>\n",
       "      <td>857</td>\n",
       "      <td>1</td>\n",
       "    </tr>\n",
       "    <tr>\n",
       "      <th>3</th>\n",
       "      <td>Gujarat</td>\n",
       "      <td>2624</td>\n",
       "      <td>0</td>\n",
       "      <td>265</td>\n",
       "      <td>3</td>\n",
       "    </tr>\n",
       "    <tr>\n",
       "      <th>4</th>\n",
       "      <td>Haryana</td>\n",
       "      <td>272</td>\n",
       "      <td>14</td>\n",
       "      <td>186</td>\n",
       "      <td>0</td>\n",
       "    </tr>\n",
       "    <tr>\n",
       "      <th>5</th>\n",
       "      <td>Himachal Pradesh</td>\n",
       "      <td>40</td>\n",
       "      <td>0</td>\n",
       "      <td>18</td>\n",
       "      <td>1</td>\n",
       "    </tr>\n",
       "    <tr>\n",
       "      <th>6</th>\n",
       "      <td>Karnataka</td>\n",
       "      <td>463</td>\n",
       "      <td>0</td>\n",
       "      <td>158</td>\n",
       "      <td>2</td>\n",
       "    </tr>\n",
       "    <tr>\n",
       "      <th>7</th>\n",
       "      <td>Kerala</td>\n",
       "      <td>448</td>\n",
       "      <td>7</td>\n",
       "      <td>338</td>\n",
       "      <td>0</td>\n",
       "    </tr>\n",
       "    <tr>\n",
       "      <th>8</th>\n",
       "      <td>Madhya Pradesh</td>\n",
       "      <td>1852</td>\n",
       "      <td>0</td>\n",
       "      <td>210</td>\n",
       "      <td>1</td>\n",
       "    </tr>\n",
       "    <tr>\n",
       "      <th>9</th>\n",
       "      <td>Maharashtra</td>\n",
       "      <td>6430</td>\n",
       "      <td>3</td>\n",
       "      <td>957</td>\n",
       "      <td>4</td>\n",
       "    </tr>\n",
       "    <tr>\n",
       "      <th>10</th>\n",
       "      <td>Odisha</td>\n",
       "      <td>90</td>\n",
       "      <td>0</td>\n",
       "      <td>33</td>\n",
       "      <td>0</td>\n",
       "    </tr>\n",
       "    <tr>\n",
       "      <th>11</th>\n",
       "      <td>Puducherry</td>\n",
       "      <td>1</td>\n",
       "      <td>0</td>\n",
       "      <td>4</td>\n",
       "      <td>0</td>\n",
       "    </tr>\n",
       "    <tr>\n",
       "      <th>12</th>\n",
       "      <td>Punjab</td>\n",
       "      <td>277</td>\n",
       "      <td>0</td>\n",
       "      <td>70</td>\n",
       "      <td>1</td>\n",
       "    </tr>\n",
       "    <tr>\n",
       "      <th>13</th>\n",
       "      <td>Rajasthan</td>\n",
       "      <td>1964</td>\n",
       "      <td>2</td>\n",
       "      <td>493</td>\n",
       "      <td>0</td>\n",
       "    </tr>\n",
       "    <tr>\n",
       "      <th>14</th>\n",
       "      <td>Tamil Nadu</td>\n",
       "      <td>1683</td>\n",
       "      <td>3</td>\n",
       "      <td>866</td>\n",
       "      <td>1</td>\n",
       "    </tr>\n",
       "    <tr>\n",
       "      <th>15</th>\n",
       "      <td>Telengana</td>\n",
       "      <td>984</td>\n",
       "      <td>11</td>\n",
       "      <td>291</td>\n",
       "      <td>0</td>\n",
       "    </tr>\n",
       "    <tr>\n",
       "      <th>16</th>\n",
       "      <td>Chandigarh</td>\n",
       "      <td>27</td>\n",
       "      <td>0</td>\n",
       "      <td>15</td>\n",
       "      <td>0</td>\n",
       "    </tr>\n",
       "    <tr>\n",
       "      <th>17</th>\n",
       "      <td>Jammu and Kashmir</td>\n",
       "      <td>427</td>\n",
       "      <td>0</td>\n",
       "      <td>109</td>\n",
       "      <td>1</td>\n",
       "    </tr>\n",
       "    <tr>\n",
       "      <th>18</th>\n",
       "      <td>Ladakh</td>\n",
       "      <td>13</td>\n",
       "      <td>0</td>\n",
       "      <td>16</td>\n",
       "      <td>0</td>\n",
       "    </tr>\n",
       "    <tr>\n",
       "      <th>19</th>\n",
       "      <td>Uttar Pradesh</td>\n",
       "      <td>1604</td>\n",
       "      <td>1</td>\n",
       "      <td>248</td>\n",
       "      <td>0</td>\n",
       "    </tr>\n",
       "    <tr>\n",
       "      <th>20</th>\n",
       "      <td>Uttarakhand</td>\n",
       "      <td>47</td>\n",
       "      <td>0</td>\n",
       "      <td>25</td>\n",
       "      <td>0</td>\n",
       "    </tr>\n",
       "    <tr>\n",
       "      <th>21</th>\n",
       "      <td>West Bengal</td>\n",
       "      <td>514</td>\n",
       "      <td>0</td>\n",
       "      <td>103</td>\n",
       "      <td>1</td>\n",
       "    </tr>\n",
       "    <tr>\n",
       "      <th>22</th>\n",
       "      <td>Bihar</td>\n",
       "      <td>176</td>\n",
       "      <td>0</td>\n",
       "      <td>44</td>\n",
       "      <td>1</td>\n",
       "    </tr>\n",
       "    <tr>\n",
       "      <th>23</th>\n",
       "      <td>Mizoram</td>\n",
       "      <td>1</td>\n",
       "      <td>0</td>\n",
       "      <td>0</td>\n",
       "      <td>0</td>\n",
       "    </tr>\n",
       "    <tr>\n",
       "      <th>24</th>\n",
       "      <td>Goa</td>\n",
       "      <td>6</td>\n",
       "      <td>0</td>\n",
       "      <td>6</td>\n",
       "      <td>0</td>\n",
       "    </tr>\n",
       "    <tr>\n",
       "      <th>25</th>\n",
       "      <td>Manipur</td>\n",
       "      <td>1</td>\n",
       "      <td>0</td>\n",
       "      <td>1</td>\n",
       "      <td>0</td>\n",
       "    </tr>\n",
       "    <tr>\n",
       "      <th>26</th>\n",
       "      <td>Jharkhand</td>\n",
       "      <td>56</td>\n",
       "      <td>0</td>\n",
       "      <td>8</td>\n",
       "      <td>3</td>\n",
       "    </tr>\n",
       "  </tbody>\n",
       "</table>\n",
       "</div>"
      ],
      "text/plain": [
       "   Name of State / UT  Total Confirmed cases (Indian National)  \\\n",
       "0      Andhra Pradesh                                      955   \n",
       "1        Chhattisgarh                                       36   \n",
       "2               Delhi                                     2376   \n",
       "3             Gujarat                                     2624   \n",
       "4             Haryana                                      272   \n",
       "5    Himachal Pradesh                                       40   \n",
       "6           Karnataka                                      463   \n",
       "7              Kerala                                      448   \n",
       "8      Madhya Pradesh                                     1852   \n",
       "9         Maharashtra                                     6430   \n",
       "10             Odisha                                       90   \n",
       "11         Puducherry                                        1   \n",
       "12             Punjab                                      277   \n",
       "13          Rajasthan                                     1964   \n",
       "14         Tamil Nadu                                     1683   \n",
       "15          Telengana                                      984   \n",
       "16         Chandigarh                                       27   \n",
       "17  Jammu and Kashmir                                      427   \n",
       "18             Ladakh                                       13   \n",
       "19      Uttar Pradesh                                     1604   \n",
       "20        Uttarakhand                                       47   \n",
       "21        West Bengal                                      514   \n",
       "22              Bihar                                      176   \n",
       "23            Mizoram                                        1   \n",
       "24                Goa                                        6   \n",
       "25            Manipur                                        1   \n",
       "26          Jharkhand                                       56   \n",
       "\n",
       "    Total Confirmed cases ( Foreign National )  Cured  Death  \n",
       "0                                            0     11      0  \n",
       "1                                            0     32      0  \n",
       "2                                            1    857      1  \n",
       "3                                            0    265      3  \n",
       "4                                           14    186      0  \n",
       "5                                            0     18      1  \n",
       "6                                            0    158      2  \n",
       "7                                            7    338      0  \n",
       "8                                            0    210      1  \n",
       "9                                            3    957      4  \n",
       "10                                           0     33      0  \n",
       "11                                           0      4      0  \n",
       "12                                           0     70      1  \n",
       "13                                           2    493      0  \n",
       "14                                           3    866      1  \n",
       "15                                          11    291      0  \n",
       "16                                           0     15      0  \n",
       "17                                           0    109      1  \n",
       "18                                           0     16      0  \n",
       "19                                           1    248      0  \n",
       "20                                           0     25      0  \n",
       "21                                           0    103      1  \n",
       "22                                           0     44      1  \n",
       "23                                           0      0      0  \n",
       "24                                           0      6      0  \n",
       "25                                           0      1      0  \n",
       "26                                           0      8      3  "
      ]
     },
     "execution_count": 5,
     "metadata": {},
     "output_type": "execute_result"
    }
   ],
   "source": [
    "df"
   ]
  },
  {
   "cell_type": "code",
   "execution_count": 6,
   "metadata": {},
   "outputs": [],
   "source": [
    "df[\"Total Cases\"]=df[\"Total Confirmed cases (Indian National)\"]+df[\"Total Confirmed cases ( Foreign National )\"]"
   ]
  },
  {
   "cell_type": "code",
   "execution_count": 7,
   "metadata": {},
   "outputs": [
    {
     "data": {
      "text/html": [
       "<div>\n",
       "<style scoped>\n",
       "    .dataframe tbody tr th:only-of-type {\n",
       "        vertical-align: middle;\n",
       "    }\n",
       "\n",
       "    .dataframe tbody tr th {\n",
       "        vertical-align: top;\n",
       "    }\n",
       "\n",
       "    .dataframe thead th {\n",
       "        text-align: right;\n",
       "    }\n",
       "</style>\n",
       "<table border=\"1\" class=\"dataframe\">\n",
       "  <thead>\n",
       "    <tr style=\"text-align: right;\">\n",
       "      <th></th>\n",
       "      <th>Name of State / UT</th>\n",
       "      <th>Total Confirmed cases (Indian National)</th>\n",
       "      <th>Total Confirmed cases ( Foreign National )</th>\n",
       "      <th>Cured</th>\n",
       "      <th>Death</th>\n",
       "      <th>Total Cases</th>\n",
       "    </tr>\n",
       "  </thead>\n",
       "  <tbody>\n",
       "    <tr>\n",
       "      <th>0</th>\n",
       "      <td>Andhra Pradesh</td>\n",
       "      <td>955</td>\n",
       "      <td>0</td>\n",
       "      <td>11</td>\n",
       "      <td>0</td>\n",
       "      <td>955</td>\n",
       "    </tr>\n",
       "    <tr>\n",
       "      <th>1</th>\n",
       "      <td>Chhattisgarh</td>\n",
       "      <td>36</td>\n",
       "      <td>0</td>\n",
       "      <td>32</td>\n",
       "      <td>0</td>\n",
       "      <td>36</td>\n",
       "    </tr>\n",
       "    <tr>\n",
       "      <th>2</th>\n",
       "      <td>Delhi</td>\n",
       "      <td>2376</td>\n",
       "      <td>1</td>\n",
       "      <td>857</td>\n",
       "      <td>1</td>\n",
       "      <td>2377</td>\n",
       "    </tr>\n",
       "    <tr>\n",
       "      <th>3</th>\n",
       "      <td>Gujarat</td>\n",
       "      <td>2624</td>\n",
       "      <td>0</td>\n",
       "      <td>265</td>\n",
       "      <td>3</td>\n",
       "      <td>2624</td>\n",
       "    </tr>\n",
       "    <tr>\n",
       "      <th>4</th>\n",
       "      <td>Haryana</td>\n",
       "      <td>272</td>\n",
       "      <td>14</td>\n",
       "      <td>186</td>\n",
       "      <td>0</td>\n",
       "      <td>286</td>\n",
       "    </tr>\n",
       "    <tr>\n",
       "      <th>5</th>\n",
       "      <td>Himachal Pradesh</td>\n",
       "      <td>40</td>\n",
       "      <td>0</td>\n",
       "      <td>18</td>\n",
       "      <td>1</td>\n",
       "      <td>40</td>\n",
       "    </tr>\n",
       "    <tr>\n",
       "      <th>6</th>\n",
       "      <td>Karnataka</td>\n",
       "      <td>463</td>\n",
       "      <td>0</td>\n",
       "      <td>158</td>\n",
       "      <td>2</td>\n",
       "      <td>463</td>\n",
       "    </tr>\n",
       "    <tr>\n",
       "      <th>7</th>\n",
       "      <td>Kerala</td>\n",
       "      <td>448</td>\n",
       "      <td>7</td>\n",
       "      <td>338</td>\n",
       "      <td>0</td>\n",
       "      <td>455</td>\n",
       "    </tr>\n",
       "    <tr>\n",
       "      <th>8</th>\n",
       "      <td>Madhya Pradesh</td>\n",
       "      <td>1852</td>\n",
       "      <td>0</td>\n",
       "      <td>210</td>\n",
       "      <td>1</td>\n",
       "      <td>1852</td>\n",
       "    </tr>\n",
       "    <tr>\n",
       "      <th>9</th>\n",
       "      <td>Maharashtra</td>\n",
       "      <td>6430</td>\n",
       "      <td>3</td>\n",
       "      <td>957</td>\n",
       "      <td>4</td>\n",
       "      <td>6433</td>\n",
       "    </tr>\n",
       "    <tr>\n",
       "      <th>10</th>\n",
       "      <td>Odisha</td>\n",
       "      <td>90</td>\n",
       "      <td>0</td>\n",
       "      <td>33</td>\n",
       "      <td>0</td>\n",
       "      <td>90</td>\n",
       "    </tr>\n",
       "    <tr>\n",
       "      <th>11</th>\n",
       "      <td>Puducherry</td>\n",
       "      <td>1</td>\n",
       "      <td>0</td>\n",
       "      <td>4</td>\n",
       "      <td>0</td>\n",
       "      <td>1</td>\n",
       "    </tr>\n",
       "    <tr>\n",
       "      <th>12</th>\n",
       "      <td>Punjab</td>\n",
       "      <td>277</td>\n",
       "      <td>0</td>\n",
       "      <td>70</td>\n",
       "      <td>1</td>\n",
       "      <td>277</td>\n",
       "    </tr>\n",
       "    <tr>\n",
       "      <th>13</th>\n",
       "      <td>Rajasthan</td>\n",
       "      <td>1964</td>\n",
       "      <td>2</td>\n",
       "      <td>493</td>\n",
       "      <td>0</td>\n",
       "      <td>1966</td>\n",
       "    </tr>\n",
       "    <tr>\n",
       "      <th>14</th>\n",
       "      <td>Tamil Nadu</td>\n",
       "      <td>1683</td>\n",
       "      <td>3</td>\n",
       "      <td>866</td>\n",
       "      <td>1</td>\n",
       "      <td>1686</td>\n",
       "    </tr>\n",
       "    <tr>\n",
       "      <th>15</th>\n",
       "      <td>Telengana</td>\n",
       "      <td>984</td>\n",
       "      <td>11</td>\n",
       "      <td>291</td>\n",
       "      <td>0</td>\n",
       "      <td>995</td>\n",
       "    </tr>\n",
       "    <tr>\n",
       "      <th>16</th>\n",
       "      <td>Chandigarh</td>\n",
       "      <td>27</td>\n",
       "      <td>0</td>\n",
       "      <td>15</td>\n",
       "      <td>0</td>\n",
       "      <td>27</td>\n",
       "    </tr>\n",
       "    <tr>\n",
       "      <th>17</th>\n",
       "      <td>Jammu and Kashmir</td>\n",
       "      <td>427</td>\n",
       "      <td>0</td>\n",
       "      <td>109</td>\n",
       "      <td>1</td>\n",
       "      <td>427</td>\n",
       "    </tr>\n",
       "    <tr>\n",
       "      <th>18</th>\n",
       "      <td>Ladakh</td>\n",
       "      <td>13</td>\n",
       "      <td>0</td>\n",
       "      <td>16</td>\n",
       "      <td>0</td>\n",
       "      <td>13</td>\n",
       "    </tr>\n",
       "    <tr>\n",
       "      <th>19</th>\n",
       "      <td>Uttar Pradesh</td>\n",
       "      <td>1604</td>\n",
       "      <td>1</td>\n",
       "      <td>248</td>\n",
       "      <td>0</td>\n",
       "      <td>1605</td>\n",
       "    </tr>\n",
       "    <tr>\n",
       "      <th>20</th>\n",
       "      <td>Uttarakhand</td>\n",
       "      <td>47</td>\n",
       "      <td>0</td>\n",
       "      <td>25</td>\n",
       "      <td>0</td>\n",
       "      <td>47</td>\n",
       "    </tr>\n",
       "    <tr>\n",
       "      <th>21</th>\n",
       "      <td>West Bengal</td>\n",
       "      <td>514</td>\n",
       "      <td>0</td>\n",
       "      <td>103</td>\n",
       "      <td>1</td>\n",
       "      <td>514</td>\n",
       "    </tr>\n",
       "    <tr>\n",
       "      <th>22</th>\n",
       "      <td>Bihar</td>\n",
       "      <td>176</td>\n",
       "      <td>0</td>\n",
       "      <td>44</td>\n",
       "      <td>1</td>\n",
       "      <td>176</td>\n",
       "    </tr>\n",
       "    <tr>\n",
       "      <th>23</th>\n",
       "      <td>Mizoram</td>\n",
       "      <td>1</td>\n",
       "      <td>0</td>\n",
       "      <td>0</td>\n",
       "      <td>0</td>\n",
       "      <td>1</td>\n",
       "    </tr>\n",
       "    <tr>\n",
       "      <th>24</th>\n",
       "      <td>Goa</td>\n",
       "      <td>6</td>\n",
       "      <td>0</td>\n",
       "      <td>6</td>\n",
       "      <td>0</td>\n",
       "      <td>6</td>\n",
       "    </tr>\n",
       "    <tr>\n",
       "      <th>25</th>\n",
       "      <td>Manipur</td>\n",
       "      <td>1</td>\n",
       "      <td>0</td>\n",
       "      <td>1</td>\n",
       "      <td>0</td>\n",
       "      <td>1</td>\n",
       "    </tr>\n",
       "    <tr>\n",
       "      <th>26</th>\n",
       "      <td>Jharkhand</td>\n",
       "      <td>56</td>\n",
       "      <td>0</td>\n",
       "      <td>8</td>\n",
       "      <td>3</td>\n",
       "      <td>56</td>\n",
       "    </tr>\n",
       "  </tbody>\n",
       "</table>\n",
       "</div>"
      ],
      "text/plain": [
       "   Name of State / UT  Total Confirmed cases (Indian National)  \\\n",
       "0      Andhra Pradesh                                      955   \n",
       "1        Chhattisgarh                                       36   \n",
       "2               Delhi                                     2376   \n",
       "3             Gujarat                                     2624   \n",
       "4             Haryana                                      272   \n",
       "5    Himachal Pradesh                                       40   \n",
       "6           Karnataka                                      463   \n",
       "7              Kerala                                      448   \n",
       "8      Madhya Pradesh                                     1852   \n",
       "9         Maharashtra                                     6430   \n",
       "10             Odisha                                       90   \n",
       "11         Puducherry                                        1   \n",
       "12             Punjab                                      277   \n",
       "13          Rajasthan                                     1964   \n",
       "14         Tamil Nadu                                     1683   \n",
       "15          Telengana                                      984   \n",
       "16         Chandigarh                                       27   \n",
       "17  Jammu and Kashmir                                      427   \n",
       "18             Ladakh                                       13   \n",
       "19      Uttar Pradesh                                     1604   \n",
       "20        Uttarakhand                                       47   \n",
       "21        West Bengal                                      514   \n",
       "22              Bihar                                      176   \n",
       "23            Mizoram                                        1   \n",
       "24                Goa                                        6   \n",
       "25            Manipur                                        1   \n",
       "26          Jharkhand                                       56   \n",
       "\n",
       "    Total Confirmed cases ( Foreign National )  Cured  Death  Total Cases  \n",
       "0                                            0     11      0          955  \n",
       "1                                            0     32      0           36  \n",
       "2                                            1    857      1         2377  \n",
       "3                                            0    265      3         2624  \n",
       "4                                           14    186      0          286  \n",
       "5                                            0     18      1           40  \n",
       "6                                            0    158      2          463  \n",
       "7                                            7    338      0          455  \n",
       "8                                            0    210      1         1852  \n",
       "9                                            3    957      4         6433  \n",
       "10                                           0     33      0           90  \n",
       "11                                           0      4      0            1  \n",
       "12                                           0     70      1          277  \n",
       "13                                           2    493      0         1966  \n",
       "14                                           3    866      1         1686  \n",
       "15                                          11    291      0          995  \n",
       "16                                           0     15      0           27  \n",
       "17                                           0    109      1          427  \n",
       "18                                           0     16      0           13  \n",
       "19                                           1    248      0         1605  \n",
       "20                                           0     25      0           47  \n",
       "21                                           0    103      1          514  \n",
       "22                                           0     44      1          176  \n",
       "23                                           0      0      0            1  \n",
       "24                                           0      6      0            6  \n",
       "25                                           0      1      0            1  \n",
       "26                                           0      8      3           56  "
      ]
     },
     "execution_count": 7,
     "metadata": {},
     "output_type": "execute_result"
    }
   ],
   "source": [
    "df"
   ]
  },
  {
   "cell_type": "code",
   "execution_count": 8,
   "metadata": {},
   "outputs": [
    {
     "name": "stdout",
     "output_type": "stream",
     "text": [
      "23409\n"
     ]
    }
   ],
   "source": [
    "total_cases_overall=df[\"Total Cases\"].sum()\n",
    "print(total_cases_overall)"
   ]
  },
  {
   "cell_type": "code",
   "execution_count": 9,
   "metadata": {},
   "outputs": [],
   "source": [
    "df[\"Active Cases\"]=df[\"Total Cases\"]-df[\"Cured\"]"
   ]
  },
  {
   "cell_type": "code",
   "execution_count": 10,
   "metadata": {},
   "outputs": [
    {
     "data": {
      "text/html": [
       "<div>\n",
       "<style scoped>\n",
       "    .dataframe tbody tr th:only-of-type {\n",
       "        vertical-align: middle;\n",
       "    }\n",
       "\n",
       "    .dataframe tbody tr th {\n",
       "        vertical-align: top;\n",
       "    }\n",
       "\n",
       "    .dataframe thead th {\n",
       "        text-align: right;\n",
       "    }\n",
       "</style>\n",
       "<table border=\"1\" class=\"dataframe\">\n",
       "  <thead>\n",
       "    <tr style=\"text-align: right;\">\n",
       "      <th></th>\n",
       "      <th>Name of State / UT</th>\n",
       "      <th>Total Confirmed cases (Indian National)</th>\n",
       "      <th>Total Confirmed cases ( Foreign National )</th>\n",
       "      <th>Cured</th>\n",
       "      <th>Death</th>\n",
       "      <th>Total Cases</th>\n",
       "      <th>Active Cases</th>\n",
       "    </tr>\n",
       "  </thead>\n",
       "  <tbody>\n",
       "    <tr>\n",
       "      <th>0</th>\n",
       "      <td>Andhra Pradesh</td>\n",
       "      <td>955</td>\n",
       "      <td>0</td>\n",
       "      <td>11</td>\n",
       "      <td>0</td>\n",
       "      <td>955</td>\n",
       "      <td>944</td>\n",
       "    </tr>\n",
       "    <tr>\n",
       "      <th>1</th>\n",
       "      <td>Chhattisgarh</td>\n",
       "      <td>36</td>\n",
       "      <td>0</td>\n",
       "      <td>32</td>\n",
       "      <td>0</td>\n",
       "      <td>36</td>\n",
       "      <td>4</td>\n",
       "    </tr>\n",
       "    <tr>\n",
       "      <th>2</th>\n",
       "      <td>Delhi</td>\n",
       "      <td>2376</td>\n",
       "      <td>1</td>\n",
       "      <td>857</td>\n",
       "      <td>1</td>\n",
       "      <td>2377</td>\n",
       "      <td>1520</td>\n",
       "    </tr>\n",
       "    <tr>\n",
       "      <th>3</th>\n",
       "      <td>Gujarat</td>\n",
       "      <td>2624</td>\n",
       "      <td>0</td>\n",
       "      <td>265</td>\n",
       "      <td>3</td>\n",
       "      <td>2624</td>\n",
       "      <td>2359</td>\n",
       "    </tr>\n",
       "    <tr>\n",
       "      <th>4</th>\n",
       "      <td>Haryana</td>\n",
       "      <td>272</td>\n",
       "      <td>14</td>\n",
       "      <td>186</td>\n",
       "      <td>0</td>\n",
       "      <td>286</td>\n",
       "      <td>100</td>\n",
       "    </tr>\n",
       "    <tr>\n",
       "      <th>5</th>\n",
       "      <td>Himachal Pradesh</td>\n",
       "      <td>40</td>\n",
       "      <td>0</td>\n",
       "      <td>18</td>\n",
       "      <td>1</td>\n",
       "      <td>40</td>\n",
       "      <td>22</td>\n",
       "    </tr>\n",
       "    <tr>\n",
       "      <th>6</th>\n",
       "      <td>Karnataka</td>\n",
       "      <td>463</td>\n",
       "      <td>0</td>\n",
       "      <td>158</td>\n",
       "      <td>2</td>\n",
       "      <td>463</td>\n",
       "      <td>305</td>\n",
       "    </tr>\n",
       "    <tr>\n",
       "      <th>7</th>\n",
       "      <td>Kerala</td>\n",
       "      <td>448</td>\n",
       "      <td>7</td>\n",
       "      <td>338</td>\n",
       "      <td>0</td>\n",
       "      <td>455</td>\n",
       "      <td>117</td>\n",
       "    </tr>\n",
       "    <tr>\n",
       "      <th>8</th>\n",
       "      <td>Madhya Pradesh</td>\n",
       "      <td>1852</td>\n",
       "      <td>0</td>\n",
       "      <td>210</td>\n",
       "      <td>1</td>\n",
       "      <td>1852</td>\n",
       "      <td>1642</td>\n",
       "    </tr>\n",
       "    <tr>\n",
       "      <th>9</th>\n",
       "      <td>Maharashtra</td>\n",
       "      <td>6430</td>\n",
       "      <td>3</td>\n",
       "      <td>957</td>\n",
       "      <td>4</td>\n",
       "      <td>6433</td>\n",
       "      <td>5476</td>\n",
       "    </tr>\n",
       "    <tr>\n",
       "      <th>10</th>\n",
       "      <td>Odisha</td>\n",
       "      <td>90</td>\n",
       "      <td>0</td>\n",
       "      <td>33</td>\n",
       "      <td>0</td>\n",
       "      <td>90</td>\n",
       "      <td>57</td>\n",
       "    </tr>\n",
       "    <tr>\n",
       "      <th>11</th>\n",
       "      <td>Puducherry</td>\n",
       "      <td>1</td>\n",
       "      <td>0</td>\n",
       "      <td>4</td>\n",
       "      <td>0</td>\n",
       "      <td>1</td>\n",
       "      <td>-3</td>\n",
       "    </tr>\n",
       "    <tr>\n",
       "      <th>12</th>\n",
       "      <td>Punjab</td>\n",
       "      <td>277</td>\n",
       "      <td>0</td>\n",
       "      <td>70</td>\n",
       "      <td>1</td>\n",
       "      <td>277</td>\n",
       "      <td>207</td>\n",
       "    </tr>\n",
       "    <tr>\n",
       "      <th>13</th>\n",
       "      <td>Rajasthan</td>\n",
       "      <td>1964</td>\n",
       "      <td>2</td>\n",
       "      <td>493</td>\n",
       "      <td>0</td>\n",
       "      <td>1966</td>\n",
       "      <td>1473</td>\n",
       "    </tr>\n",
       "    <tr>\n",
       "      <th>14</th>\n",
       "      <td>Tamil Nadu</td>\n",
       "      <td>1683</td>\n",
       "      <td>3</td>\n",
       "      <td>866</td>\n",
       "      <td>1</td>\n",
       "      <td>1686</td>\n",
       "      <td>820</td>\n",
       "    </tr>\n",
       "    <tr>\n",
       "      <th>15</th>\n",
       "      <td>Telengana</td>\n",
       "      <td>984</td>\n",
       "      <td>11</td>\n",
       "      <td>291</td>\n",
       "      <td>0</td>\n",
       "      <td>995</td>\n",
       "      <td>704</td>\n",
       "    </tr>\n",
       "    <tr>\n",
       "      <th>16</th>\n",
       "      <td>Chandigarh</td>\n",
       "      <td>27</td>\n",
       "      <td>0</td>\n",
       "      <td>15</td>\n",
       "      <td>0</td>\n",
       "      <td>27</td>\n",
       "      <td>12</td>\n",
       "    </tr>\n",
       "    <tr>\n",
       "      <th>17</th>\n",
       "      <td>Jammu and Kashmir</td>\n",
       "      <td>427</td>\n",
       "      <td>0</td>\n",
       "      <td>109</td>\n",
       "      <td>1</td>\n",
       "      <td>427</td>\n",
       "      <td>318</td>\n",
       "    </tr>\n",
       "    <tr>\n",
       "      <th>18</th>\n",
       "      <td>Ladakh</td>\n",
       "      <td>13</td>\n",
       "      <td>0</td>\n",
       "      <td>16</td>\n",
       "      <td>0</td>\n",
       "      <td>13</td>\n",
       "      <td>-3</td>\n",
       "    </tr>\n",
       "    <tr>\n",
       "      <th>19</th>\n",
       "      <td>Uttar Pradesh</td>\n",
       "      <td>1604</td>\n",
       "      <td>1</td>\n",
       "      <td>248</td>\n",
       "      <td>0</td>\n",
       "      <td>1605</td>\n",
       "      <td>1357</td>\n",
       "    </tr>\n",
       "    <tr>\n",
       "      <th>20</th>\n",
       "      <td>Uttarakhand</td>\n",
       "      <td>47</td>\n",
       "      <td>0</td>\n",
       "      <td>25</td>\n",
       "      <td>0</td>\n",
       "      <td>47</td>\n",
       "      <td>22</td>\n",
       "    </tr>\n",
       "    <tr>\n",
       "      <th>21</th>\n",
       "      <td>West Bengal</td>\n",
       "      <td>514</td>\n",
       "      <td>0</td>\n",
       "      <td>103</td>\n",
       "      <td>1</td>\n",
       "      <td>514</td>\n",
       "      <td>411</td>\n",
       "    </tr>\n",
       "    <tr>\n",
       "      <th>22</th>\n",
       "      <td>Bihar</td>\n",
       "      <td>176</td>\n",
       "      <td>0</td>\n",
       "      <td>44</td>\n",
       "      <td>1</td>\n",
       "      <td>176</td>\n",
       "      <td>132</td>\n",
       "    </tr>\n",
       "    <tr>\n",
       "      <th>23</th>\n",
       "      <td>Mizoram</td>\n",
       "      <td>1</td>\n",
       "      <td>0</td>\n",
       "      <td>0</td>\n",
       "      <td>0</td>\n",
       "      <td>1</td>\n",
       "      <td>1</td>\n",
       "    </tr>\n",
       "    <tr>\n",
       "      <th>24</th>\n",
       "      <td>Goa</td>\n",
       "      <td>6</td>\n",
       "      <td>0</td>\n",
       "      <td>6</td>\n",
       "      <td>0</td>\n",
       "      <td>6</td>\n",
       "      <td>0</td>\n",
       "    </tr>\n",
       "    <tr>\n",
       "      <th>25</th>\n",
       "      <td>Manipur</td>\n",
       "      <td>1</td>\n",
       "      <td>0</td>\n",
       "      <td>1</td>\n",
       "      <td>0</td>\n",
       "      <td>1</td>\n",
       "      <td>0</td>\n",
       "    </tr>\n",
       "    <tr>\n",
       "      <th>26</th>\n",
       "      <td>Jharkhand</td>\n",
       "      <td>56</td>\n",
       "      <td>0</td>\n",
       "      <td>8</td>\n",
       "      <td>3</td>\n",
       "      <td>56</td>\n",
       "      <td>48</td>\n",
       "    </tr>\n",
       "  </tbody>\n",
       "</table>\n",
       "</div>"
      ],
      "text/plain": [
       "   Name of State / UT  Total Confirmed cases (Indian National)  \\\n",
       "0      Andhra Pradesh                                      955   \n",
       "1        Chhattisgarh                                       36   \n",
       "2               Delhi                                     2376   \n",
       "3             Gujarat                                     2624   \n",
       "4             Haryana                                      272   \n",
       "5    Himachal Pradesh                                       40   \n",
       "6           Karnataka                                      463   \n",
       "7              Kerala                                      448   \n",
       "8      Madhya Pradesh                                     1852   \n",
       "9         Maharashtra                                     6430   \n",
       "10             Odisha                                       90   \n",
       "11         Puducherry                                        1   \n",
       "12             Punjab                                      277   \n",
       "13          Rajasthan                                     1964   \n",
       "14         Tamil Nadu                                     1683   \n",
       "15          Telengana                                      984   \n",
       "16         Chandigarh                                       27   \n",
       "17  Jammu and Kashmir                                      427   \n",
       "18             Ladakh                                       13   \n",
       "19      Uttar Pradesh                                     1604   \n",
       "20        Uttarakhand                                       47   \n",
       "21        West Bengal                                      514   \n",
       "22              Bihar                                      176   \n",
       "23            Mizoram                                        1   \n",
       "24                Goa                                        6   \n",
       "25            Manipur                                        1   \n",
       "26          Jharkhand                                       56   \n",
       "\n",
       "    Total Confirmed cases ( Foreign National )  Cured  Death  Total Cases  \\\n",
       "0                                            0     11      0          955   \n",
       "1                                            0     32      0           36   \n",
       "2                                            1    857      1         2377   \n",
       "3                                            0    265      3         2624   \n",
       "4                                           14    186      0          286   \n",
       "5                                            0     18      1           40   \n",
       "6                                            0    158      2          463   \n",
       "7                                            7    338      0          455   \n",
       "8                                            0    210      1         1852   \n",
       "9                                            3    957      4         6433   \n",
       "10                                           0     33      0           90   \n",
       "11                                           0      4      0            1   \n",
       "12                                           0     70      1          277   \n",
       "13                                           2    493      0         1966   \n",
       "14                                           3    866      1         1686   \n",
       "15                                          11    291      0          995   \n",
       "16                                           0     15      0           27   \n",
       "17                                           0    109      1          427   \n",
       "18                                           0     16      0           13   \n",
       "19                                           1    248      0         1605   \n",
       "20                                           0     25      0           47   \n",
       "21                                           0    103      1          514   \n",
       "22                                           0     44      1          176   \n",
       "23                                           0      0      0            1   \n",
       "24                                           0      6      0            6   \n",
       "25                                           0      1      0            1   \n",
       "26                                           0      8      3           56   \n",
       "\n",
       "    Active Cases  \n",
       "0            944  \n",
       "1              4  \n",
       "2           1520  \n",
       "3           2359  \n",
       "4            100  \n",
       "5             22  \n",
       "6            305  \n",
       "7            117  \n",
       "8           1642  \n",
       "9           5476  \n",
       "10            57  \n",
       "11            -3  \n",
       "12           207  \n",
       "13          1473  \n",
       "14           820  \n",
       "15           704  \n",
       "16            12  \n",
       "17           318  \n",
       "18            -3  \n",
       "19          1357  \n",
       "20            22  \n",
       "21           411  \n",
       "22           132  \n",
       "23             1  \n",
       "24             0  \n",
       "25             0  \n",
       "26            48  "
      ]
     },
     "execution_count": 10,
     "metadata": {},
     "output_type": "execute_result"
    }
   ],
   "source": [
    "df"
   ]
  },
  {
   "cell_type": "code",
   "execution_count": 11,
   "metadata": {},
   "outputs": [
    {
     "data": {
      "text/html": [
       "<style  type=\"text/css\" >\n",
       "    #T_cd06ad02_86ef_11ea_bc21_54e1ad53e9d8row0_col1 {\n",
       "            background-color:  #fedaca;\n",
       "            color:  #000000;\n",
       "        }    #T_cd06ad02_86ef_11ea_bc21_54e1ad53e9d8row0_col2 {\n",
       "            background-color:  #fff5f0;\n",
       "            color:  #000000;\n",
       "        }    #T_cd06ad02_86ef_11ea_bc21_54e1ad53e9d8row0_col3 {\n",
       "            background-color:  #fff4ee;\n",
       "            color:  #000000;\n",
       "        }    #T_cd06ad02_86ef_11ea_bc21_54e1ad53e9d8row0_col4 {\n",
       "            background-color:  #fff5f0;\n",
       "            color:  #000000;\n",
       "        }    #T_cd06ad02_86ef_11ea_bc21_54e1ad53e9d8row0_col5 {\n",
       "            background-color:  #fedaca;\n",
       "            color:  #000000;\n",
       "        }    #T_cd06ad02_86ef_11ea_bc21_54e1ad53e9d8row0_col6 {\n",
       "            background-color:  #fdd2bf;\n",
       "            color:  #000000;\n",
       "        }    #T_cd06ad02_86ef_11ea_bc21_54e1ad53e9d8row1_col1 {\n",
       "            background-color:  #fff4ef;\n",
       "            color:  #000000;\n",
       "        }    #T_cd06ad02_86ef_11ea_bc21_54e1ad53e9d8row1_col2 {\n",
       "            background-color:  #fff5f0;\n",
       "            color:  #000000;\n",
       "        }    #T_cd06ad02_86ef_11ea_bc21_54e1ad53e9d8row1_col3 {\n",
       "            background-color:  #fff0e8;\n",
       "            color:  #000000;\n",
       "        }    #T_cd06ad02_86ef_11ea_bc21_54e1ad53e9d8row1_col4 {\n",
       "            background-color:  #fff5f0;\n",
       "            color:  #000000;\n",
       "        }    #T_cd06ad02_86ef_11ea_bc21_54e1ad53e9d8row1_col5 {\n",
       "            background-color:  #fff4ef;\n",
       "            color:  #000000;\n",
       "        }    #T_cd06ad02_86ef_11ea_bc21_54e1ad53e9d8row1_col6 {\n",
       "            background-color:  #fff5f0;\n",
       "            color:  #000000;\n",
       "        }    #T_cd06ad02_86ef_11ea_bc21_54e1ad53e9d8row2_col1 {\n",
       "            background-color:  #fc9474;\n",
       "            color:  #000000;\n",
       "        }    #T_cd06ad02_86ef_11ea_bc21_54e1ad53e9d8row2_col2 {\n",
       "            background-color:  #fee9df;\n",
       "            color:  #000000;\n",
       "        }    #T_cd06ad02_86ef_11ea_bc21_54e1ad53e9d8row2_col3 {\n",
       "            background-color:  #9a0c14;\n",
       "            color:  #f1f1f1;\n",
       "        }    #T_cd06ad02_86ef_11ea_bc21_54e1ad53e9d8row2_col4 {\n",
       "            background-color:  #fcbba1;\n",
       "            color:  #000000;\n",
       "        }    #T_cd06ad02_86ef_11ea_bc21_54e1ad53e9d8row2_col5 {\n",
       "            background-color:  #fc9474;\n",
       "            color:  #000000;\n",
       "        }    #T_cd06ad02_86ef_11ea_bc21_54e1ad53e9d8row2_col6 {\n",
       "            background-color:  #fcb296;\n",
       "            color:  #000000;\n",
       "        }    #T_cd06ad02_86ef_11ea_bc21_54e1ad53e9d8row3_col1 {\n",
       "            background-color:  #fc8767;\n",
       "            color:  #000000;\n",
       "        }    #T_cd06ad02_86ef_11ea_bc21_54e1ad53e9d8row3_col2 {\n",
       "            background-color:  #fff5f0;\n",
       "            color:  #000000;\n",
       "        }    #T_cd06ad02_86ef_11ea_bc21_54e1ad53e9d8row3_col3 {\n",
       "            background-color:  #fcb398;\n",
       "            color:  #000000;\n",
       "        }    #T_cd06ad02_86ef_11ea_bc21_54e1ad53e9d8row3_col4 {\n",
       "            background-color:  #ca181d;\n",
       "            color:  #f1f1f1;\n",
       "        }    #T_cd06ad02_86ef_11ea_bc21_54e1ad53e9d8row3_col5 {\n",
       "            background-color:  #fc8767;\n",
       "            color:  #000000;\n",
       "        }    #T_cd06ad02_86ef_11ea_bc21_54e1ad53e9d8row3_col6 {\n",
       "            background-color:  #fc8060;\n",
       "            color:  #000000;\n",
       "        }    #T_cd06ad02_86ef_11ea_bc21_54e1ad53e9d8row4_col1 {\n",
       "            background-color:  #ffeee7;\n",
       "            color:  #000000;\n",
       "        }    #T_cd06ad02_86ef_11ea_bc21_54e1ad53e9d8row4_col2 {\n",
       "            background-color:  #67000d;\n",
       "            color:  #f1f1f1;\n",
       "        }    #T_cd06ad02_86ef_11ea_bc21_54e1ad53e9d8row4_col3 {\n",
       "            background-color:  #fdccb8;\n",
       "            color:  #000000;\n",
       "        }    #T_cd06ad02_86ef_11ea_bc21_54e1ad53e9d8row4_col4 {\n",
       "            background-color:  #fff5f0;\n",
       "            color:  #000000;\n",
       "        }    #T_cd06ad02_86ef_11ea_bc21_54e1ad53e9d8row4_col5 {\n",
       "            background-color:  #ffeee6;\n",
       "            color:  #000000;\n",
       "        }    #T_cd06ad02_86ef_11ea_bc21_54e1ad53e9d8row4_col6 {\n",
       "            background-color:  #fff2ec;\n",
       "            color:  #000000;\n",
       "        }    #T_cd06ad02_86ef_11ea_bc21_54e1ad53e9d8row5_col1 {\n",
       "            background-color:  #fff4ef;\n",
       "            color:  #000000;\n",
       "        }    #T_cd06ad02_86ef_11ea_bc21_54e1ad53e9d8row5_col2 {\n",
       "            background-color:  #fff5f0;\n",
       "            color:  #000000;\n",
       "        }    #T_cd06ad02_86ef_11ea_bc21_54e1ad53e9d8row5_col3 {\n",
       "            background-color:  #fff2ec;\n",
       "            color:  #000000;\n",
       "        }    #T_cd06ad02_86ef_11ea_bc21_54e1ad53e9d8row5_col4 {\n",
       "            background-color:  #fcbba1;\n",
       "            color:  #000000;\n",
       "        }    #T_cd06ad02_86ef_11ea_bc21_54e1ad53e9d8row5_col5 {\n",
       "            background-color:  #fff4ef;\n",
       "            color:  #000000;\n",
       "        }    #T_cd06ad02_86ef_11ea_bc21_54e1ad53e9d8row5_col6 {\n",
       "            background-color:  #fff4ef;\n",
       "            color:  #000000;\n",
       "        }    #T_cd06ad02_86ef_11ea_bc21_54e1ad53e9d8row6_col1 {\n",
       "            background-color:  #fee9df;\n",
       "            color:  #000000;\n",
       "        }    #T_cd06ad02_86ef_11ea_bc21_54e1ad53e9d8row6_col2 {\n",
       "            background-color:  #fff5f0;\n",
       "            color:  #000000;\n",
       "        }    #T_cd06ad02_86ef_11ea_bc21_54e1ad53e9d8row6_col3 {\n",
       "            background-color:  #fdd4c2;\n",
       "            color:  #000000;\n",
       "        }    #T_cd06ad02_86ef_11ea_bc21_54e1ad53e9d8row6_col4 {\n",
       "            background-color:  #fb694a;\n",
       "            color:  #000000;\n",
       "        }    #T_cd06ad02_86ef_11ea_bc21_54e1ad53e9d8row6_col5 {\n",
       "            background-color:  #fee9df;\n",
       "            color:  #000000;\n",
       "        }    #T_cd06ad02_86ef_11ea_bc21_54e1ad53e9d8row6_col6 {\n",
       "            background-color:  #ffece3;\n",
       "            color:  #000000;\n",
       "        }    #T_cd06ad02_86ef_11ea_bc21_54e1ad53e9d8row7_col1 {\n",
       "            background-color:  #feeae0;\n",
       "            color:  #000000;\n",
       "        }    #T_cd06ad02_86ef_11ea_bc21_54e1ad53e9d8row7_col2 {\n",
       "            background-color:  #fb694a;\n",
       "            color:  #000000;\n",
       "        }    #T_cd06ad02_86ef_11ea_bc21_54e1ad53e9d8row7_col3 {\n",
       "            background-color:  #fc997a;\n",
       "            color:  #000000;\n",
       "        }    #T_cd06ad02_86ef_11ea_bc21_54e1ad53e9d8row7_col4 {\n",
       "            background-color:  #fff5f0;\n",
       "            color:  #000000;\n",
       "        }    #T_cd06ad02_86ef_11ea_bc21_54e1ad53e9d8row7_col5 {\n",
       "            background-color:  #fee9df;\n",
       "            color:  #000000;\n",
       "        }    #T_cd06ad02_86ef_11ea_bc21_54e1ad53e9d8row7_col6 {\n",
       "            background-color:  #fff2eb;\n",
       "            color:  #000000;\n",
       "        }    #T_cd06ad02_86ef_11ea_bc21_54e1ad53e9d8row8_col1 {\n",
       "            background-color:  #fcaf93;\n",
       "            color:  #000000;\n",
       "        }    #T_cd06ad02_86ef_11ea_bc21_54e1ad53e9d8row8_col2 {\n",
       "            background-color:  #fff5f0;\n",
       "            color:  #000000;\n",
       "        }    #T_cd06ad02_86ef_11ea_bc21_54e1ad53e9d8row8_col3 {\n",
       "            background-color:  #fcc4ad;\n",
       "            color:  #000000;\n",
       "        }    #T_cd06ad02_86ef_11ea_bc21_54e1ad53e9d8row8_col4 {\n",
       "            background-color:  #fcbba1;\n",
       "            color:  #000000;\n",
       "        }    #T_cd06ad02_86ef_11ea_bc21_54e1ad53e9d8row8_col5 {\n",
       "            background-color:  #fcaf93;\n",
       "            color:  #000000;\n",
       "        }    #T_cd06ad02_86ef_11ea_bc21_54e1ad53e9d8row8_col6 {\n",
       "            background-color:  #fcab8f;\n",
       "            color:  #000000;\n",
       "        }    #T_cd06ad02_86ef_11ea_bc21_54e1ad53e9d8row9_col1 {\n",
       "            background-color:  #67000d;\n",
       "            color:  #f1f1f1;\n",
       "        }    #T_cd06ad02_86ef_11ea_bc21_54e1ad53e9d8row9_col2 {\n",
       "            background-color:  #fdc6b0;\n",
       "            color:  #000000;\n",
       "        }    #T_cd06ad02_86ef_11ea_bc21_54e1ad53e9d8row9_col3 {\n",
       "            background-color:  #67000d;\n",
       "            color:  #f1f1f1;\n",
       "        }    #T_cd06ad02_86ef_11ea_bc21_54e1ad53e9d8row9_col4 {\n",
       "            background-color:  #67000d;\n",
       "            color:  #f1f1f1;\n",
       "        }    #T_cd06ad02_86ef_11ea_bc21_54e1ad53e9d8row9_col5 {\n",
       "            background-color:  #67000d;\n",
       "            color:  #f1f1f1;\n",
       "        }    #T_cd06ad02_86ef_11ea_bc21_54e1ad53e9d8row9_col6 {\n",
       "            background-color:  #67000d;\n",
       "            color:  #f1f1f1;\n",
       "        }    #T_cd06ad02_86ef_11ea_bc21_54e1ad53e9d8row10_col1 {\n",
       "            background-color:  #fff3ed;\n",
       "            color:  #000000;\n",
       "        }    #T_cd06ad02_86ef_11ea_bc21_54e1ad53e9d8row10_col2 {\n",
       "            background-color:  #fff5f0;\n",
       "            color:  #000000;\n",
       "        }    #T_cd06ad02_86ef_11ea_bc21_54e1ad53e9d8row10_col3 {\n",
       "            background-color:  #fff0e8;\n",
       "            color:  #000000;\n",
       "        }    #T_cd06ad02_86ef_11ea_bc21_54e1ad53e9d8row10_col4 {\n",
       "            background-color:  #fff5f0;\n",
       "            color:  #000000;\n",
       "        }    #T_cd06ad02_86ef_11ea_bc21_54e1ad53e9d8row10_col5 {\n",
       "            background-color:  #fff3ed;\n",
       "            color:  #000000;\n",
       "        }    #T_cd06ad02_86ef_11ea_bc21_54e1ad53e9d8row10_col6 {\n",
       "            background-color:  #fff4ee;\n",
       "            color:  #000000;\n",
       "        }    #T_cd06ad02_86ef_11ea_bc21_54e1ad53e9d8row11_col1 {\n",
       "            background-color:  #fff5f0;\n",
       "            color:  #000000;\n",
       "        }    #T_cd06ad02_86ef_11ea_bc21_54e1ad53e9d8row11_col2 {\n",
       "            background-color:  #fff5f0;\n",
       "            color:  #000000;\n",
       "        }    #T_cd06ad02_86ef_11ea_bc21_54e1ad53e9d8row11_col3 {\n",
       "            background-color:  #fff4ef;\n",
       "            color:  #000000;\n",
       "        }    #T_cd06ad02_86ef_11ea_bc21_54e1ad53e9d8row11_col4 {\n",
       "            background-color:  #fff5f0;\n",
       "            color:  #000000;\n",
       "        }    #T_cd06ad02_86ef_11ea_bc21_54e1ad53e9d8row11_col5 {\n",
       "            background-color:  #fff5f0;\n",
       "            color:  #000000;\n",
       "        }    #T_cd06ad02_86ef_11ea_bc21_54e1ad53e9d8row11_col6 {\n",
       "            background-color:  #fff5f0;\n",
       "            color:  #000000;\n",
       "        }    #T_cd06ad02_86ef_11ea_bc21_54e1ad53e9d8row12_col1 {\n",
       "            background-color:  #ffeee7;\n",
       "            color:  #000000;\n",
       "        }    #T_cd06ad02_86ef_11ea_bc21_54e1ad53e9d8row12_col2 {\n",
       "            background-color:  #fff5f0;\n",
       "            color:  #000000;\n",
       "        }    #T_cd06ad02_86ef_11ea_bc21_54e1ad53e9d8row12_col3 {\n",
       "            background-color:  #fee9df;\n",
       "            color:  #000000;\n",
       "        }    #T_cd06ad02_86ef_11ea_bc21_54e1ad53e9d8row12_col4 {\n",
       "            background-color:  #fcbba1;\n",
       "            color:  #000000;\n",
       "        }    #T_cd06ad02_86ef_11ea_bc21_54e1ad53e9d8row12_col5 {\n",
       "            background-color:  #ffeee7;\n",
       "            color:  #000000;\n",
       "        }    #T_cd06ad02_86ef_11ea_bc21_54e1ad53e9d8row12_col6 {\n",
       "            background-color:  #ffefe8;\n",
       "            color:  #000000;\n",
       "        }    #T_cd06ad02_86ef_11ea_bc21_54e1ad53e9d8row13_col1 {\n",
       "            background-color:  #fca98c;\n",
       "            color:  #000000;\n",
       "        }    #T_cd06ad02_86ef_11ea_bc21_54e1ad53e9d8row13_col2 {\n",
       "            background-color:  #fedbcc;\n",
       "            color:  #000000;\n",
       "        }    #T_cd06ad02_86ef_11ea_bc21_54e1ad53e9d8row13_col3 {\n",
       "            background-color:  #fa6547;\n",
       "            color:  #000000;\n",
       "        }    #T_cd06ad02_86ef_11ea_bc21_54e1ad53e9d8row13_col4 {\n",
       "            background-color:  #fff5f0;\n",
       "            color:  #000000;\n",
       "        }    #T_cd06ad02_86ef_11ea_bc21_54e1ad53e9d8row13_col5 {\n",
       "            background-color:  #fca98c;\n",
       "            color:  #000000;\n",
       "        }    #T_cd06ad02_86ef_11ea_bc21_54e1ad53e9d8row13_col6 {\n",
       "            background-color:  #fcb69b;\n",
       "            color:  #000000;\n",
       "        }    #T_cd06ad02_86ef_11ea_bc21_54e1ad53e9d8row14_col1 {\n",
       "            background-color:  #fcb89e;\n",
       "            color:  #000000;\n",
       "        }    #T_cd06ad02_86ef_11ea_bc21_54e1ad53e9d8row14_col2 {\n",
       "            background-color:  #fdc6b0;\n",
       "            color:  #000000;\n",
       "        }    #T_cd06ad02_86ef_11ea_bc21_54e1ad53e9d8row14_col3 {\n",
       "            background-color:  #960b13;\n",
       "            color:  #f1f1f1;\n",
       "        }    #T_cd06ad02_86ef_11ea_bc21_54e1ad53e9d8row14_col4 {\n",
       "            background-color:  #fcbba1;\n",
       "            color:  #000000;\n",
       "        }    #T_cd06ad02_86ef_11ea_bc21_54e1ad53e9d8row14_col5 {\n",
       "            background-color:  #fcb79c;\n",
       "            color:  #000000;\n",
       "        }    #T_cd06ad02_86ef_11ea_bc21_54e1ad53e9d8row14_col6 {\n",
       "            background-color:  #fed9c9;\n",
       "            color:  #000000;\n",
       "        }    #T_cd06ad02_86ef_11ea_bc21_54e1ad53e9d8row15_col1 {\n",
       "            background-color:  #fed8c7;\n",
       "            color:  #000000;\n",
       "        }    #T_cd06ad02_86ef_11ea_bc21_54e1ad53e9d8row15_col2 {\n",
       "            background-color:  #bf151b;\n",
       "            color:  #f1f1f1;\n",
       "        }    #T_cd06ad02_86ef_11ea_bc21_54e1ad53e9d8row15_col3 {\n",
       "            background-color:  #fcaa8d;\n",
       "            color:  #000000;\n",
       "        }    #T_cd06ad02_86ef_11ea_bc21_54e1ad53e9d8row15_col4 {\n",
       "            background-color:  #fff5f0;\n",
       "            color:  #000000;\n",
       "        }    #T_cd06ad02_86ef_11ea_bc21_54e1ad53e9d8row15_col5 {\n",
       "            background-color:  #fed8c7;\n",
       "            color:  #000000;\n",
       "        }    #T_cd06ad02_86ef_11ea_bc21_54e1ad53e9d8row15_col6 {\n",
       "            background-color:  #fedfd0;\n",
       "            color:  #000000;\n",
       "        }    #T_cd06ad02_86ef_11ea_bc21_54e1ad53e9d8row16_col1 {\n",
       "            background-color:  #fff4ef;\n",
       "            color:  #000000;\n",
       "        }    #T_cd06ad02_86ef_11ea_bc21_54e1ad53e9d8row16_col2 {\n",
       "            background-color:  #fff5f0;\n",
       "            color:  #000000;\n",
       "        }    #T_cd06ad02_86ef_11ea_bc21_54e1ad53e9d8row16_col3 {\n",
       "            background-color:  #fff2ec;\n",
       "            color:  #000000;\n",
       "        }    #T_cd06ad02_86ef_11ea_bc21_54e1ad53e9d8row16_col4 {\n",
       "            background-color:  #fff5f0;\n",
       "            color:  #000000;\n",
       "        }    #T_cd06ad02_86ef_11ea_bc21_54e1ad53e9d8row16_col5 {\n",
       "            background-color:  #fff4ef;\n",
       "            color:  #000000;\n",
       "        }    #T_cd06ad02_86ef_11ea_bc21_54e1ad53e9d8row16_col6 {\n",
       "            background-color:  #fff5f0;\n",
       "            color:  #000000;\n",
       "        }    #T_cd06ad02_86ef_11ea_bc21_54e1ad53e9d8row17_col1 {\n",
       "            background-color:  #feeae1;\n",
       "            color:  #000000;\n",
       "        }    #T_cd06ad02_86ef_11ea_bc21_54e1ad53e9d8row17_col2 {\n",
       "            background-color:  #fff5f0;\n",
       "            color:  #000000;\n",
       "        }    #T_cd06ad02_86ef_11ea_bc21_54e1ad53e9d8row17_col3 {\n",
       "            background-color:  #fee2d5;\n",
       "            color:  #000000;\n",
       "        }    #T_cd06ad02_86ef_11ea_bc21_54e1ad53e9d8row17_col4 {\n",
       "            background-color:  #fcbba1;\n",
       "            color:  #000000;\n",
       "        }    #T_cd06ad02_86ef_11ea_bc21_54e1ad53e9d8row17_col5 {\n",
       "            background-color:  #feeae1;\n",
       "            color:  #000000;\n",
       "        }    #T_cd06ad02_86ef_11ea_bc21_54e1ad53e9d8row17_col6 {\n",
       "            background-color:  #ffece3;\n",
       "            color:  #000000;\n",
       "        }    #T_cd06ad02_86ef_11ea_bc21_54e1ad53e9d8row18_col1 {\n",
       "            background-color:  #fff5f0;\n",
       "            color:  #000000;\n",
       "        }    #T_cd06ad02_86ef_11ea_bc21_54e1ad53e9d8row18_col2 {\n",
       "            background-color:  #fff5f0;\n",
       "            color:  #000000;\n",
       "        }    #T_cd06ad02_86ef_11ea_bc21_54e1ad53e9d8row18_col3 {\n",
       "            background-color:  #fff2ec;\n",
       "            color:  #000000;\n",
       "        }    #T_cd06ad02_86ef_11ea_bc21_54e1ad53e9d8row18_col4 {\n",
       "            background-color:  #fff5f0;\n",
       "            color:  #000000;\n",
       "        }    #T_cd06ad02_86ef_11ea_bc21_54e1ad53e9d8row18_col5 {\n",
       "            background-color:  #fff5f0;\n",
       "            color:  #000000;\n",
       "        }    #T_cd06ad02_86ef_11ea_bc21_54e1ad53e9d8row18_col6 {\n",
       "            background-color:  #fff5f0;\n",
       "            color:  #000000;\n",
       "        }    #T_cd06ad02_86ef_11ea_bc21_54e1ad53e9d8row19_col1 {\n",
       "            background-color:  #fcbca2;\n",
       "            color:  #000000;\n",
       "        }    #T_cd06ad02_86ef_11ea_bc21_54e1ad53e9d8row19_col2 {\n",
       "            background-color:  #fee9df;\n",
       "            color:  #000000;\n",
       "        }    #T_cd06ad02_86ef_11ea_bc21_54e1ad53e9d8row19_col3 {\n",
       "            background-color:  #fcb89e;\n",
       "            color:  #000000;\n",
       "        }    #T_cd06ad02_86ef_11ea_bc21_54e1ad53e9d8row19_col4 {\n",
       "            background-color:  #fff5f0;\n",
       "            color:  #000000;\n",
       "        }    #T_cd06ad02_86ef_11ea_bc21_54e1ad53e9d8row19_col5 {\n",
       "            background-color:  #fcbca2;\n",
       "            color:  #000000;\n",
       "        }    #T_cd06ad02_86ef_11ea_bc21_54e1ad53e9d8row19_col6 {\n",
       "            background-color:  #fcbca2;\n",
       "            color:  #000000;\n",
       "        }    #T_cd06ad02_86ef_11ea_bc21_54e1ad53e9d8row20_col1 {\n",
       "            background-color:  #fff4ef;\n",
       "            color:  #000000;\n",
       "        }    #T_cd06ad02_86ef_11ea_bc21_54e1ad53e9d8row20_col2 {\n",
       "            background-color:  #fff5f0;\n",
       "            color:  #000000;\n",
       "        }    #T_cd06ad02_86ef_11ea_bc21_54e1ad53e9d8row20_col3 {\n",
       "            background-color:  #fff1ea;\n",
       "            color:  #000000;\n",
       "        }    #T_cd06ad02_86ef_11ea_bc21_54e1ad53e9d8row20_col4 {\n",
       "            background-color:  #fff5f0;\n",
       "            color:  #000000;\n",
       "        }    #T_cd06ad02_86ef_11ea_bc21_54e1ad53e9d8row20_col5 {\n",
       "            background-color:  #fff4ef;\n",
       "            color:  #000000;\n",
       "        }    #T_cd06ad02_86ef_11ea_bc21_54e1ad53e9d8row20_col6 {\n",
       "            background-color:  #fff4ef;\n",
       "            color:  #000000;\n",
       "        }    #T_cd06ad02_86ef_11ea_bc21_54e1ad53e9d8row21_col1 {\n",
       "            background-color:  #fee8dd;\n",
       "            color:  #000000;\n",
       "        }    #T_cd06ad02_86ef_11ea_bc21_54e1ad53e9d8row21_col2 {\n",
       "            background-color:  #fff5f0;\n",
       "            color:  #000000;\n",
       "        }    #T_cd06ad02_86ef_11ea_bc21_54e1ad53e9d8row21_col3 {\n",
       "            background-color:  #fee3d7;\n",
       "            color:  #000000;\n",
       "        }    #T_cd06ad02_86ef_11ea_bc21_54e1ad53e9d8row21_col4 {\n",
       "            background-color:  #fcbba1;\n",
       "            color:  #000000;\n",
       "        }    #T_cd06ad02_86ef_11ea_bc21_54e1ad53e9d8row21_col5 {\n",
       "            background-color:  #fee8dd;\n",
       "            color:  #000000;\n",
       "        }    #T_cd06ad02_86ef_11ea_bc21_54e1ad53e9d8row21_col6 {\n",
       "            background-color:  #fee8de;\n",
       "            color:  #000000;\n",
       "        }    #T_cd06ad02_86ef_11ea_bc21_54e1ad53e9d8row22_col1 {\n",
       "            background-color:  #fff1ea;\n",
       "            color:  #000000;\n",
       "        }    #T_cd06ad02_86ef_11ea_bc21_54e1ad53e9d8row22_col2 {\n",
       "            background-color:  #fff5f0;\n",
       "            color:  #000000;\n",
       "        }    #T_cd06ad02_86ef_11ea_bc21_54e1ad53e9d8row22_col3 {\n",
       "            background-color:  #ffeee6;\n",
       "            color:  #000000;\n",
       "        }    #T_cd06ad02_86ef_11ea_bc21_54e1ad53e9d8row22_col4 {\n",
       "            background-color:  #fcbba1;\n",
       "            color:  #000000;\n",
       "        }    #T_cd06ad02_86ef_11ea_bc21_54e1ad53e9d8row22_col5 {\n",
       "            background-color:  #fff1ea;\n",
       "            color:  #000000;\n",
       "        }    #T_cd06ad02_86ef_11ea_bc21_54e1ad53e9d8row22_col6 {\n",
       "            background-color:  #fff1ea;\n",
       "            color:  #000000;\n",
       "        }    #T_cd06ad02_86ef_11ea_bc21_54e1ad53e9d8row23_col1 {\n",
       "            background-color:  #fff5f0;\n",
       "            color:  #000000;\n",
       "        }    #T_cd06ad02_86ef_11ea_bc21_54e1ad53e9d8row23_col2 {\n",
       "            background-color:  #fff5f0;\n",
       "            color:  #000000;\n",
       "        }    #T_cd06ad02_86ef_11ea_bc21_54e1ad53e9d8row23_col3 {\n",
       "            background-color:  #fff5f0;\n",
       "            color:  #000000;\n",
       "        }    #T_cd06ad02_86ef_11ea_bc21_54e1ad53e9d8row23_col4 {\n",
       "            background-color:  #fff5f0;\n",
       "            color:  #000000;\n",
       "        }    #T_cd06ad02_86ef_11ea_bc21_54e1ad53e9d8row23_col5 {\n",
       "            background-color:  #fff5f0;\n",
       "            color:  #000000;\n",
       "        }    #T_cd06ad02_86ef_11ea_bc21_54e1ad53e9d8row23_col6 {\n",
       "            background-color:  #fff5f0;\n",
       "            color:  #000000;\n",
       "        }    #T_cd06ad02_86ef_11ea_bc21_54e1ad53e9d8row24_col1 {\n",
       "            background-color:  #fff5f0;\n",
       "            color:  #000000;\n",
       "        }    #T_cd06ad02_86ef_11ea_bc21_54e1ad53e9d8row24_col2 {\n",
       "            background-color:  #fff5f0;\n",
       "            color:  #000000;\n",
       "        }    #T_cd06ad02_86ef_11ea_bc21_54e1ad53e9d8row24_col3 {\n",
       "            background-color:  #fff4ef;\n",
       "            color:  #000000;\n",
       "        }    #T_cd06ad02_86ef_11ea_bc21_54e1ad53e9d8row24_col4 {\n",
       "            background-color:  #fff5f0;\n",
       "            color:  #000000;\n",
       "        }    #T_cd06ad02_86ef_11ea_bc21_54e1ad53e9d8row24_col5 {\n",
       "            background-color:  #fff5f0;\n",
       "            color:  #000000;\n",
       "        }    #T_cd06ad02_86ef_11ea_bc21_54e1ad53e9d8row24_col6 {\n",
       "            background-color:  #fff5f0;\n",
       "            color:  #000000;\n",
       "        }    #T_cd06ad02_86ef_11ea_bc21_54e1ad53e9d8row25_col1 {\n",
       "            background-color:  #fff5f0;\n",
       "            color:  #000000;\n",
       "        }    #T_cd06ad02_86ef_11ea_bc21_54e1ad53e9d8row25_col2 {\n",
       "            background-color:  #fff5f0;\n",
       "            color:  #000000;\n",
       "        }    #T_cd06ad02_86ef_11ea_bc21_54e1ad53e9d8row25_col3 {\n",
       "            background-color:  #fff5f0;\n",
       "            color:  #000000;\n",
       "        }    #T_cd06ad02_86ef_11ea_bc21_54e1ad53e9d8row25_col4 {\n",
       "            background-color:  #fff5f0;\n",
       "            color:  #000000;\n",
       "        }    #T_cd06ad02_86ef_11ea_bc21_54e1ad53e9d8row25_col5 {\n",
       "            background-color:  #fff5f0;\n",
       "            color:  #000000;\n",
       "        }    #T_cd06ad02_86ef_11ea_bc21_54e1ad53e9d8row25_col6 {\n",
       "            background-color:  #fff5f0;\n",
       "            color:  #000000;\n",
       "        }    #T_cd06ad02_86ef_11ea_bc21_54e1ad53e9d8row26_col1 {\n",
       "            background-color:  #fff4ee;\n",
       "            color:  #000000;\n",
       "        }    #T_cd06ad02_86ef_11ea_bc21_54e1ad53e9d8row26_col2 {\n",
       "            background-color:  #fff5f0;\n",
       "            color:  #000000;\n",
       "        }    #T_cd06ad02_86ef_11ea_bc21_54e1ad53e9d8row26_col3 {\n",
       "            background-color:  #fff4ee;\n",
       "            color:  #000000;\n",
       "        }    #T_cd06ad02_86ef_11ea_bc21_54e1ad53e9d8row26_col4 {\n",
       "            background-color:  #ca181d;\n",
       "            color:  #f1f1f1;\n",
       "        }    #T_cd06ad02_86ef_11ea_bc21_54e1ad53e9d8row26_col5 {\n",
       "            background-color:  #fff4ee;\n",
       "            color:  #000000;\n",
       "        }    #T_cd06ad02_86ef_11ea_bc21_54e1ad53e9d8row26_col6 {\n",
       "            background-color:  #fff4ee;\n",
       "            color:  #000000;\n",
       "        }</style><table id=\"T_cd06ad02_86ef_11ea_bc21_54e1ad53e9d8\" ><thead>    <tr>        <th class=\"blank level0\" ></th>        <th class=\"col_heading level0 col0\" >Name of State / UT</th>        <th class=\"col_heading level0 col1\" >Total Confirmed cases (Indian National)</th>        <th class=\"col_heading level0 col2\" >Total Confirmed cases ( Foreign National )</th>        <th class=\"col_heading level0 col3\" >Cured</th>        <th class=\"col_heading level0 col4\" >Death</th>        <th class=\"col_heading level0 col5\" >Total Cases</th>        <th class=\"col_heading level0 col6\" >Active Cases</th>    </tr></thead><tbody>\n",
       "                <tr>\n",
       "                        <th id=\"T_cd06ad02_86ef_11ea_bc21_54e1ad53e9d8level0_row0\" class=\"row_heading level0 row0\" >0</th>\n",
       "                        <td id=\"T_cd06ad02_86ef_11ea_bc21_54e1ad53e9d8row0_col0\" class=\"data row0 col0\" >Andhra Pradesh</td>\n",
       "                        <td id=\"T_cd06ad02_86ef_11ea_bc21_54e1ad53e9d8row0_col1\" class=\"data row0 col1\" >955</td>\n",
       "                        <td id=\"T_cd06ad02_86ef_11ea_bc21_54e1ad53e9d8row0_col2\" class=\"data row0 col2\" >0</td>\n",
       "                        <td id=\"T_cd06ad02_86ef_11ea_bc21_54e1ad53e9d8row0_col3\" class=\"data row0 col3\" >11</td>\n",
       "                        <td id=\"T_cd06ad02_86ef_11ea_bc21_54e1ad53e9d8row0_col4\" class=\"data row0 col4\" >0</td>\n",
       "                        <td id=\"T_cd06ad02_86ef_11ea_bc21_54e1ad53e9d8row0_col5\" class=\"data row0 col5\" >955</td>\n",
       "                        <td id=\"T_cd06ad02_86ef_11ea_bc21_54e1ad53e9d8row0_col6\" class=\"data row0 col6\" >944</td>\n",
       "            </tr>\n",
       "            <tr>\n",
       "                        <th id=\"T_cd06ad02_86ef_11ea_bc21_54e1ad53e9d8level0_row1\" class=\"row_heading level0 row1\" >1</th>\n",
       "                        <td id=\"T_cd06ad02_86ef_11ea_bc21_54e1ad53e9d8row1_col0\" class=\"data row1 col0\" >Chhattisgarh</td>\n",
       "                        <td id=\"T_cd06ad02_86ef_11ea_bc21_54e1ad53e9d8row1_col1\" class=\"data row1 col1\" >36</td>\n",
       "                        <td id=\"T_cd06ad02_86ef_11ea_bc21_54e1ad53e9d8row1_col2\" class=\"data row1 col2\" >0</td>\n",
       "                        <td id=\"T_cd06ad02_86ef_11ea_bc21_54e1ad53e9d8row1_col3\" class=\"data row1 col3\" >32</td>\n",
       "                        <td id=\"T_cd06ad02_86ef_11ea_bc21_54e1ad53e9d8row1_col4\" class=\"data row1 col4\" >0</td>\n",
       "                        <td id=\"T_cd06ad02_86ef_11ea_bc21_54e1ad53e9d8row1_col5\" class=\"data row1 col5\" >36</td>\n",
       "                        <td id=\"T_cd06ad02_86ef_11ea_bc21_54e1ad53e9d8row1_col6\" class=\"data row1 col6\" >4</td>\n",
       "            </tr>\n",
       "            <tr>\n",
       "                        <th id=\"T_cd06ad02_86ef_11ea_bc21_54e1ad53e9d8level0_row2\" class=\"row_heading level0 row2\" >2</th>\n",
       "                        <td id=\"T_cd06ad02_86ef_11ea_bc21_54e1ad53e9d8row2_col0\" class=\"data row2 col0\" >Delhi</td>\n",
       "                        <td id=\"T_cd06ad02_86ef_11ea_bc21_54e1ad53e9d8row2_col1\" class=\"data row2 col1\" >2376</td>\n",
       "                        <td id=\"T_cd06ad02_86ef_11ea_bc21_54e1ad53e9d8row2_col2\" class=\"data row2 col2\" >1</td>\n",
       "                        <td id=\"T_cd06ad02_86ef_11ea_bc21_54e1ad53e9d8row2_col3\" class=\"data row2 col3\" >857</td>\n",
       "                        <td id=\"T_cd06ad02_86ef_11ea_bc21_54e1ad53e9d8row2_col4\" class=\"data row2 col4\" >1</td>\n",
       "                        <td id=\"T_cd06ad02_86ef_11ea_bc21_54e1ad53e9d8row2_col5\" class=\"data row2 col5\" >2377</td>\n",
       "                        <td id=\"T_cd06ad02_86ef_11ea_bc21_54e1ad53e9d8row2_col6\" class=\"data row2 col6\" >1520</td>\n",
       "            </tr>\n",
       "            <tr>\n",
       "                        <th id=\"T_cd06ad02_86ef_11ea_bc21_54e1ad53e9d8level0_row3\" class=\"row_heading level0 row3\" >3</th>\n",
       "                        <td id=\"T_cd06ad02_86ef_11ea_bc21_54e1ad53e9d8row3_col0\" class=\"data row3 col0\" >Gujarat</td>\n",
       "                        <td id=\"T_cd06ad02_86ef_11ea_bc21_54e1ad53e9d8row3_col1\" class=\"data row3 col1\" >2624</td>\n",
       "                        <td id=\"T_cd06ad02_86ef_11ea_bc21_54e1ad53e9d8row3_col2\" class=\"data row3 col2\" >0</td>\n",
       "                        <td id=\"T_cd06ad02_86ef_11ea_bc21_54e1ad53e9d8row3_col3\" class=\"data row3 col3\" >265</td>\n",
       "                        <td id=\"T_cd06ad02_86ef_11ea_bc21_54e1ad53e9d8row3_col4\" class=\"data row3 col4\" >3</td>\n",
       "                        <td id=\"T_cd06ad02_86ef_11ea_bc21_54e1ad53e9d8row3_col5\" class=\"data row3 col5\" >2624</td>\n",
       "                        <td id=\"T_cd06ad02_86ef_11ea_bc21_54e1ad53e9d8row3_col6\" class=\"data row3 col6\" >2359</td>\n",
       "            </tr>\n",
       "            <tr>\n",
       "                        <th id=\"T_cd06ad02_86ef_11ea_bc21_54e1ad53e9d8level0_row4\" class=\"row_heading level0 row4\" >4</th>\n",
       "                        <td id=\"T_cd06ad02_86ef_11ea_bc21_54e1ad53e9d8row4_col0\" class=\"data row4 col0\" >Haryana</td>\n",
       "                        <td id=\"T_cd06ad02_86ef_11ea_bc21_54e1ad53e9d8row4_col1\" class=\"data row4 col1\" >272</td>\n",
       "                        <td id=\"T_cd06ad02_86ef_11ea_bc21_54e1ad53e9d8row4_col2\" class=\"data row4 col2\" >14</td>\n",
       "                        <td id=\"T_cd06ad02_86ef_11ea_bc21_54e1ad53e9d8row4_col3\" class=\"data row4 col3\" >186</td>\n",
       "                        <td id=\"T_cd06ad02_86ef_11ea_bc21_54e1ad53e9d8row4_col4\" class=\"data row4 col4\" >0</td>\n",
       "                        <td id=\"T_cd06ad02_86ef_11ea_bc21_54e1ad53e9d8row4_col5\" class=\"data row4 col5\" >286</td>\n",
       "                        <td id=\"T_cd06ad02_86ef_11ea_bc21_54e1ad53e9d8row4_col6\" class=\"data row4 col6\" >100</td>\n",
       "            </tr>\n",
       "            <tr>\n",
       "                        <th id=\"T_cd06ad02_86ef_11ea_bc21_54e1ad53e9d8level0_row5\" class=\"row_heading level0 row5\" >5</th>\n",
       "                        <td id=\"T_cd06ad02_86ef_11ea_bc21_54e1ad53e9d8row5_col0\" class=\"data row5 col0\" >Himachal Pradesh</td>\n",
       "                        <td id=\"T_cd06ad02_86ef_11ea_bc21_54e1ad53e9d8row5_col1\" class=\"data row5 col1\" >40</td>\n",
       "                        <td id=\"T_cd06ad02_86ef_11ea_bc21_54e1ad53e9d8row5_col2\" class=\"data row5 col2\" >0</td>\n",
       "                        <td id=\"T_cd06ad02_86ef_11ea_bc21_54e1ad53e9d8row5_col3\" class=\"data row5 col3\" >18</td>\n",
       "                        <td id=\"T_cd06ad02_86ef_11ea_bc21_54e1ad53e9d8row5_col4\" class=\"data row5 col4\" >1</td>\n",
       "                        <td id=\"T_cd06ad02_86ef_11ea_bc21_54e1ad53e9d8row5_col5\" class=\"data row5 col5\" >40</td>\n",
       "                        <td id=\"T_cd06ad02_86ef_11ea_bc21_54e1ad53e9d8row5_col6\" class=\"data row5 col6\" >22</td>\n",
       "            </tr>\n",
       "            <tr>\n",
       "                        <th id=\"T_cd06ad02_86ef_11ea_bc21_54e1ad53e9d8level0_row6\" class=\"row_heading level0 row6\" >6</th>\n",
       "                        <td id=\"T_cd06ad02_86ef_11ea_bc21_54e1ad53e9d8row6_col0\" class=\"data row6 col0\" >Karnataka</td>\n",
       "                        <td id=\"T_cd06ad02_86ef_11ea_bc21_54e1ad53e9d8row6_col1\" class=\"data row6 col1\" >463</td>\n",
       "                        <td id=\"T_cd06ad02_86ef_11ea_bc21_54e1ad53e9d8row6_col2\" class=\"data row6 col2\" >0</td>\n",
       "                        <td id=\"T_cd06ad02_86ef_11ea_bc21_54e1ad53e9d8row6_col3\" class=\"data row6 col3\" >158</td>\n",
       "                        <td id=\"T_cd06ad02_86ef_11ea_bc21_54e1ad53e9d8row6_col4\" class=\"data row6 col4\" >2</td>\n",
       "                        <td id=\"T_cd06ad02_86ef_11ea_bc21_54e1ad53e9d8row6_col5\" class=\"data row6 col5\" >463</td>\n",
       "                        <td id=\"T_cd06ad02_86ef_11ea_bc21_54e1ad53e9d8row6_col6\" class=\"data row6 col6\" >305</td>\n",
       "            </tr>\n",
       "            <tr>\n",
       "                        <th id=\"T_cd06ad02_86ef_11ea_bc21_54e1ad53e9d8level0_row7\" class=\"row_heading level0 row7\" >7</th>\n",
       "                        <td id=\"T_cd06ad02_86ef_11ea_bc21_54e1ad53e9d8row7_col0\" class=\"data row7 col0\" >Kerala</td>\n",
       "                        <td id=\"T_cd06ad02_86ef_11ea_bc21_54e1ad53e9d8row7_col1\" class=\"data row7 col1\" >448</td>\n",
       "                        <td id=\"T_cd06ad02_86ef_11ea_bc21_54e1ad53e9d8row7_col2\" class=\"data row7 col2\" >7</td>\n",
       "                        <td id=\"T_cd06ad02_86ef_11ea_bc21_54e1ad53e9d8row7_col3\" class=\"data row7 col3\" >338</td>\n",
       "                        <td id=\"T_cd06ad02_86ef_11ea_bc21_54e1ad53e9d8row7_col4\" class=\"data row7 col4\" >0</td>\n",
       "                        <td id=\"T_cd06ad02_86ef_11ea_bc21_54e1ad53e9d8row7_col5\" class=\"data row7 col5\" >455</td>\n",
       "                        <td id=\"T_cd06ad02_86ef_11ea_bc21_54e1ad53e9d8row7_col6\" class=\"data row7 col6\" >117</td>\n",
       "            </tr>\n",
       "            <tr>\n",
       "                        <th id=\"T_cd06ad02_86ef_11ea_bc21_54e1ad53e9d8level0_row8\" class=\"row_heading level0 row8\" >8</th>\n",
       "                        <td id=\"T_cd06ad02_86ef_11ea_bc21_54e1ad53e9d8row8_col0\" class=\"data row8 col0\" >Madhya Pradesh</td>\n",
       "                        <td id=\"T_cd06ad02_86ef_11ea_bc21_54e1ad53e9d8row8_col1\" class=\"data row8 col1\" >1852</td>\n",
       "                        <td id=\"T_cd06ad02_86ef_11ea_bc21_54e1ad53e9d8row8_col2\" class=\"data row8 col2\" >0</td>\n",
       "                        <td id=\"T_cd06ad02_86ef_11ea_bc21_54e1ad53e9d8row8_col3\" class=\"data row8 col3\" >210</td>\n",
       "                        <td id=\"T_cd06ad02_86ef_11ea_bc21_54e1ad53e9d8row8_col4\" class=\"data row8 col4\" >1</td>\n",
       "                        <td id=\"T_cd06ad02_86ef_11ea_bc21_54e1ad53e9d8row8_col5\" class=\"data row8 col5\" >1852</td>\n",
       "                        <td id=\"T_cd06ad02_86ef_11ea_bc21_54e1ad53e9d8row8_col6\" class=\"data row8 col6\" >1642</td>\n",
       "            </tr>\n",
       "            <tr>\n",
       "                        <th id=\"T_cd06ad02_86ef_11ea_bc21_54e1ad53e9d8level0_row9\" class=\"row_heading level0 row9\" >9</th>\n",
       "                        <td id=\"T_cd06ad02_86ef_11ea_bc21_54e1ad53e9d8row9_col0\" class=\"data row9 col0\" >Maharashtra</td>\n",
       "                        <td id=\"T_cd06ad02_86ef_11ea_bc21_54e1ad53e9d8row9_col1\" class=\"data row9 col1\" >6430</td>\n",
       "                        <td id=\"T_cd06ad02_86ef_11ea_bc21_54e1ad53e9d8row9_col2\" class=\"data row9 col2\" >3</td>\n",
       "                        <td id=\"T_cd06ad02_86ef_11ea_bc21_54e1ad53e9d8row9_col3\" class=\"data row9 col3\" >957</td>\n",
       "                        <td id=\"T_cd06ad02_86ef_11ea_bc21_54e1ad53e9d8row9_col4\" class=\"data row9 col4\" >4</td>\n",
       "                        <td id=\"T_cd06ad02_86ef_11ea_bc21_54e1ad53e9d8row9_col5\" class=\"data row9 col5\" >6433</td>\n",
       "                        <td id=\"T_cd06ad02_86ef_11ea_bc21_54e1ad53e9d8row9_col6\" class=\"data row9 col6\" >5476</td>\n",
       "            </tr>\n",
       "            <tr>\n",
       "                        <th id=\"T_cd06ad02_86ef_11ea_bc21_54e1ad53e9d8level0_row10\" class=\"row_heading level0 row10\" >10</th>\n",
       "                        <td id=\"T_cd06ad02_86ef_11ea_bc21_54e1ad53e9d8row10_col0\" class=\"data row10 col0\" >Odisha</td>\n",
       "                        <td id=\"T_cd06ad02_86ef_11ea_bc21_54e1ad53e9d8row10_col1\" class=\"data row10 col1\" >90</td>\n",
       "                        <td id=\"T_cd06ad02_86ef_11ea_bc21_54e1ad53e9d8row10_col2\" class=\"data row10 col2\" >0</td>\n",
       "                        <td id=\"T_cd06ad02_86ef_11ea_bc21_54e1ad53e9d8row10_col3\" class=\"data row10 col3\" >33</td>\n",
       "                        <td id=\"T_cd06ad02_86ef_11ea_bc21_54e1ad53e9d8row10_col4\" class=\"data row10 col4\" >0</td>\n",
       "                        <td id=\"T_cd06ad02_86ef_11ea_bc21_54e1ad53e9d8row10_col5\" class=\"data row10 col5\" >90</td>\n",
       "                        <td id=\"T_cd06ad02_86ef_11ea_bc21_54e1ad53e9d8row10_col6\" class=\"data row10 col6\" >57</td>\n",
       "            </tr>\n",
       "            <tr>\n",
       "                        <th id=\"T_cd06ad02_86ef_11ea_bc21_54e1ad53e9d8level0_row11\" class=\"row_heading level0 row11\" >11</th>\n",
       "                        <td id=\"T_cd06ad02_86ef_11ea_bc21_54e1ad53e9d8row11_col0\" class=\"data row11 col0\" >Puducherry</td>\n",
       "                        <td id=\"T_cd06ad02_86ef_11ea_bc21_54e1ad53e9d8row11_col1\" class=\"data row11 col1\" >1</td>\n",
       "                        <td id=\"T_cd06ad02_86ef_11ea_bc21_54e1ad53e9d8row11_col2\" class=\"data row11 col2\" >0</td>\n",
       "                        <td id=\"T_cd06ad02_86ef_11ea_bc21_54e1ad53e9d8row11_col3\" class=\"data row11 col3\" >4</td>\n",
       "                        <td id=\"T_cd06ad02_86ef_11ea_bc21_54e1ad53e9d8row11_col4\" class=\"data row11 col4\" >0</td>\n",
       "                        <td id=\"T_cd06ad02_86ef_11ea_bc21_54e1ad53e9d8row11_col5\" class=\"data row11 col5\" >1</td>\n",
       "                        <td id=\"T_cd06ad02_86ef_11ea_bc21_54e1ad53e9d8row11_col6\" class=\"data row11 col6\" >-3</td>\n",
       "            </tr>\n",
       "            <tr>\n",
       "                        <th id=\"T_cd06ad02_86ef_11ea_bc21_54e1ad53e9d8level0_row12\" class=\"row_heading level0 row12\" >12</th>\n",
       "                        <td id=\"T_cd06ad02_86ef_11ea_bc21_54e1ad53e9d8row12_col0\" class=\"data row12 col0\" >Punjab</td>\n",
       "                        <td id=\"T_cd06ad02_86ef_11ea_bc21_54e1ad53e9d8row12_col1\" class=\"data row12 col1\" >277</td>\n",
       "                        <td id=\"T_cd06ad02_86ef_11ea_bc21_54e1ad53e9d8row12_col2\" class=\"data row12 col2\" >0</td>\n",
       "                        <td id=\"T_cd06ad02_86ef_11ea_bc21_54e1ad53e9d8row12_col3\" class=\"data row12 col3\" >70</td>\n",
       "                        <td id=\"T_cd06ad02_86ef_11ea_bc21_54e1ad53e9d8row12_col4\" class=\"data row12 col4\" >1</td>\n",
       "                        <td id=\"T_cd06ad02_86ef_11ea_bc21_54e1ad53e9d8row12_col5\" class=\"data row12 col5\" >277</td>\n",
       "                        <td id=\"T_cd06ad02_86ef_11ea_bc21_54e1ad53e9d8row12_col6\" class=\"data row12 col6\" >207</td>\n",
       "            </tr>\n",
       "            <tr>\n",
       "                        <th id=\"T_cd06ad02_86ef_11ea_bc21_54e1ad53e9d8level0_row13\" class=\"row_heading level0 row13\" >13</th>\n",
       "                        <td id=\"T_cd06ad02_86ef_11ea_bc21_54e1ad53e9d8row13_col0\" class=\"data row13 col0\" >Rajasthan</td>\n",
       "                        <td id=\"T_cd06ad02_86ef_11ea_bc21_54e1ad53e9d8row13_col1\" class=\"data row13 col1\" >1964</td>\n",
       "                        <td id=\"T_cd06ad02_86ef_11ea_bc21_54e1ad53e9d8row13_col2\" class=\"data row13 col2\" >2</td>\n",
       "                        <td id=\"T_cd06ad02_86ef_11ea_bc21_54e1ad53e9d8row13_col3\" class=\"data row13 col3\" >493</td>\n",
       "                        <td id=\"T_cd06ad02_86ef_11ea_bc21_54e1ad53e9d8row13_col4\" class=\"data row13 col4\" >0</td>\n",
       "                        <td id=\"T_cd06ad02_86ef_11ea_bc21_54e1ad53e9d8row13_col5\" class=\"data row13 col5\" >1966</td>\n",
       "                        <td id=\"T_cd06ad02_86ef_11ea_bc21_54e1ad53e9d8row13_col6\" class=\"data row13 col6\" >1473</td>\n",
       "            </tr>\n",
       "            <tr>\n",
       "                        <th id=\"T_cd06ad02_86ef_11ea_bc21_54e1ad53e9d8level0_row14\" class=\"row_heading level0 row14\" >14</th>\n",
       "                        <td id=\"T_cd06ad02_86ef_11ea_bc21_54e1ad53e9d8row14_col0\" class=\"data row14 col0\" >Tamil Nadu</td>\n",
       "                        <td id=\"T_cd06ad02_86ef_11ea_bc21_54e1ad53e9d8row14_col1\" class=\"data row14 col1\" >1683</td>\n",
       "                        <td id=\"T_cd06ad02_86ef_11ea_bc21_54e1ad53e9d8row14_col2\" class=\"data row14 col2\" >3</td>\n",
       "                        <td id=\"T_cd06ad02_86ef_11ea_bc21_54e1ad53e9d8row14_col3\" class=\"data row14 col3\" >866</td>\n",
       "                        <td id=\"T_cd06ad02_86ef_11ea_bc21_54e1ad53e9d8row14_col4\" class=\"data row14 col4\" >1</td>\n",
       "                        <td id=\"T_cd06ad02_86ef_11ea_bc21_54e1ad53e9d8row14_col5\" class=\"data row14 col5\" >1686</td>\n",
       "                        <td id=\"T_cd06ad02_86ef_11ea_bc21_54e1ad53e9d8row14_col6\" class=\"data row14 col6\" >820</td>\n",
       "            </tr>\n",
       "            <tr>\n",
       "                        <th id=\"T_cd06ad02_86ef_11ea_bc21_54e1ad53e9d8level0_row15\" class=\"row_heading level0 row15\" >15</th>\n",
       "                        <td id=\"T_cd06ad02_86ef_11ea_bc21_54e1ad53e9d8row15_col0\" class=\"data row15 col0\" >Telengana</td>\n",
       "                        <td id=\"T_cd06ad02_86ef_11ea_bc21_54e1ad53e9d8row15_col1\" class=\"data row15 col1\" >984</td>\n",
       "                        <td id=\"T_cd06ad02_86ef_11ea_bc21_54e1ad53e9d8row15_col2\" class=\"data row15 col2\" >11</td>\n",
       "                        <td id=\"T_cd06ad02_86ef_11ea_bc21_54e1ad53e9d8row15_col3\" class=\"data row15 col3\" >291</td>\n",
       "                        <td id=\"T_cd06ad02_86ef_11ea_bc21_54e1ad53e9d8row15_col4\" class=\"data row15 col4\" >0</td>\n",
       "                        <td id=\"T_cd06ad02_86ef_11ea_bc21_54e1ad53e9d8row15_col5\" class=\"data row15 col5\" >995</td>\n",
       "                        <td id=\"T_cd06ad02_86ef_11ea_bc21_54e1ad53e9d8row15_col6\" class=\"data row15 col6\" >704</td>\n",
       "            </tr>\n",
       "            <tr>\n",
       "                        <th id=\"T_cd06ad02_86ef_11ea_bc21_54e1ad53e9d8level0_row16\" class=\"row_heading level0 row16\" >16</th>\n",
       "                        <td id=\"T_cd06ad02_86ef_11ea_bc21_54e1ad53e9d8row16_col0\" class=\"data row16 col0\" >Chandigarh</td>\n",
       "                        <td id=\"T_cd06ad02_86ef_11ea_bc21_54e1ad53e9d8row16_col1\" class=\"data row16 col1\" >27</td>\n",
       "                        <td id=\"T_cd06ad02_86ef_11ea_bc21_54e1ad53e9d8row16_col2\" class=\"data row16 col2\" >0</td>\n",
       "                        <td id=\"T_cd06ad02_86ef_11ea_bc21_54e1ad53e9d8row16_col3\" class=\"data row16 col3\" >15</td>\n",
       "                        <td id=\"T_cd06ad02_86ef_11ea_bc21_54e1ad53e9d8row16_col4\" class=\"data row16 col4\" >0</td>\n",
       "                        <td id=\"T_cd06ad02_86ef_11ea_bc21_54e1ad53e9d8row16_col5\" class=\"data row16 col5\" >27</td>\n",
       "                        <td id=\"T_cd06ad02_86ef_11ea_bc21_54e1ad53e9d8row16_col6\" class=\"data row16 col6\" >12</td>\n",
       "            </tr>\n",
       "            <tr>\n",
       "                        <th id=\"T_cd06ad02_86ef_11ea_bc21_54e1ad53e9d8level0_row17\" class=\"row_heading level0 row17\" >17</th>\n",
       "                        <td id=\"T_cd06ad02_86ef_11ea_bc21_54e1ad53e9d8row17_col0\" class=\"data row17 col0\" >Jammu and Kashmir</td>\n",
       "                        <td id=\"T_cd06ad02_86ef_11ea_bc21_54e1ad53e9d8row17_col1\" class=\"data row17 col1\" >427</td>\n",
       "                        <td id=\"T_cd06ad02_86ef_11ea_bc21_54e1ad53e9d8row17_col2\" class=\"data row17 col2\" >0</td>\n",
       "                        <td id=\"T_cd06ad02_86ef_11ea_bc21_54e1ad53e9d8row17_col3\" class=\"data row17 col3\" >109</td>\n",
       "                        <td id=\"T_cd06ad02_86ef_11ea_bc21_54e1ad53e9d8row17_col4\" class=\"data row17 col4\" >1</td>\n",
       "                        <td id=\"T_cd06ad02_86ef_11ea_bc21_54e1ad53e9d8row17_col5\" class=\"data row17 col5\" >427</td>\n",
       "                        <td id=\"T_cd06ad02_86ef_11ea_bc21_54e1ad53e9d8row17_col6\" class=\"data row17 col6\" >318</td>\n",
       "            </tr>\n",
       "            <tr>\n",
       "                        <th id=\"T_cd06ad02_86ef_11ea_bc21_54e1ad53e9d8level0_row18\" class=\"row_heading level0 row18\" >18</th>\n",
       "                        <td id=\"T_cd06ad02_86ef_11ea_bc21_54e1ad53e9d8row18_col0\" class=\"data row18 col0\" >Ladakh</td>\n",
       "                        <td id=\"T_cd06ad02_86ef_11ea_bc21_54e1ad53e9d8row18_col1\" class=\"data row18 col1\" >13</td>\n",
       "                        <td id=\"T_cd06ad02_86ef_11ea_bc21_54e1ad53e9d8row18_col2\" class=\"data row18 col2\" >0</td>\n",
       "                        <td id=\"T_cd06ad02_86ef_11ea_bc21_54e1ad53e9d8row18_col3\" class=\"data row18 col3\" >16</td>\n",
       "                        <td id=\"T_cd06ad02_86ef_11ea_bc21_54e1ad53e9d8row18_col4\" class=\"data row18 col4\" >0</td>\n",
       "                        <td id=\"T_cd06ad02_86ef_11ea_bc21_54e1ad53e9d8row18_col5\" class=\"data row18 col5\" >13</td>\n",
       "                        <td id=\"T_cd06ad02_86ef_11ea_bc21_54e1ad53e9d8row18_col6\" class=\"data row18 col6\" >-3</td>\n",
       "            </tr>\n",
       "            <tr>\n",
       "                        <th id=\"T_cd06ad02_86ef_11ea_bc21_54e1ad53e9d8level0_row19\" class=\"row_heading level0 row19\" >19</th>\n",
       "                        <td id=\"T_cd06ad02_86ef_11ea_bc21_54e1ad53e9d8row19_col0\" class=\"data row19 col0\" >Uttar Pradesh</td>\n",
       "                        <td id=\"T_cd06ad02_86ef_11ea_bc21_54e1ad53e9d8row19_col1\" class=\"data row19 col1\" >1604</td>\n",
       "                        <td id=\"T_cd06ad02_86ef_11ea_bc21_54e1ad53e9d8row19_col2\" class=\"data row19 col2\" >1</td>\n",
       "                        <td id=\"T_cd06ad02_86ef_11ea_bc21_54e1ad53e9d8row19_col3\" class=\"data row19 col3\" >248</td>\n",
       "                        <td id=\"T_cd06ad02_86ef_11ea_bc21_54e1ad53e9d8row19_col4\" class=\"data row19 col4\" >0</td>\n",
       "                        <td id=\"T_cd06ad02_86ef_11ea_bc21_54e1ad53e9d8row19_col5\" class=\"data row19 col5\" >1605</td>\n",
       "                        <td id=\"T_cd06ad02_86ef_11ea_bc21_54e1ad53e9d8row19_col6\" class=\"data row19 col6\" >1357</td>\n",
       "            </tr>\n",
       "            <tr>\n",
       "                        <th id=\"T_cd06ad02_86ef_11ea_bc21_54e1ad53e9d8level0_row20\" class=\"row_heading level0 row20\" >20</th>\n",
       "                        <td id=\"T_cd06ad02_86ef_11ea_bc21_54e1ad53e9d8row20_col0\" class=\"data row20 col0\" >Uttarakhand</td>\n",
       "                        <td id=\"T_cd06ad02_86ef_11ea_bc21_54e1ad53e9d8row20_col1\" class=\"data row20 col1\" >47</td>\n",
       "                        <td id=\"T_cd06ad02_86ef_11ea_bc21_54e1ad53e9d8row20_col2\" class=\"data row20 col2\" >0</td>\n",
       "                        <td id=\"T_cd06ad02_86ef_11ea_bc21_54e1ad53e9d8row20_col3\" class=\"data row20 col3\" >25</td>\n",
       "                        <td id=\"T_cd06ad02_86ef_11ea_bc21_54e1ad53e9d8row20_col4\" class=\"data row20 col4\" >0</td>\n",
       "                        <td id=\"T_cd06ad02_86ef_11ea_bc21_54e1ad53e9d8row20_col5\" class=\"data row20 col5\" >47</td>\n",
       "                        <td id=\"T_cd06ad02_86ef_11ea_bc21_54e1ad53e9d8row20_col6\" class=\"data row20 col6\" >22</td>\n",
       "            </tr>\n",
       "            <tr>\n",
       "                        <th id=\"T_cd06ad02_86ef_11ea_bc21_54e1ad53e9d8level0_row21\" class=\"row_heading level0 row21\" >21</th>\n",
       "                        <td id=\"T_cd06ad02_86ef_11ea_bc21_54e1ad53e9d8row21_col0\" class=\"data row21 col0\" >West Bengal</td>\n",
       "                        <td id=\"T_cd06ad02_86ef_11ea_bc21_54e1ad53e9d8row21_col1\" class=\"data row21 col1\" >514</td>\n",
       "                        <td id=\"T_cd06ad02_86ef_11ea_bc21_54e1ad53e9d8row21_col2\" class=\"data row21 col2\" >0</td>\n",
       "                        <td id=\"T_cd06ad02_86ef_11ea_bc21_54e1ad53e9d8row21_col3\" class=\"data row21 col3\" >103</td>\n",
       "                        <td id=\"T_cd06ad02_86ef_11ea_bc21_54e1ad53e9d8row21_col4\" class=\"data row21 col4\" >1</td>\n",
       "                        <td id=\"T_cd06ad02_86ef_11ea_bc21_54e1ad53e9d8row21_col5\" class=\"data row21 col5\" >514</td>\n",
       "                        <td id=\"T_cd06ad02_86ef_11ea_bc21_54e1ad53e9d8row21_col6\" class=\"data row21 col6\" >411</td>\n",
       "            </tr>\n",
       "            <tr>\n",
       "                        <th id=\"T_cd06ad02_86ef_11ea_bc21_54e1ad53e9d8level0_row22\" class=\"row_heading level0 row22\" >22</th>\n",
       "                        <td id=\"T_cd06ad02_86ef_11ea_bc21_54e1ad53e9d8row22_col0\" class=\"data row22 col0\" >Bihar</td>\n",
       "                        <td id=\"T_cd06ad02_86ef_11ea_bc21_54e1ad53e9d8row22_col1\" class=\"data row22 col1\" >176</td>\n",
       "                        <td id=\"T_cd06ad02_86ef_11ea_bc21_54e1ad53e9d8row22_col2\" class=\"data row22 col2\" >0</td>\n",
       "                        <td id=\"T_cd06ad02_86ef_11ea_bc21_54e1ad53e9d8row22_col3\" class=\"data row22 col3\" >44</td>\n",
       "                        <td id=\"T_cd06ad02_86ef_11ea_bc21_54e1ad53e9d8row22_col4\" class=\"data row22 col4\" >1</td>\n",
       "                        <td id=\"T_cd06ad02_86ef_11ea_bc21_54e1ad53e9d8row22_col5\" class=\"data row22 col5\" >176</td>\n",
       "                        <td id=\"T_cd06ad02_86ef_11ea_bc21_54e1ad53e9d8row22_col6\" class=\"data row22 col6\" >132</td>\n",
       "            </tr>\n",
       "            <tr>\n",
       "                        <th id=\"T_cd06ad02_86ef_11ea_bc21_54e1ad53e9d8level0_row23\" class=\"row_heading level0 row23\" >23</th>\n",
       "                        <td id=\"T_cd06ad02_86ef_11ea_bc21_54e1ad53e9d8row23_col0\" class=\"data row23 col0\" >Mizoram</td>\n",
       "                        <td id=\"T_cd06ad02_86ef_11ea_bc21_54e1ad53e9d8row23_col1\" class=\"data row23 col1\" >1</td>\n",
       "                        <td id=\"T_cd06ad02_86ef_11ea_bc21_54e1ad53e9d8row23_col2\" class=\"data row23 col2\" >0</td>\n",
       "                        <td id=\"T_cd06ad02_86ef_11ea_bc21_54e1ad53e9d8row23_col3\" class=\"data row23 col3\" >0</td>\n",
       "                        <td id=\"T_cd06ad02_86ef_11ea_bc21_54e1ad53e9d8row23_col4\" class=\"data row23 col4\" >0</td>\n",
       "                        <td id=\"T_cd06ad02_86ef_11ea_bc21_54e1ad53e9d8row23_col5\" class=\"data row23 col5\" >1</td>\n",
       "                        <td id=\"T_cd06ad02_86ef_11ea_bc21_54e1ad53e9d8row23_col6\" class=\"data row23 col6\" >1</td>\n",
       "            </tr>\n",
       "            <tr>\n",
       "                        <th id=\"T_cd06ad02_86ef_11ea_bc21_54e1ad53e9d8level0_row24\" class=\"row_heading level0 row24\" >24</th>\n",
       "                        <td id=\"T_cd06ad02_86ef_11ea_bc21_54e1ad53e9d8row24_col0\" class=\"data row24 col0\" >Goa</td>\n",
       "                        <td id=\"T_cd06ad02_86ef_11ea_bc21_54e1ad53e9d8row24_col1\" class=\"data row24 col1\" >6</td>\n",
       "                        <td id=\"T_cd06ad02_86ef_11ea_bc21_54e1ad53e9d8row24_col2\" class=\"data row24 col2\" >0</td>\n",
       "                        <td id=\"T_cd06ad02_86ef_11ea_bc21_54e1ad53e9d8row24_col3\" class=\"data row24 col3\" >6</td>\n",
       "                        <td id=\"T_cd06ad02_86ef_11ea_bc21_54e1ad53e9d8row24_col4\" class=\"data row24 col4\" >0</td>\n",
       "                        <td id=\"T_cd06ad02_86ef_11ea_bc21_54e1ad53e9d8row24_col5\" class=\"data row24 col5\" >6</td>\n",
       "                        <td id=\"T_cd06ad02_86ef_11ea_bc21_54e1ad53e9d8row24_col6\" class=\"data row24 col6\" >0</td>\n",
       "            </tr>\n",
       "            <tr>\n",
       "                        <th id=\"T_cd06ad02_86ef_11ea_bc21_54e1ad53e9d8level0_row25\" class=\"row_heading level0 row25\" >25</th>\n",
       "                        <td id=\"T_cd06ad02_86ef_11ea_bc21_54e1ad53e9d8row25_col0\" class=\"data row25 col0\" >Manipur</td>\n",
       "                        <td id=\"T_cd06ad02_86ef_11ea_bc21_54e1ad53e9d8row25_col1\" class=\"data row25 col1\" >1</td>\n",
       "                        <td id=\"T_cd06ad02_86ef_11ea_bc21_54e1ad53e9d8row25_col2\" class=\"data row25 col2\" >0</td>\n",
       "                        <td id=\"T_cd06ad02_86ef_11ea_bc21_54e1ad53e9d8row25_col3\" class=\"data row25 col3\" >1</td>\n",
       "                        <td id=\"T_cd06ad02_86ef_11ea_bc21_54e1ad53e9d8row25_col4\" class=\"data row25 col4\" >0</td>\n",
       "                        <td id=\"T_cd06ad02_86ef_11ea_bc21_54e1ad53e9d8row25_col5\" class=\"data row25 col5\" >1</td>\n",
       "                        <td id=\"T_cd06ad02_86ef_11ea_bc21_54e1ad53e9d8row25_col6\" class=\"data row25 col6\" >0</td>\n",
       "            </tr>\n",
       "            <tr>\n",
       "                        <th id=\"T_cd06ad02_86ef_11ea_bc21_54e1ad53e9d8level0_row26\" class=\"row_heading level0 row26\" >26</th>\n",
       "                        <td id=\"T_cd06ad02_86ef_11ea_bc21_54e1ad53e9d8row26_col0\" class=\"data row26 col0\" >Jharkhand</td>\n",
       "                        <td id=\"T_cd06ad02_86ef_11ea_bc21_54e1ad53e9d8row26_col1\" class=\"data row26 col1\" >56</td>\n",
       "                        <td id=\"T_cd06ad02_86ef_11ea_bc21_54e1ad53e9d8row26_col2\" class=\"data row26 col2\" >0</td>\n",
       "                        <td id=\"T_cd06ad02_86ef_11ea_bc21_54e1ad53e9d8row26_col3\" class=\"data row26 col3\" >8</td>\n",
       "                        <td id=\"T_cd06ad02_86ef_11ea_bc21_54e1ad53e9d8row26_col4\" class=\"data row26 col4\" >3</td>\n",
       "                        <td id=\"T_cd06ad02_86ef_11ea_bc21_54e1ad53e9d8row26_col5\" class=\"data row26 col5\" >56</td>\n",
       "                        <td id=\"T_cd06ad02_86ef_11ea_bc21_54e1ad53e9d8row26_col6\" class=\"data row26 col6\" >48</td>\n",
       "            </tr>\n",
       "    </tbody></table>"
      ],
      "text/plain": [
       "<pandas.io.formats.style.Styler at 0x248f16b9248>"
      ]
     },
     "execution_count": 11,
     "metadata": {},
     "output_type": "execute_result"
    }
   ],
   "source": [
    "df.style.background_gradient(cmap=\"Reds\")"
   ]
  },
  {
   "cell_type": "code",
   "execution_count": 12,
   "metadata": {},
   "outputs": [],
   "source": [
    "Total_Active_Cases=df.groupby(\"Name of State / UT\")[\"Active Cases\"].sum().sort_values(ascending=False).to_frame()"
   ]
  },
  {
   "cell_type": "code",
   "execution_count": 13,
   "metadata": {},
   "outputs": [
    {
     "data": {
      "text/html": [
       "<div>\n",
       "<style scoped>\n",
       "    .dataframe tbody tr th:only-of-type {\n",
       "        vertical-align: middle;\n",
       "    }\n",
       "\n",
       "    .dataframe tbody tr th {\n",
       "        vertical-align: top;\n",
       "    }\n",
       "\n",
       "    .dataframe thead th {\n",
       "        text-align: right;\n",
       "    }\n",
       "</style>\n",
       "<table border=\"1\" class=\"dataframe\">\n",
       "  <thead>\n",
       "    <tr style=\"text-align: right;\">\n",
       "      <th></th>\n",
       "      <th>Active Cases</th>\n",
       "    </tr>\n",
       "    <tr>\n",
       "      <th>Name of State / UT</th>\n",
       "      <th></th>\n",
       "    </tr>\n",
       "  </thead>\n",
       "  <tbody>\n",
       "    <tr>\n",
       "      <th>Maharashtra</th>\n",
       "      <td>5476</td>\n",
       "    </tr>\n",
       "    <tr>\n",
       "      <th>Gujarat</th>\n",
       "      <td>2359</td>\n",
       "    </tr>\n",
       "    <tr>\n",
       "      <th>Madhya Pradesh</th>\n",
       "      <td>1642</td>\n",
       "    </tr>\n",
       "    <tr>\n",
       "      <th>Delhi</th>\n",
       "      <td>1520</td>\n",
       "    </tr>\n",
       "    <tr>\n",
       "      <th>Rajasthan</th>\n",
       "      <td>1473</td>\n",
       "    </tr>\n",
       "    <tr>\n",
       "      <th>Uttar Pradesh</th>\n",
       "      <td>1357</td>\n",
       "    </tr>\n",
       "    <tr>\n",
       "      <th>Andhra Pradesh</th>\n",
       "      <td>944</td>\n",
       "    </tr>\n",
       "    <tr>\n",
       "      <th>Tamil Nadu</th>\n",
       "      <td>820</td>\n",
       "    </tr>\n",
       "    <tr>\n",
       "      <th>Telengana</th>\n",
       "      <td>704</td>\n",
       "    </tr>\n",
       "    <tr>\n",
       "      <th>West Bengal</th>\n",
       "      <td>411</td>\n",
       "    </tr>\n",
       "    <tr>\n",
       "      <th>Jammu and Kashmir</th>\n",
       "      <td>318</td>\n",
       "    </tr>\n",
       "    <tr>\n",
       "      <th>Karnataka</th>\n",
       "      <td>305</td>\n",
       "    </tr>\n",
       "    <tr>\n",
       "      <th>Punjab</th>\n",
       "      <td>207</td>\n",
       "    </tr>\n",
       "    <tr>\n",
       "      <th>Bihar</th>\n",
       "      <td>132</td>\n",
       "    </tr>\n",
       "    <tr>\n",
       "      <th>Kerala</th>\n",
       "      <td>117</td>\n",
       "    </tr>\n",
       "    <tr>\n",
       "      <th>Haryana</th>\n",
       "      <td>100</td>\n",
       "    </tr>\n",
       "    <tr>\n",
       "      <th>Odisha</th>\n",
       "      <td>57</td>\n",
       "    </tr>\n",
       "    <tr>\n",
       "      <th>Jharkhand</th>\n",
       "      <td>48</td>\n",
       "    </tr>\n",
       "    <tr>\n",
       "      <th>Himachal Pradesh</th>\n",
       "      <td>22</td>\n",
       "    </tr>\n",
       "    <tr>\n",
       "      <th>Uttarakhand</th>\n",
       "      <td>22</td>\n",
       "    </tr>\n",
       "    <tr>\n",
       "      <th>Chandigarh</th>\n",
       "      <td>12</td>\n",
       "    </tr>\n",
       "    <tr>\n",
       "      <th>Chhattisgarh</th>\n",
       "      <td>4</td>\n",
       "    </tr>\n",
       "    <tr>\n",
       "      <th>Mizoram</th>\n",
       "      <td>1</td>\n",
       "    </tr>\n",
       "    <tr>\n",
       "      <th>Manipur</th>\n",
       "      <td>0</td>\n",
       "    </tr>\n",
       "    <tr>\n",
       "      <th>Goa</th>\n",
       "      <td>0</td>\n",
       "    </tr>\n",
       "    <tr>\n",
       "      <th>Puducherry</th>\n",
       "      <td>-3</td>\n",
       "    </tr>\n",
       "    <tr>\n",
       "      <th>Ladakh</th>\n",
       "      <td>-3</td>\n",
       "    </tr>\n",
       "  </tbody>\n",
       "</table>\n",
       "</div>"
      ],
      "text/plain": [
       "                    Active Cases\n",
       "Name of State / UT              \n",
       "Maharashtra                 5476\n",
       "Gujarat                     2359\n",
       "Madhya Pradesh              1642\n",
       "Delhi                       1520\n",
       "Rajasthan                   1473\n",
       "Uttar Pradesh               1357\n",
       "Andhra Pradesh               944\n",
       "Tamil Nadu                   820\n",
       "Telengana                    704\n",
       "West Bengal                  411\n",
       "Jammu and Kashmir            318\n",
       "Karnataka                    305\n",
       "Punjab                       207\n",
       "Bihar                        132\n",
       "Kerala                       117\n",
       "Haryana                      100\n",
       "Odisha                        57\n",
       "Jharkhand                     48\n",
       "Himachal Pradesh              22\n",
       "Uttarakhand                   22\n",
       "Chandigarh                    12\n",
       "Chhattisgarh                   4\n",
       "Mizoram                        1\n",
       "Manipur                        0\n",
       "Goa                            0\n",
       "Puducherry                    -3\n",
       "Ladakh                        -3"
      ]
     },
     "execution_count": 13,
     "metadata": {},
     "output_type": "execute_result"
    }
   ],
   "source": [
    "Total_Active_Cases"
   ]
  },
  {
   "cell_type": "code",
   "execution_count": 14,
   "metadata": {},
   "outputs": [
    {
     "data": {
      "text/html": [
       "<style  type=\"text/css\" >\n",
       "    #T_cd0ebf1e_86ef_11ea_b818_54e1ad53e9d8row0_col0 {\n",
       "            background-color:  #67000d;\n",
       "            color:  #f1f1f1;\n",
       "        }    #T_cd0ebf1e_86ef_11ea_b818_54e1ad53e9d8row1_col0 {\n",
       "            background-color:  #fc8060;\n",
       "            color:  #000000;\n",
       "        }    #T_cd0ebf1e_86ef_11ea_b818_54e1ad53e9d8row2_col0 {\n",
       "            background-color:  #fcab8f;\n",
       "            color:  #000000;\n",
       "        }    #T_cd0ebf1e_86ef_11ea_b818_54e1ad53e9d8row3_col0 {\n",
       "            background-color:  #fcb296;\n",
       "            color:  #000000;\n",
       "        }    #T_cd0ebf1e_86ef_11ea_b818_54e1ad53e9d8row4_col0 {\n",
       "            background-color:  #fcb69b;\n",
       "            color:  #000000;\n",
       "        }    #T_cd0ebf1e_86ef_11ea_b818_54e1ad53e9d8row5_col0 {\n",
       "            background-color:  #fcbca2;\n",
       "            color:  #000000;\n",
       "        }    #T_cd0ebf1e_86ef_11ea_b818_54e1ad53e9d8row6_col0 {\n",
       "            background-color:  #fdd2bf;\n",
       "            color:  #000000;\n",
       "        }    #T_cd0ebf1e_86ef_11ea_b818_54e1ad53e9d8row7_col0 {\n",
       "            background-color:  #fed9c9;\n",
       "            color:  #000000;\n",
       "        }    #T_cd0ebf1e_86ef_11ea_b818_54e1ad53e9d8row8_col0 {\n",
       "            background-color:  #fedfd0;\n",
       "            color:  #000000;\n",
       "        }    #T_cd0ebf1e_86ef_11ea_b818_54e1ad53e9d8row9_col0 {\n",
       "            background-color:  #fee8de;\n",
       "            color:  #000000;\n",
       "        }    #T_cd0ebf1e_86ef_11ea_b818_54e1ad53e9d8row10_col0 {\n",
       "            background-color:  #ffece3;\n",
       "            color:  #000000;\n",
       "        }    #T_cd0ebf1e_86ef_11ea_b818_54e1ad53e9d8row11_col0 {\n",
       "            background-color:  #ffece3;\n",
       "            color:  #000000;\n",
       "        }    #T_cd0ebf1e_86ef_11ea_b818_54e1ad53e9d8row12_col0 {\n",
       "            background-color:  #ffefe8;\n",
       "            color:  #000000;\n",
       "        }    #T_cd0ebf1e_86ef_11ea_b818_54e1ad53e9d8row13_col0 {\n",
       "            background-color:  #fff1ea;\n",
       "            color:  #000000;\n",
       "        }    #T_cd0ebf1e_86ef_11ea_b818_54e1ad53e9d8row14_col0 {\n",
       "            background-color:  #fff2eb;\n",
       "            color:  #000000;\n",
       "        }    #T_cd0ebf1e_86ef_11ea_b818_54e1ad53e9d8row15_col0 {\n",
       "            background-color:  #fff2ec;\n",
       "            color:  #000000;\n",
       "        }    #T_cd0ebf1e_86ef_11ea_b818_54e1ad53e9d8row16_col0 {\n",
       "            background-color:  #fff4ee;\n",
       "            color:  #000000;\n",
       "        }    #T_cd0ebf1e_86ef_11ea_b818_54e1ad53e9d8row17_col0 {\n",
       "            background-color:  #fff4ee;\n",
       "            color:  #000000;\n",
       "        }    #T_cd0ebf1e_86ef_11ea_b818_54e1ad53e9d8row18_col0 {\n",
       "            background-color:  #fff4ef;\n",
       "            color:  #000000;\n",
       "        }    #T_cd0ebf1e_86ef_11ea_b818_54e1ad53e9d8row19_col0 {\n",
       "            background-color:  #fff4ef;\n",
       "            color:  #000000;\n",
       "        }    #T_cd0ebf1e_86ef_11ea_b818_54e1ad53e9d8row20_col0 {\n",
       "            background-color:  #fff5f0;\n",
       "            color:  #000000;\n",
       "        }    #T_cd0ebf1e_86ef_11ea_b818_54e1ad53e9d8row21_col0 {\n",
       "            background-color:  #fff5f0;\n",
       "            color:  #000000;\n",
       "        }    #T_cd0ebf1e_86ef_11ea_b818_54e1ad53e9d8row22_col0 {\n",
       "            background-color:  #fff5f0;\n",
       "            color:  #000000;\n",
       "        }    #T_cd0ebf1e_86ef_11ea_b818_54e1ad53e9d8row23_col0 {\n",
       "            background-color:  #fff5f0;\n",
       "            color:  #000000;\n",
       "        }    #T_cd0ebf1e_86ef_11ea_b818_54e1ad53e9d8row24_col0 {\n",
       "            background-color:  #fff5f0;\n",
       "            color:  #000000;\n",
       "        }    #T_cd0ebf1e_86ef_11ea_b818_54e1ad53e9d8row25_col0 {\n",
       "            background-color:  #fff5f0;\n",
       "            color:  #000000;\n",
       "        }    #T_cd0ebf1e_86ef_11ea_b818_54e1ad53e9d8row26_col0 {\n",
       "            background-color:  #fff5f0;\n",
       "            color:  #000000;\n",
       "        }</style><table id=\"T_cd0ebf1e_86ef_11ea_b818_54e1ad53e9d8\" ><thead>    <tr>        <th class=\"blank level0\" ></th>        <th class=\"col_heading level0 col0\" >Active Cases</th>    </tr>    <tr>        <th class=\"index_name level0\" >Name of State / UT</th>        <th class=\"blank\" ></th>    </tr></thead><tbody>\n",
       "                <tr>\n",
       "                        <th id=\"T_cd0ebf1e_86ef_11ea_b818_54e1ad53e9d8level0_row0\" class=\"row_heading level0 row0\" >Maharashtra</th>\n",
       "                        <td id=\"T_cd0ebf1e_86ef_11ea_b818_54e1ad53e9d8row0_col0\" class=\"data row0 col0\" >5476</td>\n",
       "            </tr>\n",
       "            <tr>\n",
       "                        <th id=\"T_cd0ebf1e_86ef_11ea_b818_54e1ad53e9d8level0_row1\" class=\"row_heading level0 row1\" >Gujarat</th>\n",
       "                        <td id=\"T_cd0ebf1e_86ef_11ea_b818_54e1ad53e9d8row1_col0\" class=\"data row1 col0\" >2359</td>\n",
       "            </tr>\n",
       "            <tr>\n",
       "                        <th id=\"T_cd0ebf1e_86ef_11ea_b818_54e1ad53e9d8level0_row2\" class=\"row_heading level0 row2\" >Madhya Pradesh</th>\n",
       "                        <td id=\"T_cd0ebf1e_86ef_11ea_b818_54e1ad53e9d8row2_col0\" class=\"data row2 col0\" >1642</td>\n",
       "            </tr>\n",
       "            <tr>\n",
       "                        <th id=\"T_cd0ebf1e_86ef_11ea_b818_54e1ad53e9d8level0_row3\" class=\"row_heading level0 row3\" >Delhi</th>\n",
       "                        <td id=\"T_cd0ebf1e_86ef_11ea_b818_54e1ad53e9d8row3_col0\" class=\"data row3 col0\" >1520</td>\n",
       "            </tr>\n",
       "            <tr>\n",
       "                        <th id=\"T_cd0ebf1e_86ef_11ea_b818_54e1ad53e9d8level0_row4\" class=\"row_heading level0 row4\" >Rajasthan</th>\n",
       "                        <td id=\"T_cd0ebf1e_86ef_11ea_b818_54e1ad53e9d8row4_col0\" class=\"data row4 col0\" >1473</td>\n",
       "            </tr>\n",
       "            <tr>\n",
       "                        <th id=\"T_cd0ebf1e_86ef_11ea_b818_54e1ad53e9d8level0_row5\" class=\"row_heading level0 row5\" >Uttar Pradesh</th>\n",
       "                        <td id=\"T_cd0ebf1e_86ef_11ea_b818_54e1ad53e9d8row5_col0\" class=\"data row5 col0\" >1357</td>\n",
       "            </tr>\n",
       "            <tr>\n",
       "                        <th id=\"T_cd0ebf1e_86ef_11ea_b818_54e1ad53e9d8level0_row6\" class=\"row_heading level0 row6\" >Andhra Pradesh</th>\n",
       "                        <td id=\"T_cd0ebf1e_86ef_11ea_b818_54e1ad53e9d8row6_col0\" class=\"data row6 col0\" >944</td>\n",
       "            </tr>\n",
       "            <tr>\n",
       "                        <th id=\"T_cd0ebf1e_86ef_11ea_b818_54e1ad53e9d8level0_row7\" class=\"row_heading level0 row7\" >Tamil Nadu</th>\n",
       "                        <td id=\"T_cd0ebf1e_86ef_11ea_b818_54e1ad53e9d8row7_col0\" class=\"data row7 col0\" >820</td>\n",
       "            </tr>\n",
       "            <tr>\n",
       "                        <th id=\"T_cd0ebf1e_86ef_11ea_b818_54e1ad53e9d8level0_row8\" class=\"row_heading level0 row8\" >Telengana</th>\n",
       "                        <td id=\"T_cd0ebf1e_86ef_11ea_b818_54e1ad53e9d8row8_col0\" class=\"data row8 col0\" >704</td>\n",
       "            </tr>\n",
       "            <tr>\n",
       "                        <th id=\"T_cd0ebf1e_86ef_11ea_b818_54e1ad53e9d8level0_row9\" class=\"row_heading level0 row9\" >West Bengal</th>\n",
       "                        <td id=\"T_cd0ebf1e_86ef_11ea_b818_54e1ad53e9d8row9_col0\" class=\"data row9 col0\" >411</td>\n",
       "            </tr>\n",
       "            <tr>\n",
       "                        <th id=\"T_cd0ebf1e_86ef_11ea_b818_54e1ad53e9d8level0_row10\" class=\"row_heading level0 row10\" >Jammu and Kashmir</th>\n",
       "                        <td id=\"T_cd0ebf1e_86ef_11ea_b818_54e1ad53e9d8row10_col0\" class=\"data row10 col0\" >318</td>\n",
       "            </tr>\n",
       "            <tr>\n",
       "                        <th id=\"T_cd0ebf1e_86ef_11ea_b818_54e1ad53e9d8level0_row11\" class=\"row_heading level0 row11\" >Karnataka</th>\n",
       "                        <td id=\"T_cd0ebf1e_86ef_11ea_b818_54e1ad53e9d8row11_col0\" class=\"data row11 col0\" >305</td>\n",
       "            </tr>\n",
       "            <tr>\n",
       "                        <th id=\"T_cd0ebf1e_86ef_11ea_b818_54e1ad53e9d8level0_row12\" class=\"row_heading level0 row12\" >Punjab</th>\n",
       "                        <td id=\"T_cd0ebf1e_86ef_11ea_b818_54e1ad53e9d8row12_col0\" class=\"data row12 col0\" >207</td>\n",
       "            </tr>\n",
       "            <tr>\n",
       "                        <th id=\"T_cd0ebf1e_86ef_11ea_b818_54e1ad53e9d8level0_row13\" class=\"row_heading level0 row13\" >Bihar</th>\n",
       "                        <td id=\"T_cd0ebf1e_86ef_11ea_b818_54e1ad53e9d8row13_col0\" class=\"data row13 col0\" >132</td>\n",
       "            </tr>\n",
       "            <tr>\n",
       "                        <th id=\"T_cd0ebf1e_86ef_11ea_b818_54e1ad53e9d8level0_row14\" class=\"row_heading level0 row14\" >Kerala</th>\n",
       "                        <td id=\"T_cd0ebf1e_86ef_11ea_b818_54e1ad53e9d8row14_col0\" class=\"data row14 col0\" >117</td>\n",
       "            </tr>\n",
       "            <tr>\n",
       "                        <th id=\"T_cd0ebf1e_86ef_11ea_b818_54e1ad53e9d8level0_row15\" class=\"row_heading level0 row15\" >Haryana</th>\n",
       "                        <td id=\"T_cd0ebf1e_86ef_11ea_b818_54e1ad53e9d8row15_col0\" class=\"data row15 col0\" >100</td>\n",
       "            </tr>\n",
       "            <tr>\n",
       "                        <th id=\"T_cd0ebf1e_86ef_11ea_b818_54e1ad53e9d8level0_row16\" class=\"row_heading level0 row16\" >Odisha</th>\n",
       "                        <td id=\"T_cd0ebf1e_86ef_11ea_b818_54e1ad53e9d8row16_col0\" class=\"data row16 col0\" >57</td>\n",
       "            </tr>\n",
       "            <tr>\n",
       "                        <th id=\"T_cd0ebf1e_86ef_11ea_b818_54e1ad53e9d8level0_row17\" class=\"row_heading level0 row17\" >Jharkhand</th>\n",
       "                        <td id=\"T_cd0ebf1e_86ef_11ea_b818_54e1ad53e9d8row17_col0\" class=\"data row17 col0\" >48</td>\n",
       "            </tr>\n",
       "            <tr>\n",
       "                        <th id=\"T_cd0ebf1e_86ef_11ea_b818_54e1ad53e9d8level0_row18\" class=\"row_heading level0 row18\" >Himachal Pradesh</th>\n",
       "                        <td id=\"T_cd0ebf1e_86ef_11ea_b818_54e1ad53e9d8row18_col0\" class=\"data row18 col0\" >22</td>\n",
       "            </tr>\n",
       "            <tr>\n",
       "                        <th id=\"T_cd0ebf1e_86ef_11ea_b818_54e1ad53e9d8level0_row19\" class=\"row_heading level0 row19\" >Uttarakhand</th>\n",
       "                        <td id=\"T_cd0ebf1e_86ef_11ea_b818_54e1ad53e9d8row19_col0\" class=\"data row19 col0\" >22</td>\n",
       "            </tr>\n",
       "            <tr>\n",
       "                        <th id=\"T_cd0ebf1e_86ef_11ea_b818_54e1ad53e9d8level0_row20\" class=\"row_heading level0 row20\" >Chandigarh</th>\n",
       "                        <td id=\"T_cd0ebf1e_86ef_11ea_b818_54e1ad53e9d8row20_col0\" class=\"data row20 col0\" >12</td>\n",
       "            </tr>\n",
       "            <tr>\n",
       "                        <th id=\"T_cd0ebf1e_86ef_11ea_b818_54e1ad53e9d8level0_row21\" class=\"row_heading level0 row21\" >Chhattisgarh</th>\n",
       "                        <td id=\"T_cd0ebf1e_86ef_11ea_b818_54e1ad53e9d8row21_col0\" class=\"data row21 col0\" >4</td>\n",
       "            </tr>\n",
       "            <tr>\n",
       "                        <th id=\"T_cd0ebf1e_86ef_11ea_b818_54e1ad53e9d8level0_row22\" class=\"row_heading level0 row22\" >Mizoram</th>\n",
       "                        <td id=\"T_cd0ebf1e_86ef_11ea_b818_54e1ad53e9d8row22_col0\" class=\"data row22 col0\" >1</td>\n",
       "            </tr>\n",
       "            <tr>\n",
       "                        <th id=\"T_cd0ebf1e_86ef_11ea_b818_54e1ad53e9d8level0_row23\" class=\"row_heading level0 row23\" >Manipur</th>\n",
       "                        <td id=\"T_cd0ebf1e_86ef_11ea_b818_54e1ad53e9d8row23_col0\" class=\"data row23 col0\" >0</td>\n",
       "            </tr>\n",
       "            <tr>\n",
       "                        <th id=\"T_cd0ebf1e_86ef_11ea_b818_54e1ad53e9d8level0_row24\" class=\"row_heading level0 row24\" >Goa</th>\n",
       "                        <td id=\"T_cd0ebf1e_86ef_11ea_b818_54e1ad53e9d8row24_col0\" class=\"data row24 col0\" >0</td>\n",
       "            </tr>\n",
       "            <tr>\n",
       "                        <th id=\"T_cd0ebf1e_86ef_11ea_b818_54e1ad53e9d8level0_row25\" class=\"row_heading level0 row25\" >Puducherry</th>\n",
       "                        <td id=\"T_cd0ebf1e_86ef_11ea_b818_54e1ad53e9d8row25_col0\" class=\"data row25 col0\" >-3</td>\n",
       "            </tr>\n",
       "            <tr>\n",
       "                        <th id=\"T_cd0ebf1e_86ef_11ea_b818_54e1ad53e9d8level0_row26\" class=\"row_heading level0 row26\" >Ladakh</th>\n",
       "                        <td id=\"T_cd0ebf1e_86ef_11ea_b818_54e1ad53e9d8row26_col0\" class=\"data row26 col0\" >-3</td>\n",
       "            </tr>\n",
       "    </tbody></table>"
      ],
      "text/plain": [
       "<pandas.io.formats.style.Styler at 0x248f1788408>"
      ]
     },
     "execution_count": 14,
     "metadata": {},
     "output_type": "execute_result"
    }
   ],
   "source": [
    "Total_Active_Cases.style.background_gradient(cmap=\"Reds\")"
   ]
  },
  {
   "cell_type": "code",
   "execution_count": 15,
   "metadata": {},
   "outputs": [],
   "source": [
    "############## Panda Graph"
   ]
  },
  {
   "cell_type": "code",
   "execution_count": 16,
   "metadata": {},
   "outputs": [
    {
     "data": {
      "text/plain": [
       "<matplotlib.axes._subplots.AxesSubplot at 0x248f177c608>"
      ]
     },
     "execution_count": 16,
     "metadata": {},
     "output_type": "execute_result"
    },
    {
     "data": {
      "image/png": "[encoded data removed]",
      "text/plain": [
       "<Figure size 432x288 with 1 Axes>"
      ]
     },
     "metadata": {
      "needs_background": "light"
     },
     "output_type": "display_data"
    }
   ],
   "source": [
    "df.plot(kind='bar', x=\"Name of State / UT\", y=\"Total Cases\")"
   ]
  },
  {
   "cell_type": "code",
   "execution_count": 17,
   "metadata": {},
   "outputs": [
    {
     "data": {
      "text/plain": [
       "<BarContainer object of 27 artists>"
      ]
     },
     "execution_count": 17,
     "metadata": {},
     "output_type": "execute_result"
    },
    {
     "data": {
      "image/png": "[encoded data removed]",
      "text/plain": [
       "<Figure size 432x288 with 1 Axes>"
      ]
     },
     "metadata": {
      "needs_background": "light"
     },
     "output_type": "display_data"
    }
   ],
   "source": [
    "################ Matplotlib graph\n",
    "\n",
    "plt.bar(df[\"Name of State / UT\"],df[\"Total Cases\"])"
   ]
  },
  {
   "cell_type": "code",
   "execution_count": 18,
   "metadata": {},
   "outputs": [
    {
     "data": {
      "application/vnd.plotly.v1+json": {
       "config": {
        "linkText": "Export to plot.ly",
        "plotlyServerURL": "https://plot.ly",
        "showLink": true
       },
       "data": [
        {
         "marker": {
          "color": "rgba(255, 153, 51, 0.6)",
          "line": {
           "color": "rgba(255, 153, 51, 1.0)",
           "width": 1
          }
         },
         "name": "Total Cases",
         "orientation": "v",
         "text": "",
         "type": "bar",
         "x": [
          "Andhra Pradesh",
          "Chhattisgarh",
          "Delhi",
          "Gujarat",
          "Haryana",
          "Himachal Pradesh",
          "Karnataka",
          "Kerala",
          "Madhya Pradesh",
          "Maharashtra",
          "Odisha",
          "Puducherry",
          "Punjab",
          "Rajasthan",
          "Tamil Nadu",
          "Telengana",
          "Chandigarh",
          "Jammu and Kashmir",
          "Ladakh",
          "Uttar Pradesh",
          "Uttarakhand",
          "West Bengal",
          "Bihar",
          "Mizoram",
          "Goa",
          "Manipur",
          "Jharkhand"
         ],
         "y": [
          955,
          36,
          2377,
          2624,
          286,
          40,
          463,
          455,
          1852,
          6433,
          90,
          1,
          277,
          1966,
          1686,
          995,
          27,
          427,
          13,
          1605,
          47,
          514,
          176,
          1,
          6,
          1,
          56
         ]
        }
       ],
       "layout": {
        "legend": {
         "bgcolor": "#F5F6F9",
         "font": {
          "color": "#4D5663"
         }
        },
        "paper_bgcolor": "#F5F6F9",
        "plot_bgcolor": "#F5F6F9",
        "template": {
         "data": {
          "bar": [
           {
            "error_x": {
             "color": "#2a3f5f"
            },
            "error_y": {
             "color": "#2a3f5f"
            },
            "marker": {
             "line": {
              "color": "#E5ECF6",
              "width": 0.5
             }
            },
            "type": "bar"
           }
          ],
          "barpolar": [
           {
            "marker": {
             "line": {
              "color": "#E5ECF6",
              "width": 0.5
             }
            },
            "type": "barpolar"
           }
          ],
          "carpet": [
           {
            "aaxis": {
             "endlinecolor": "#2a3f5f",
             "gridcolor": "white",
             "linecolor": "white",
             "minorgridcolor": "white",
             "startlinecolor": "#2a3f5f"
            },
            "baxis": {
             "endlinecolor": "#2a3f5f",
             "gridcolor": "white",
             "linecolor": "white",
             "minorgridcolor": "white",
             "startlinecolor": "#2a3f5f"
            },
            "type": "carpet"
           }
          ],
          "choropleth": [
           {
            "colorbar": {
             "outlinewidth": 0,
             "ticks": ""
            },
            "type": "choropleth"
           }
          ],
          "contour": [
           {
            "colorbar": {
             "outlinewidth": 0,
             "ticks": ""
            },
            "colorscale": [
             [
              0,
              "#0d0887"
             ],
             [
              0.1111111111111111,
              "#46039f"
             ],
             [
              0.2222222222222222,
              "#7201a8"
             ],
             [
              0.3333333333333333,
              "#9c179e"
             ],
             [
              0.4444444444444444,
              "#bd3786"
             ],
             [
              0.5555555555555556,
              "#d8576b"
             ],
             [
              0.6666666666666666,
              "#ed7953"
             ],
             [
              0.7777777777777778,
              "#fb9f3a"
             ],
             [
              0.8888888888888888,
              "#fdca26"
             ],
             [
              1,
              "#f0f921"
             ]
            ],
            "type": "contour"
           }
          ],
          "contourcarpet": [
           {
            "colorbar": {
             "outlinewidth": 0,
             "ticks": ""
            },
            "type": "contourcarpet"
           }
          ],
          "heatmap": [
           {
            "colorbar": {
             "outlinewidth": 0,
             "ticks": ""
            },
            "colorscale": [
             [
              0,
              "#0d0887"
             ],
             [
              0.1111111111111111,
              "#46039f"
             ],
             [
              0.2222222222222222,
              "#7201a8"
             ],
             [
              0.3333333333333333,
              "#9c179e"
             ],
             [
              0.4444444444444444,
              "#bd3786"
             ],
             [
              0.5555555555555556,
              "#d8576b"
             ],
             [
              0.6666666666666666,
              "#ed7953"
             ],
             [
              0.7777777777777778,
              "#fb9f3a"
             ],
             [
              0.8888888888888888,
              "#fdca26"
             ],
             [
              1,
              "#f0f921"
             ]
            ],
            "type": "heatmap"
           }
          ],
          "heatmapgl": [
           {
            "colorbar": {
             "outlinewidth": 0,
             "ticks": ""
            },
            "colorscale": [
             [
              0,
              "#0d0887"
             ],
             [
              0.1111111111111111,
              "#46039f"
             ],
             [
              0.2222222222222222,
              "#7201a8"
             ],
             [
              0.3333333333333333,
              "#9c179e"
             ],
             [
              0.4444444444444444,
              "#bd3786"
             ],
             [
              0.5555555555555556,
              "#d8576b"
             ],
             [
              0.6666666666666666,
              "#ed7953"
             ],
             [
              0.7777777777777778,
              "#fb9f3a"
             ],
             [
              0.8888888888888888,
              "#fdca26"
             ],
             [
              1,
              "#f0f921"
             ]
            ],
            "type": "heatmapgl"
           }
          ],
          "histogram": [
           {
            "marker": {
             "colorbar": {
              "outlinewidth": 0,
              "ticks": ""
             }
            },
            "type": "histogram"
           }
          ],
          "histogram2d": [
           {
            "colorbar": {
             "outlinewidth": 0,
             "ticks": ""
            },
            "colorscale": [
             [
              0,
              "#0d0887"
             ],
             [
              0.1111111111111111,
              "#46039f"
             ],
             [
              0.2222222222222222,
              "#7201a8"
             ],
             [
              0.3333333333333333,
              "#9c179e"
             ],
             [
              0.4444444444444444,
              "#bd3786"
             ],
             [
              0.5555555555555556,
              "#d8576b"
             ],
             [
              0.6666666666666666,
              "#ed7953"
             ],
             [
              0.7777777777777778,
              "#fb9f3a"
             ],
             [
              0.8888888888888888,
              "#fdca26"
             ],
             [
              1,
              "#f0f921"
             ]
            ],
            "type": "histogram2d"
           }
          ],
          "histogram2dcontour": [
           {
            "colorbar": {
             "outlinewidth": 0,
             "ticks": ""
            },
            "colorscale": [
             [
              0,
              "#0d0887"
             ],
             [
              0.1111111111111111,
              "#46039f"
             ],
             [
              0.2222222222222222,
              "#7201a8"
             ],
             [
              0.3333333333333333,
              "#9c179e"
             ],
             [
              0.4444444444444444,
              "#bd3786"
             ],
             [
              0.5555555555555556,
              "#d8576b"
             ],
             [
              0.6666666666666666,
              "#ed7953"
             ],
             [
              0.7777777777777778,
              "#fb9f3a"
             ],
             [
              0.8888888888888888,
              "#fdca26"
             ],
             [
              1,
              "#f0f921"
             ]
            ],
            "type": "histogram2dcontour"
           }
          ],
          "mesh3d": [
           {
            "colorbar": {
             "outlinewidth": 0,
             "ticks": ""
            },
            "type": "mesh3d"
           }
          ],
          "parcoords": [
           {
            "line": {
             "colorbar": {
              "outlinewidth": 0,
              "ticks": ""
             }
            },
            "type": "parcoords"
           }
          ],
          "pie": [
           {
            "automargin": true,
            "type": "pie"
           }
          ],
          "scatter": [
           {
            "marker": {
             "colorbar": {
              "outlinewidth": 0,
              "ticks": ""
             }
            },
            "type": "scatter"
           }
          ],
          "scatter3d": [
           {
            "line": {
             "colorbar": {
              "outlinewidth": 0,
              "ticks": ""
             }
            },
            "marker": {
             "colorbar": {
              "outlinewidth": 0,
              "ticks": ""
             }
            },
            "type": "scatter3d"
           }
          ],
          "scattercarpet": [
           {
            "marker": {
             "colorbar": {
              "outlinewidth": 0,
              "ticks": ""
             }
            },
            "type": "scattercarpet"
           }
          ],
          "scattergeo": [
           {
            "marker": {
             "colorbar": {
              "outlinewidth": 0,
              "ticks": ""
             }
            },
            "type": "scattergeo"
           }
          ],
          "scattergl": [
           {
            "marker": {
             "colorbar": {
              "outlinewidth": 0,
              "ticks": ""
             }
            },
            "type": "scattergl"
           }
          ],
          "scattermapbox": [
           {
            "marker": {
             "colorbar": {
              "outlinewidth": 0,
              "ticks": ""
             }
            },
            "type": "scattermapbox"
           }
          ],
          "scatterpolar": [
           {
            "marker": {
             "colorbar": {
              "outlinewidth": 0,
              "ticks": ""
             }
            },
            "type": "scatterpolar"
           }
          ],
          "scatterpolargl": [
           {
            "marker": {
             "colorbar": {
              "outlinewidth": 0,
              "ticks": ""
             }
            },
            "type": "scatterpolargl"
           }
          ],
          "scatterternary": [
           {
            "marker": {
             "colorbar": {
              "outlinewidth": 0,
              "ticks": ""
             }
            },
            "type": "scatterternary"
           }
          ],
          "surface": [
           {
            "colorbar": {
             "outlinewidth": 0,
             "ticks": ""
            },
            "colorscale": [
             [
              0,
              "#0d0887"
             ],
             [
              0.1111111111111111,
              "#46039f"
             ],
             [
              0.2222222222222222,
              "#7201a8"
             ],
             [
              0.3333333333333333,
              "#9c179e"
             ],
             [
              0.4444444444444444,
              "#bd3786"
             ],
             [
              0.5555555555555556,
              "#d8576b"
             ],
             [
              0.6666666666666666,
              "#ed7953"
             ],
             [
              0.7777777777777778,
              "#fb9f3a"
             ],
             [
              0.8888888888888888,
              "#fdca26"
             ],
             [
              1,
              "#f0f921"
             ]
            ],
            "type": "surface"
           }
          ],
          "table": [
           {
            "cells": {
             "fill": {
              "color": "#EBF0F8"
             },
             "line": {
              "color": "white"
             }
            },
            "header": {
             "fill": {
              "color": "#C8D4E3"
             },
             "line": {
              "color": "white"
             }
            },
            "type": "table"
           }
          ]
         },
         "layout": {
          "annotationdefaults": {
           "arrowcolor": "#2a3f5f",
           "arrowhead": 0,
           "arrowwidth": 1
          },
          "coloraxis": {
           "colorbar": {
            "outlinewidth": 0,
            "ticks": ""
           }
          },
          "colorscale": {
           "diverging": [
            [
             0,
             "#8e0152"
            ],
            [
             0.1,
             "#c51b7d"
            ],
            [
             0.2,
             "#de77ae"
            ],
            [
             0.3,
             "#f1b6da"
            ],
            [
             0.4,
             "#fde0ef"
            ],
            [
             0.5,
             "#f7f7f7"
            ],
            [
             0.6,
             "#e6f5d0"
            ],
            [
             0.7,
             "#b8e186"
            ],
            [
             0.8,
             "#7fbc41"
            ],
            [
             0.9,
             "#4d9221"
            ],
            [
             1,
             "#276419"
            ]
           ],
           "sequential": [
            [
             0,
             "#0d0887"
            ],
            [
             0.1111111111111111,
             "#46039f"
            ],
            [
             0.2222222222222222,
             "#7201a8"
            ],
            [
             0.3333333333333333,
             "#9c179e"
            ],
            [
             0.4444444444444444,
             "#bd3786"
            ],
            [
             0.5555555555555556,
             "#d8576b"
            ],
            [
             0.6666666666666666,
             "#ed7953"
            ],
            [
             0.7777777777777778,
             "#fb9f3a"
            ],
            [
             0.8888888888888888,
             "#fdca26"
            ],
            [
             1,
             "#f0f921"
            ]
           ],
           "sequentialminus": [
            [
             0,
             "#0d0887"
            ],
            [
             0.1111111111111111,
             "#46039f"
            ],
            [
             0.2222222222222222,
             "#7201a8"
            ],
            [
             0.3333333333333333,
             "#9c179e"
            ],
            [
             0.4444444444444444,
             "#bd3786"
            ],
            [
             0.5555555555555556,
             "#d8576b"
            ],
            [
             0.6666666666666666,
             "#ed7953"
            ],
            [
             0.7777777777777778,
             "#fb9f3a"
            ],
            [
             0.8888888888888888,
             "#fdca26"
            ],
            [
             1,
             "#f0f921"
            ]
           ]
          },
          "colorway": [
           "#636efa",
           "#EF553B",
           "#00cc96",
           "#ab63fa",
           "#FFA15A",
           "#19d3f3",
           "#FF6692",
           "#B6E880",
           "#FF97FF",
           "#FECB52"
          ],
          "font": {
           "color": "#2a3f5f"
          },
          "geo": {
           "bgcolor": "white",
           "lakecolor": "white",
           "landcolor": "#E5ECF6",
           "showlakes": true,
           "showland": true,
           "subunitcolor": "white"
          },
          "hoverlabel": {
           "align": "left"
          },
          "hovermode": "closest",
          "mapbox": {
           "style": "light"
          },
          "paper_bgcolor": "white",
          "plot_bgcolor": "#E5ECF6",
          "polar": {
           "angularaxis": {
            "gridcolor": "white",
            "linecolor": "white",
            "ticks": ""
           },
           "bgcolor": "#E5ECF6",
           "radialaxis": {
            "gridcolor": "white",
            "linecolor": "white",
            "ticks": ""
           }
          },
          "scene": {
           "xaxis": {
            "backgroundcolor": "#E5ECF6",
            "gridcolor": "white",
            "gridwidth": 2,
            "linecolor": "white",
            "showbackground": true,
            "ticks": "",
            "zerolinecolor": "white"
           },
           "yaxis": {
            "backgroundcolor": "#E5ECF6",
            "gridcolor": "white",
            "gridwidth": 2,
            "linecolor": "white",
            "showbackground": true,
            "ticks": "",
            "zerolinecolor": "white"
           },
           "zaxis": {
            "backgroundcolor": "#E5ECF6",
            "gridcolor": "white",
            "gridwidth": 2,
            "linecolor": "white",
            "showbackground": true,
            "ticks": "",
            "zerolinecolor": "white"
           }
          },
          "shapedefaults": {
           "line": {
            "color": "#2a3f5f"
           }
          },
          "ternary": {
           "aaxis": {
            "gridcolor": "white",
            "linecolor": "white",
            "ticks": ""
           },
           "baxis": {
            "gridcolor": "white",
            "linecolor": "white",
            "ticks": ""
           },
           "bgcolor": "#E5ECF6",
           "caxis": {
            "gridcolor": "white",
            "linecolor": "white",
            "ticks": ""
           }
          },
          "title": {
           "x": 0.05
          },
          "xaxis": {
           "automargin": true,
           "gridcolor": "white",
           "linecolor": "white",
           "ticks": "",
           "title": {
            "standoff": 15
           },
           "zerolinecolor": "white",
           "zerolinewidth": 2
          },
          "yaxis": {
           "automargin": true,
           "gridcolor": "white",
           "linecolor": "white",
           "ticks": "",
           "title": {
            "standoff": 15
           },
           "zerolinecolor": "white",
           "zerolinewidth": 2
          }
         }
        },
        "title": {
         "font": {
          "color": "#4D5663"
         }
        },
        "xaxis": {
         "gridcolor": "#E1E5ED",
         "showgrid": true,
         "tickfont": {
          "color": "#4D5663"
         },
         "title": {
          "font": {
           "color": "#4D5663"
          },
          "text": ""
         },
         "zerolinecolor": "#E1E5ED"
        },
        "yaxis": {
         "gridcolor": "#E1E5ED",
         "showgrid": true,
         "tickfont": {
          "color": "#4D5663"
         },
         "title": {
          "font": {
           "color": "#4D5663"
          },
          "text": ""
         },
         "zerolinecolor": "#E1E5ED"
        }
       }
      },
      "text/html": [
       "<div>\n",
       "        \n",
       "        \n",
       "            <div id=\"2c0e14d7-29d1-4705-8306-ce8b44203033\" class=\"plotly-graph-div\" style=\"height:525px; width:100%;\"></div>\n",
       "            <script type=\"text/javascript\">\n",
       "                require([\"plotly\"], function(Plotly) {\n",
       "                    window.PLOTLYENV=window.PLOTLYENV || {};\n",
       "                    window.PLOTLYENV.BASE_URL='https://plot.ly';\n",
       "                    \n",
       "                if (document.getElementById(\"2c0e14d7-29d1-4705-8306-ce8b44203033\")) {\n",
       "                    Plotly.newPlot(\n",
       "                        '2c0e14d7-29d1-4705-8306-ce8b44203033',\n",
       "                        [{\"marker\": {\"color\": \"rgba(255, 153, 51, 0.6)\", \"line\": {\"color\": \"rgba(255, 153, 51, 1.0)\", \"width\": 1}}, \"name\": \"Total Cases\", \"orientation\": \"v\", \"text\": \"\", \"type\": \"bar\", \"x\": [\"Andhra Pradesh\", \"Chhattisgarh\", \"Delhi\", \"Gujarat\", \"Haryana\", \"Himachal Pradesh\", \"Karnataka\", \"Kerala\", \"Madhya Pradesh\", \"Maharashtra\", \"Odisha\", \"Puducherry\", \"Punjab\", \"Rajasthan\", \"Tamil Nadu\", \"Telengana\", \"Chandigarh\", \"Jammu and Kashmir\", \"Ladakh\", \"Uttar Pradesh\", \"Uttarakhand\", \"West Bengal\", \"Bihar\", \"Mizoram\", \"Goa\", \"Manipur\", \"Jharkhand\"], \"y\": [955, 36, 2377, 2624, 286, 40, 463, 455, 1852, 6433, 90, 1, 277, 1966, 1686, 995, 27, 427, 13, 1605, 47, 514, 176, 1, 6, 1, 56]}],\n",
       "                        {\"legend\": {\"bgcolor\": \"#F5F6F9\", \"font\": {\"color\": \"#4D5663\"}}, \"paper_bgcolor\": \"#F5F6F9\", \"plot_bgcolor\": \"#F5F6F9\", \"template\": {\"data\": {\"bar\": [{\"error_x\": {\"color\": \"#2a3f5f\"}, \"error_y\": {\"color\": \"#2a3f5f\"}, \"marker\": {\"line\": {\"color\": \"#E5ECF6\", \"width\": 0.5}}, \"type\": \"bar\"}], \"barpolar\": [{\"marker\": {\"line\": {\"color\": \"#E5ECF6\", \"width\": 0.5}}, \"type\": \"barpolar\"}], \"carpet\": [{\"aaxis\": {\"endlinecolor\": \"#2a3f5f\", \"gridcolor\": \"white\", \"linecolor\": \"white\", \"minorgridcolor\": \"white\", \"startlinecolor\": \"#2a3f5f\"}, \"baxis\": {\"endlinecolor\": \"#2a3f5f\", \"gridcolor\": \"white\", \"linecolor\": \"white\", \"minorgridcolor\": \"white\", \"startlinecolor\": \"#2a3f5f\"}, \"type\": \"carpet\"}], \"choropleth\": [{\"colorbar\": {\"outlinewidth\": 0, \"ticks\": \"\"}, \"type\": \"choropleth\"}], \"contour\": [{\"colorbar\": {\"outlinewidth\": 0, \"ticks\": \"\"}, \"colorscale\": [[0.0, \"#0d0887\"], [0.1111111111111111, \"#46039f\"], [0.2222222222222222, \"#7201a8\"], [0.3333333333333333, \"#9c179e\"], [0.4444444444444444, \"#bd3786\"], [0.5555555555555556, \"#d8576b\"], [0.6666666666666666, \"#ed7953\"], [0.7777777777777778, \"#fb9f3a\"], [0.8888888888888888, \"#fdca26\"], [1.0, \"#f0f921\"]], \"type\": \"contour\"}], \"contourcarpet\": [{\"colorbar\": {\"outlinewidth\": 0, \"ticks\": \"\"}, \"type\": \"contourcarpet\"}], \"heatmap\": [{\"colorbar\": {\"outlinewidth\": 0, \"ticks\": \"\"}, \"colorscale\": [[0.0, \"#0d0887\"], [0.1111111111111111, \"#46039f\"], [0.2222222222222222, \"#7201a8\"], [0.3333333333333333, \"#9c179e\"], [0.4444444444444444, \"#bd3786\"], [0.5555555555555556, \"#d8576b\"], [0.6666666666666666, \"#ed7953\"], [0.7777777777777778, \"#fb9f3a\"], [0.8888888888888888, \"#fdca26\"], [1.0, \"#f0f921\"]], \"type\": \"heatmap\"}], \"heatmapgl\": [{\"colorbar\": {\"outlinewidth\": 0, \"ticks\": \"\"}, \"colorscale\": [[0.0, \"#0d0887\"], [0.1111111111111111, \"#46039f\"], [0.2222222222222222, \"#7201a8\"], [0.3333333333333333, \"#9c179e\"], [0.4444444444444444, \"#bd3786\"], [0.5555555555555556, \"#d8576b\"], [0.6666666666666666, \"#ed7953\"], [0.7777777777777778, \"#fb9f3a\"], [0.8888888888888888, \"#fdca26\"], [1.0, \"#f0f921\"]], \"type\": \"heatmapgl\"}], \"histogram\": [{\"marker\": {\"colorbar\": {\"outlinewidth\": 0, \"ticks\": \"\"}}, \"type\": \"histogram\"}], \"histogram2d\": [{\"colorbar\": {\"outlinewidth\": 0, \"ticks\": \"\"}, \"colorscale\": [[0.0, \"#0d0887\"], [0.1111111111111111, \"#46039f\"], [0.2222222222222222, \"#7201a8\"], [0.3333333333333333, \"#9c179e\"], [0.4444444444444444, \"#bd3786\"], [0.5555555555555556, \"#d8576b\"], [0.6666666666666666, \"#ed7953\"], [0.7777777777777778, \"#fb9f3a\"], [0.8888888888888888, \"#fdca26\"], [1.0, \"#f0f921\"]], \"type\": \"histogram2d\"}], \"histogram2dcontour\": [{\"colorbar\": {\"outlinewidth\": 0, \"ticks\": \"\"}, \"colorscale\": [[0.0, \"#0d0887\"], [0.1111111111111111, \"#46039f\"], [0.2222222222222222, \"#7201a8\"], [0.3333333333333333, \"#9c179e\"], [0.4444444444444444, \"#bd3786\"], [0.5555555555555556, \"#d8576b\"], [0.6666666666666666, \"#ed7953\"], [0.7777777777777778, \"#fb9f3a\"], [0.8888888888888888, \"#fdca26\"], [1.0, \"#f0f921\"]], \"type\": \"histogram2dcontour\"}], \"mesh3d\": [{\"colorbar\": {\"outlinewidth\": 0, \"ticks\": \"\"}, \"type\": \"mesh3d\"}], \"parcoords\": [{\"line\": {\"colorbar\": {\"outlinewidth\": 0, \"ticks\": \"\"}}, \"type\": \"parcoords\"}], \"pie\": [{\"automargin\": true, \"type\": \"pie\"}], \"scatter\": [{\"marker\": {\"colorbar\": {\"outlinewidth\": 0, \"ticks\": \"\"}}, \"type\": \"scatter\"}], \"scatter3d\": [{\"line\": {\"colorbar\": {\"outlinewidth\": 0, \"ticks\": \"\"}}, \"marker\": {\"colorbar\": {\"outlinewidth\": 0, \"ticks\": \"\"}}, \"type\": \"scatter3d\"}], \"scattercarpet\": [{\"marker\": {\"colorbar\": {\"outlinewidth\": 0, \"ticks\": \"\"}}, \"type\": \"scattercarpet\"}], \"scattergeo\": [{\"marker\": {\"colorbar\": {\"outlinewidth\": 0, \"ticks\": \"\"}}, \"type\": \"scattergeo\"}], \"scattergl\": [{\"marker\": {\"colorbar\": {\"outlinewidth\": 0, \"ticks\": \"\"}}, \"type\": \"scattergl\"}], \"scattermapbox\": [{\"marker\": {\"colorbar\": {\"outlinewidth\": 0, \"ticks\": \"\"}}, \"type\": \"scattermapbox\"}], \"scatterpolar\": [{\"marker\": {\"colorbar\": {\"outlinewidth\": 0, \"ticks\": \"\"}}, \"type\": \"scatterpolar\"}], \"scatterpolargl\": [{\"marker\": {\"colorbar\": {\"outlinewidth\": 0, \"ticks\": \"\"}}, \"type\": \"scatterpolargl\"}], \"scatterternary\": [{\"marker\": {\"colorbar\": {\"outlinewidth\": 0, \"ticks\": \"\"}}, \"type\": \"scatterternary\"}], \"surface\": [{\"colorbar\": {\"outlinewidth\": 0, \"ticks\": \"\"}, \"colorscale\": [[0.0, \"#0d0887\"], [0.1111111111111111, \"#46039f\"], [0.2222222222222222, \"#7201a8\"], [0.3333333333333333, \"#9c179e\"], [0.4444444444444444, \"#bd3786\"], [0.5555555555555556, \"#d8576b\"], [0.6666666666666666, \"#ed7953\"], [0.7777777777777778, \"#fb9f3a\"], [0.8888888888888888, \"#fdca26\"], [1.0, \"#f0f921\"]], \"type\": \"surface\"}], \"table\": [{\"cells\": {\"fill\": {\"color\": \"#EBF0F8\"}, \"line\": {\"color\": \"white\"}}, \"header\": {\"fill\": {\"color\": \"#C8D4E3\"}, \"line\": {\"color\": \"white\"}}, \"type\": \"table\"}]}, \"layout\": {\"annotationdefaults\": {\"arrowcolor\": \"#2a3f5f\", \"arrowhead\": 0, \"arrowwidth\": 1}, \"coloraxis\": {\"colorbar\": {\"outlinewidth\": 0, \"ticks\": \"\"}}, \"colorscale\": {\"diverging\": [[0, \"#8e0152\"], [0.1, \"#c51b7d\"], [0.2, \"#de77ae\"], [0.3, \"#f1b6da\"], [0.4, \"#fde0ef\"], [0.5, \"#f7f7f7\"], [0.6, \"#e6f5d0\"], [0.7, \"#b8e186\"], [0.8, \"#7fbc41\"], [0.9, \"#4d9221\"], [1, \"#276419\"]], \"sequential\": [[0.0, \"#0d0887\"], [0.1111111111111111, \"#46039f\"], [0.2222222222222222, \"#7201a8\"], [0.3333333333333333, \"#9c179e\"], [0.4444444444444444, \"#bd3786\"], [0.5555555555555556, \"#d8576b\"], [0.6666666666666666, \"#ed7953\"], [0.7777777777777778, \"#fb9f3a\"], [0.8888888888888888, \"#fdca26\"], [1.0, \"#f0f921\"]], \"sequentialminus\": [[0.0, \"#0d0887\"], [0.1111111111111111, \"#46039f\"], [0.2222222222222222, \"#7201a8\"], [0.3333333333333333, \"#9c179e\"], [0.4444444444444444, \"#bd3786\"], [0.5555555555555556, \"#d8576b\"], [0.6666666666666666, \"#ed7953\"], [0.7777777777777778, \"#fb9f3a\"], [0.8888888888888888, \"#fdca26\"], [1.0, \"#f0f921\"]]}, \"colorway\": [\"#636efa\", \"#EF553B\", \"#00cc96\", \"#ab63fa\", \"#FFA15A\", \"#19d3f3\", \"#FF6692\", \"#B6E880\", \"#FF97FF\", \"#FECB52\"], \"font\": {\"color\": \"#2a3f5f\"}, \"geo\": {\"bgcolor\": \"white\", \"lakecolor\": \"white\", \"landcolor\": \"#E5ECF6\", \"showlakes\": true, \"showland\": true, \"subunitcolor\": \"white\"}, \"hoverlabel\": {\"align\": \"left\"}, \"hovermode\": \"closest\", \"mapbox\": {\"style\": \"light\"}, \"paper_bgcolor\": \"white\", \"plot_bgcolor\": \"#E5ECF6\", \"polar\": {\"angularaxis\": {\"gridcolor\": \"white\", \"linecolor\": \"white\", \"ticks\": \"\"}, \"bgcolor\": \"#E5ECF6\", \"radialaxis\": {\"gridcolor\": \"white\", \"linecolor\": \"white\", \"ticks\": \"\"}}, \"scene\": {\"xaxis\": {\"backgroundcolor\": \"#E5ECF6\", \"gridcolor\": \"white\", \"gridwidth\": 2, \"linecolor\": \"white\", \"showbackground\": true, \"ticks\": \"\", \"zerolinecolor\": \"white\"}, \"yaxis\": {\"backgroundcolor\": \"#E5ECF6\", \"gridcolor\": \"white\", \"gridwidth\": 2, \"linecolor\": \"white\", \"showbackground\": true, \"ticks\": \"\", \"zerolinecolor\": \"white\"}, \"zaxis\": {\"backgroundcolor\": \"#E5ECF6\", \"gridcolor\": \"white\", \"gridwidth\": 2, \"linecolor\": \"white\", \"showbackground\": true, \"ticks\": \"\", \"zerolinecolor\": \"white\"}}, \"shapedefaults\": {\"line\": {\"color\": \"#2a3f5f\"}}, \"ternary\": {\"aaxis\": {\"gridcolor\": \"white\", \"linecolor\": \"white\", \"ticks\": \"\"}, \"baxis\": {\"gridcolor\": \"white\", \"linecolor\": \"white\", \"ticks\": \"\"}, \"bgcolor\": \"#E5ECF6\", \"caxis\": {\"gridcolor\": \"white\", \"linecolor\": \"white\", \"ticks\": \"\"}}, \"title\": {\"x\": 0.05}, \"xaxis\": {\"automargin\": true, \"gridcolor\": \"white\", \"linecolor\": \"white\", \"ticks\": \"\", \"title\": {\"standoff\": 15}, \"zerolinecolor\": \"white\", \"zerolinewidth\": 2}, \"yaxis\": {\"automargin\": true, \"gridcolor\": \"white\", \"linecolor\": \"white\", \"ticks\": \"\", \"title\": {\"standoff\": 15}, \"zerolinecolor\": \"white\", \"zerolinewidth\": 2}}}, \"title\": {\"font\": {\"color\": \"#4D5663\"}}, \"xaxis\": {\"gridcolor\": \"#E1E5ED\", \"showgrid\": true, \"tickfont\": {\"color\": \"#4D5663\"}, \"title\": {\"font\": {\"color\": \"#4D5663\"}, \"text\": \"\"}, \"zerolinecolor\": \"#E1E5ED\"}, \"yaxis\": {\"gridcolor\": \"#E1E5ED\", \"showgrid\": true, \"tickfont\": {\"color\": \"#4D5663\"}, \"title\": {\"font\": {\"color\": \"#4D5663\"}, \"text\": \"\"}, \"zerolinecolor\": \"#E1E5ED\"}},\n",
       "                        {\"showLink\": true, \"linkText\": \"Export to plot.ly\", \"plotlyServerURL\": \"https://plot.ly\", \"responsive\": true}\n",
       "                    ).then(function(){\n",
       "                            \n",
       "var gd = document.getElementById('2c0e14d7-29d1-4705-8306-ce8b44203033');\n",
       "var x = new MutationObserver(function (mutations, observer) {{\n",
       "        var display = window.getComputedStyle(gd).display;\n",
       "        if (!display || display === 'none') {{\n",
       "            console.log([gd, 'removed!']);\n",
       "            Plotly.purge(gd);\n",
       "            observer.disconnect();\n",
       "        }}\n",
       "}});\n",
       "\n",
       "// Listen for the removal of the full notebook cells\n",
       "var notebookContainer = gd.closest('#notebook-container');\n",
       "if (notebookContainer) {{\n",
       "    x.observe(notebookContainer, {childList: true});\n",
       "}}\n",
       "\n",
       "// Listen for the clearing of the current output cell\n",
       "var outputEl = gd.closest('.output');\n",
       "if (outputEl) {{\n",
       "    x.observe(outputEl, {childList: true});\n",
       "}}\n",
       "\n",
       "                        })\n",
       "                };\n",
       "                });\n",
       "            </script>\n",
       "        </div>"
      ]
     },
     "metadata": {},
     "output_type": "display_data"
    }
   ],
   "source": [
    "################### iplot\n",
    "\n",
    "df.iplot(kind=\"bar\", x=\"Name of State / UT\", y=\"Total Cases\")"
   ]
  },
  {
   "cell_type": "code",
   "execution_count": 19,
   "metadata": {},
   "outputs": [
    {
     "data": {
      "application/vnd.plotly.v1+json": {
       "config": {
        "plotlyServerURL": "https://plot.ly"
       },
       "data": [
        {
         "alignmentgroup": "True",
         "hovertemplate": "Name of State / UT=%{x}<br>Total Cases=%{y}<extra></extra>",
         "legendgroup": "",
         "marker": {
          "color": "#636efa"
         },
         "name": "",
         "offsetgroup": "",
         "orientation": "v",
         "showlegend": false,
         "textposition": "auto",
         "type": "bar",
         "x": [
          "Andhra Pradesh",
          "Chhattisgarh",
          "Delhi",
          "Gujarat",
          "Haryana",
          "Himachal Pradesh",
          "Karnataka",
          "Kerala",
          "Madhya Pradesh",
          "Maharashtra",
          "Odisha",
          "Puducherry",
          "Punjab",
          "Rajasthan",
          "Tamil Nadu",
          "Telengana",
          "Chandigarh",
          "Jammu and Kashmir",
          "Ladakh",
          "Uttar Pradesh",
          "Uttarakhand",
          "West Bengal",
          "Bihar",
          "Mizoram",
          "Goa",
          "Manipur",
          "Jharkhand"
         ],
         "xaxis": "x",
         "y": [
          955,
          36,
          2377,
          2624,
          286,
          40,
          463,
          455,
          1852,
          6433,
          90,
          1,
          277,
          1966,
          1686,
          995,
          27,
          427,
          13,
          1605,
          47,
          514,
          176,
          1,
          6,
          1,
          56
         ],
         "yaxis": "y"
        }
       ],
       "layout": {
        "barmode": "relative",
        "legend": {
         "tracegroupgap": 0
        },
        "margin": {
         "t": 60
        },
        "template": {
         "data": {
          "bar": [
           {
            "error_x": {
             "color": "#2a3f5f"
            },
            "error_y": {
             "color": "#2a3f5f"
            },
            "marker": {
             "line": {
              "color": "#E5ECF6",
              "width": 0.5
             }
            },
            "type": "bar"
           }
          ],
          "barpolar": [
           {
            "marker": {
             "line": {
              "color": "#E5ECF6",
              "width": 0.5
             }
            },
            "type": "barpolar"
           }
          ],
          "carpet": [
           {
            "aaxis": {
             "endlinecolor": "#2a3f5f",
             "gridcolor": "white",
             "linecolor": "white",
             "minorgridcolor": "white",
             "startlinecolor": "#2a3f5f"
            },
            "baxis": {
             "endlinecolor": "#2a3f5f",
             "gridcolor": "white",
             "linecolor": "white",
             "minorgridcolor": "white",
             "startlinecolor": "#2a3f5f"
            },
            "type": "carpet"
           }
          ],
          "choropleth": [
           {
            "colorbar": {
             "outlinewidth": 0,
             "ticks": ""
            },
            "type": "choropleth"
           }
          ],
          "contour": [
           {
            "colorbar": {
             "outlinewidth": 0,
             "ticks": ""
            },
            "colorscale": [
             [
              0,
              "#0d0887"
             ],
             [
              0.1111111111111111,
              "#46039f"
             ],
             [
              0.2222222222222222,
              "#7201a8"
             ],
             [
              0.3333333333333333,
              "#9c179e"
             ],
             [
              0.4444444444444444,
              "#bd3786"
             ],
             [
              0.5555555555555556,
              "#d8576b"
             ],
             [
              0.6666666666666666,
              "#ed7953"
             ],
             [
              0.7777777777777778,
              "#fb9f3a"
             ],
             [
              0.8888888888888888,
              "#fdca26"
             ],
             [
              1,
              "#f0f921"
             ]
            ],
            "type": "contour"
           }
          ],
          "contourcarpet": [
           {
            "colorbar": {
             "outlinewidth": 0,
             "ticks": ""
            },
            "type": "contourcarpet"
           }
          ],
          "heatmap": [
           {
            "colorbar": {
             "outlinewidth": 0,
             "ticks": ""
            },
            "colorscale": [
             [
              0,
              "#0d0887"
             ],
             [
              0.1111111111111111,
              "#46039f"
             ],
             [
              0.2222222222222222,
              "#7201a8"
             ],
             [
              0.3333333333333333,
              "#9c179e"
             ],
             [
              0.4444444444444444,
              "#bd3786"
             ],
             [
              0.5555555555555556,
              "#d8576b"
             ],
             [
              0.6666666666666666,
              "#ed7953"
             ],
             [
              0.7777777777777778,
              "#fb9f3a"
             ],
             [
              0.8888888888888888,
              "#fdca26"
             ],
             [
              1,
              "#f0f921"
             ]
            ],
            "type": "heatmap"
           }
          ],
          "heatmapgl": [
           {
            "colorbar": {
             "outlinewidth": 0,
             "ticks": ""
            },
            "colorscale": [
             [
              0,
              "#0d0887"
             ],
             [
              0.1111111111111111,
              "#46039f"
             ],
             [
              0.2222222222222222,
              "#7201a8"
             ],
             [
              0.3333333333333333,
              "#9c179e"
             ],
             [
              0.4444444444444444,
              "#bd3786"
             ],
             [
              0.5555555555555556,
              "#d8576b"
             ],
             [
              0.6666666666666666,
              "#ed7953"
             ],
             [
              0.7777777777777778,
              "#fb9f3a"
             ],
             [
              0.8888888888888888,
              "#fdca26"
             ],
             [
              1,
              "#f0f921"
             ]
            ],
            "type": "heatmapgl"
           }
          ],
          "histogram": [
           {
            "marker": {
             "colorbar": {
              "outlinewidth": 0,
              "ticks": ""
             }
            },
            "type": "histogram"
           }
          ],
          "histogram2d": [
           {
            "colorbar": {
             "outlinewidth": 0,
             "ticks": ""
            },
            "colorscale": [
             [
              0,
              "#0d0887"
             ],
             [
              0.1111111111111111,
              "#46039f"
             ],
             [
              0.2222222222222222,
              "#7201a8"
             ],
             [
              0.3333333333333333,
              "#9c179e"
             ],
             [
              0.4444444444444444,
              "#bd3786"
             ],
             [
              0.5555555555555556,
              "#d8576b"
             ],
             [
              0.6666666666666666,
              "#ed7953"
             ],
             [
              0.7777777777777778,
              "#fb9f3a"
             ],
             [
              0.8888888888888888,
              "#fdca26"
             ],
             [
              1,
              "#f0f921"
             ]
            ],
            "type": "histogram2d"
           }
          ],
          "histogram2dcontour": [
           {
            "colorbar": {
             "outlinewidth": 0,
             "ticks": ""
            },
            "colorscale": [
             [
              0,
              "#0d0887"
             ],
             [
              0.1111111111111111,
              "#46039f"
             ],
             [
              0.2222222222222222,
              "#7201a8"
             ],
             [
              0.3333333333333333,
              "#9c179e"
             ],
             [
              0.4444444444444444,
              "#bd3786"
             ],
             [
              0.5555555555555556,
              "#d8576b"
             ],
             [
              0.6666666666666666,
              "#ed7953"
             ],
             [
              0.7777777777777778,
              "#fb9f3a"
             ],
             [
              0.8888888888888888,
              "#fdca26"
             ],
             [
              1,
              "#f0f921"
             ]
            ],
            "type": "histogram2dcontour"
           }
          ],
          "mesh3d": [
           {
            "colorbar": {
             "outlinewidth": 0,
             "ticks": ""
            },
            "type": "mesh3d"
           }
          ],
          "parcoords": [
           {
            "line": {
             "colorbar": {
              "outlinewidth": 0,
              "ticks": ""
             }
            },
            "type": "parcoords"
           }
          ],
          "pie": [
           {
            "automargin": true,
            "type": "pie"
           }
          ],
          "scatter": [
           {
            "marker": {
             "colorbar": {
              "outlinewidth": 0,
              "ticks": ""
             }
            },
            "type": "scatter"
           }
          ],
          "scatter3d": [
           {
            "line": {
             "colorbar": {
              "outlinewidth": 0,
              "ticks": ""
             }
            },
            "marker": {
             "colorbar": {
              "outlinewidth": 0,
              "ticks": ""
             }
            },
            "type": "scatter3d"
           }
          ],
          "scattercarpet": [
           {
            "marker": {
             "colorbar": {
              "outlinewidth": 0,
              "ticks": ""
             }
            },
            "type": "scattercarpet"
           }
          ],
          "scattergeo": [
           {
            "marker": {
             "colorbar": {
              "outlinewidth": 0,
              "ticks": ""
             }
            },
            "type": "scattergeo"
           }
          ],
          "scattergl": [
           {
            "marker": {
             "colorbar": {
              "outlinewidth": 0,
              "ticks": ""
             }
            },
            "type": "scattergl"
           }
          ],
          "scattermapbox": [
           {
            "marker": {
             "colorbar": {
              "outlinewidth": 0,
              "ticks": ""
             }
            },
            "type": "scattermapbox"
           }
          ],
          "scatterpolar": [
           {
            "marker": {
             "colorbar": {
              "outlinewidth": 0,
              "ticks": ""
             }
            },
            "type": "scatterpolar"
           }
          ],
          "scatterpolargl": [
           {
            "marker": {
             "colorbar": {
              "outlinewidth": 0,
              "ticks": ""
             }
            },
            "type": "scatterpolargl"
           }
          ],
          "scatterternary": [
           {
            "marker": {
             "colorbar": {
              "outlinewidth": 0,
              "ticks": ""
             }
            },
            "type": "scatterternary"
           }
          ],
          "surface": [
           {
            "colorbar": {
             "outlinewidth": 0,
             "ticks": ""
            },
            "colorscale": [
             [
              0,
              "#0d0887"
             ],
             [
              0.1111111111111111,
              "#46039f"
             ],
             [
              0.2222222222222222,
              "#7201a8"
             ],
             [
              0.3333333333333333,
              "#9c179e"
             ],
             [
              0.4444444444444444,
              "#bd3786"
             ],
             [
              0.5555555555555556,
              "#d8576b"
             ],
             [
              0.6666666666666666,
              "#ed7953"
             ],
             [
              0.7777777777777778,
              "#fb9f3a"
             ],
             [
              0.8888888888888888,
              "#fdca26"
             ],
             [
              1,
              "#f0f921"
             ]
            ],
            "type": "surface"
           }
          ],
          "table": [
           {
            "cells": {
             "fill": {
              "color": "#EBF0F8"
             },
             "line": {
              "color": "white"
             }
            },
            "header": {
             "fill": {
              "color": "#C8D4E3"
             },
             "line": {
              "color": "white"
             }
            },
            "type": "table"
           }
          ]
         },
         "layout": {
          "annotationdefaults": {
           "arrowcolor": "#2a3f5f",
           "arrowhead": 0,
           "arrowwidth": 1
          },
          "coloraxis": {
           "colorbar": {
            "outlinewidth": 0,
            "ticks": ""
           }
          },
          "colorscale": {
           "diverging": [
            [
             0,
             "#8e0152"
            ],
            [
             0.1,
             "#c51b7d"
            ],
            [
             0.2,
             "#de77ae"
            ],
            [
             0.3,
             "#f1b6da"
            ],
            [
             0.4,
             "#fde0ef"
            ],
            [
             0.5,
             "#f7f7f7"
            ],
            [
             0.6,
             "#e6f5d0"
            ],
            [
             0.7,
             "#b8e186"
            ],
            [
             0.8,
             "#7fbc41"
            ],
            [
             0.9,
             "#4d9221"
            ],
            [
             1,
             "#276419"
            ]
           ],
           "sequential": [
            [
             0,
             "#0d0887"
            ],
            [
             0.1111111111111111,
             "#46039f"
            ],
            [
             0.2222222222222222,
             "#7201a8"
            ],
            [
             0.3333333333333333,
             "#9c179e"
            ],
            [
             0.4444444444444444,
             "#bd3786"
            ],
            [
             0.5555555555555556,
             "#d8576b"
            ],
            [
             0.6666666666666666,
             "#ed7953"
            ],
            [
             0.7777777777777778,
             "#fb9f3a"
            ],
            [
             0.8888888888888888,
             "#fdca26"
            ],
            [
             1,
             "#f0f921"
            ]
           ],
           "sequentialminus": [
            [
             0,
             "#0d0887"
            ],
            [
             0.1111111111111111,
             "#46039f"
            ],
            [
             0.2222222222222222,
             "#7201a8"
            ],
            [
             0.3333333333333333,
             "#9c179e"
            ],
            [
             0.4444444444444444,
             "#bd3786"
            ],
            [
             0.5555555555555556,
             "#d8576b"
            ],
            [
             0.6666666666666666,
             "#ed7953"
            ],
            [
             0.7777777777777778,
             "#fb9f3a"
            ],
            [
             0.8888888888888888,
             "#fdca26"
            ],
            [
             1,
             "#f0f921"
            ]
           ]
          },
          "colorway": [
           "#636efa",
           "#EF553B",
           "#00cc96",
           "#ab63fa",
           "#FFA15A",
           "#19d3f3",
           "#FF6692",
           "#B6E880",
           "#FF97FF",
           "#FECB52"
          ],
          "font": {
           "color": "#2a3f5f"
          },
          "geo": {
           "bgcolor": "white",
           "lakecolor": "white",
           "landcolor": "#E5ECF6",
           "showlakes": true,
           "showland": true,
           "subunitcolor": "white"
          },
          "hoverlabel": {
           "align": "left"
          },
          "hovermode": "closest",
          "mapbox": {
           "style": "light"
          },
          "paper_bgcolor": "white",
          "plot_bgcolor": "#E5ECF6",
          "polar": {
           "angularaxis": {
            "gridcolor": "white",
            "linecolor": "white",
            "ticks": ""
           },
           "bgcolor": "#E5ECF6",
           "radialaxis": {
            "gridcolor": "white",
            "linecolor": "white",
            "ticks": ""
           }
          },
          "scene": {
           "xaxis": {
            "backgroundcolor": "#E5ECF6",
            "gridcolor": "white",
            "gridwidth": 2,
            "linecolor": "white",
            "showbackground": true,
            "ticks": "",
            "zerolinecolor": "white"
           },
           "yaxis": {
            "backgroundcolor": "#E5ECF6",
            "gridcolor": "white",
            "gridwidth": 2,
            "linecolor": "white",
            "showbackground": true,
            "ticks": "",
            "zerolinecolor": "white"
           },
           "zaxis": {
            "backgroundcolor": "#E5ECF6",
            "gridcolor": "white",
            "gridwidth": 2,
            "linecolor": "white",
            "showbackground": true,
            "ticks": "",
            "zerolinecolor": "white"
           }
          },
          "shapedefaults": {
           "line": {
            "color": "#2a3f5f"
           }
          },
          "ternary": {
           "aaxis": {
            "gridcolor": "white",
            "linecolor": "white",
            "ticks": ""
           },
           "baxis": {
            "gridcolor": "white",
            "linecolor": "white",
            "ticks": ""
           },
           "bgcolor": "#E5ECF6",
           "caxis": {
            "gridcolor": "white",
            "linecolor": "white",
            "ticks": ""
           }
          },
          "title": {
           "x": 0.05
          },
          "xaxis": {
           "automargin": true,
           "gridcolor": "white",
           "linecolor": "white",
           "ticks": "",
           "title": {
            "standoff": 15
           },
           "zerolinecolor": "white",
           "zerolinewidth": 2
          },
          "yaxis": {
           "automargin": true,
           "gridcolor": "white",
           "linecolor": "white",
           "ticks": "",
           "title": {
            "standoff": 15
           },
           "zerolinecolor": "white",
           "zerolinewidth": 2
          }
         }
        },
        "xaxis": {
         "anchor": "y",
         "domain": [
          0,
          1
         ],
         "title": {
          "text": "Name of State / UT"
         }
        },
        "yaxis": {
         "anchor": "x",
         "domain": [
          0,
          1
         ],
         "title": {
          "text": "Total Cases"
         }
        }
       }
      },
      "text/html": [
       "<div>\n",
       "        \n",
       "        \n",
       "            <div id=\"4293d347-52a9-4aa5-afda-46026508ff00\" class=\"plotly-graph-div\" style=\"height:525px; width:100%;\"></div>\n",
       "            <script type=\"text/javascript\">\n",
       "                require([\"plotly\"], function(Plotly) {\n",
       "                    window.PLOTLYENV=window.PLOTLYENV || {};\n",
       "                    \n",
       "                if (document.getElementById(\"4293d347-52a9-4aa5-afda-46026508ff00\")) {\n",
       "                    Plotly.newPlot(\n",
       "                        '4293d347-52a9-4aa5-afda-46026508ff00',\n",
       "                        [{\"alignmentgroup\": \"True\", \"hovertemplate\": \"Name of State / UT=%{x}<br>Total Cases=%{y}<extra></extra>\", \"legendgroup\": \"\", \"marker\": {\"color\": \"#636efa\"}, \"name\": \"\", \"offsetgroup\": \"\", \"orientation\": \"v\", \"showlegend\": false, \"textposition\": \"auto\", \"type\": \"bar\", \"x\": [\"Andhra Pradesh\", \"Chhattisgarh\", \"Delhi\", \"Gujarat\", \"Haryana\", \"Himachal Pradesh\", \"Karnataka\", \"Kerala\", \"Madhya Pradesh\", \"Maharashtra\", \"Odisha\", \"Puducherry\", \"Punjab\", \"Rajasthan\", \"Tamil Nadu\", \"Telengana\", \"Chandigarh\", \"Jammu and Kashmir\", \"Ladakh\", \"Uttar Pradesh\", \"Uttarakhand\", \"West Bengal\", \"Bihar\", \"Mizoram\", \"Goa\", \"Manipur\", \"Jharkhand\"], \"xaxis\": \"x\", \"y\": [955, 36, 2377, 2624, 286, 40, 463, 455, 1852, 6433, 90, 1, 277, 1966, 1686, 995, 27, 427, 13, 1605, 47, 514, 176, 1, 6, 1, 56], \"yaxis\": \"y\"}],\n",
       "                        {\"barmode\": \"relative\", \"legend\": {\"tracegroupgap\": 0}, \"margin\": {\"t\": 60}, \"template\": {\"data\": {\"bar\": [{\"error_x\": {\"color\": \"#2a3f5f\"}, \"error_y\": {\"color\": \"#2a3f5f\"}, \"marker\": {\"line\": {\"color\": \"#E5ECF6\", \"width\": 0.5}}, \"type\": \"bar\"}], \"barpolar\": [{\"marker\": {\"line\": {\"color\": \"#E5ECF6\", \"width\": 0.5}}, \"type\": \"barpolar\"}], \"carpet\": [{\"aaxis\": {\"endlinecolor\": \"#2a3f5f\", \"gridcolor\": \"white\", \"linecolor\": \"white\", \"minorgridcolor\": \"white\", \"startlinecolor\": \"#2a3f5f\"}, \"baxis\": {\"endlinecolor\": \"#2a3f5f\", \"gridcolor\": \"white\", \"linecolor\": \"white\", \"minorgridcolor\": \"white\", \"startlinecolor\": \"#2a3f5f\"}, \"type\": \"carpet\"}], \"choropleth\": [{\"colorbar\": {\"outlinewidth\": 0, \"ticks\": \"\"}, \"type\": \"choropleth\"}], \"contour\": [{\"colorbar\": {\"outlinewidth\": 0, \"ticks\": \"\"}, \"colorscale\": [[0.0, \"#0d0887\"], [0.1111111111111111, \"#46039f\"], [0.2222222222222222, \"#7201a8\"], [0.3333333333333333, \"#9c179e\"], [0.4444444444444444, \"#bd3786\"], [0.5555555555555556, \"#d8576b\"], [0.6666666666666666, \"#ed7953\"], [0.7777777777777778, \"#fb9f3a\"], [0.8888888888888888, \"#fdca26\"], [1.0, \"#f0f921\"]], \"type\": \"contour\"}], \"contourcarpet\": [{\"colorbar\": {\"outlinewidth\": 0, \"ticks\": \"\"}, \"type\": \"contourcarpet\"}], \"heatmap\": [{\"colorbar\": {\"outlinewidth\": 0, \"ticks\": \"\"}, \"colorscale\": [[0.0, \"#0d0887\"], [0.1111111111111111, \"#46039f\"], [0.2222222222222222, \"#7201a8\"], [0.3333333333333333, \"#9c179e\"], [0.4444444444444444, \"#bd3786\"], [0.5555555555555556, \"#d8576b\"], [0.6666666666666666, \"#ed7953\"], [0.7777777777777778, \"#fb9f3a\"], [0.8888888888888888, \"#fdca26\"], [1.0, \"#f0f921\"]], \"type\": \"heatmap\"}], \"heatmapgl\": [{\"colorbar\": {\"outlinewidth\": 0, \"ticks\": \"\"}, \"colorscale\": [[0.0, \"#0d0887\"], [0.1111111111111111, \"#46039f\"], [0.2222222222222222, \"#7201a8\"], [0.3333333333333333, \"#9c179e\"], [0.4444444444444444, \"#bd3786\"], [0.5555555555555556, \"#d8576b\"], [0.6666666666666666, \"#ed7953\"], [0.7777777777777778, \"#fb9f3a\"], [0.8888888888888888, \"#fdca26\"], [1.0, \"#f0f921\"]], \"type\": \"heatmapgl\"}], \"histogram\": [{\"marker\": {\"colorbar\": {\"outlinewidth\": 0, \"ticks\": \"\"}}, \"type\": \"histogram\"}], \"histogram2d\": [{\"colorbar\": {\"outlinewidth\": 0, \"ticks\": \"\"}, \"colorscale\": [[0.0, \"#0d0887\"], [0.1111111111111111, \"#46039f\"], [0.2222222222222222, \"#7201a8\"], [0.3333333333333333, \"#9c179e\"], [0.4444444444444444, \"#bd3786\"], [0.5555555555555556, \"#d8576b\"], [0.6666666666666666, \"#ed7953\"], [0.7777777777777778, \"#fb9f3a\"], [0.8888888888888888, \"#fdca26\"], [1.0, \"#f0f921\"]], \"type\": \"histogram2d\"}], \"histogram2dcontour\": [{\"colorbar\": {\"outlinewidth\": 0, \"ticks\": \"\"}, \"colorscale\": [[0.0, \"#0d0887\"], [0.1111111111111111, \"#46039f\"], [0.2222222222222222, \"#7201a8\"], [0.3333333333333333, \"#9c179e\"], [0.4444444444444444, \"#bd3786\"], [0.5555555555555556, \"#d8576b\"], [0.6666666666666666, \"#ed7953\"], [0.7777777777777778, \"#fb9f3a\"], [0.8888888888888888, \"#fdca26\"], [1.0, \"#f0f921\"]], \"type\": \"histogram2dcontour\"}], \"mesh3d\": [{\"colorbar\": {\"outlinewidth\": 0, \"ticks\": \"\"}, \"type\": \"mesh3d\"}], \"parcoords\": [{\"line\": {\"colorbar\": {\"outlinewidth\": 0, \"ticks\": \"\"}}, \"type\": \"parcoords\"}], \"pie\": [{\"automargin\": true, \"type\": \"pie\"}], \"scatter\": [{\"marker\": {\"colorbar\": {\"outlinewidth\": 0, \"ticks\": \"\"}}, \"type\": \"scatter\"}], \"scatter3d\": [{\"line\": {\"colorbar\": {\"outlinewidth\": 0, \"ticks\": \"\"}}, \"marker\": {\"colorbar\": {\"outlinewidth\": 0, \"ticks\": \"\"}}, \"type\": \"scatter3d\"}], \"scattercarpet\": [{\"marker\": {\"colorbar\": {\"outlinewidth\": 0, \"ticks\": \"\"}}, \"type\": \"scattercarpet\"}], \"scattergeo\": [{\"marker\": {\"colorbar\": {\"outlinewidth\": 0, \"ticks\": \"\"}}, \"type\": \"scattergeo\"}], \"scattergl\": [{\"marker\": {\"colorbar\": {\"outlinewidth\": 0, \"ticks\": \"\"}}, \"type\": \"scattergl\"}], \"scattermapbox\": [{\"marker\": {\"colorbar\": {\"outlinewidth\": 0, \"ticks\": \"\"}}, \"type\": \"scattermapbox\"}], \"scatterpolar\": [{\"marker\": {\"colorbar\": {\"outlinewidth\": 0, \"ticks\": \"\"}}, \"type\": \"scatterpolar\"}], \"scatterpolargl\": [{\"marker\": {\"colorbar\": {\"outlinewidth\": 0, \"ticks\": \"\"}}, \"type\": \"scatterpolargl\"}], \"scatterternary\": [{\"marker\": {\"colorbar\": {\"outlinewidth\": 0, \"ticks\": \"\"}}, \"type\": \"scatterternary\"}], \"surface\": [{\"colorbar\": {\"outlinewidth\": 0, \"ticks\": \"\"}, \"colorscale\": [[0.0, \"#0d0887\"], [0.1111111111111111, \"#46039f\"], [0.2222222222222222, \"#7201a8\"], [0.3333333333333333, \"#9c179e\"], [0.4444444444444444, \"#bd3786\"], [0.5555555555555556, \"#d8576b\"], [0.6666666666666666, \"#ed7953\"], [0.7777777777777778, \"#fb9f3a\"], [0.8888888888888888, \"#fdca26\"], [1.0, \"#f0f921\"]], \"type\": \"surface\"}], \"table\": [{\"cells\": {\"fill\": {\"color\": \"#EBF0F8\"}, \"line\": {\"color\": \"white\"}}, \"header\": {\"fill\": {\"color\": \"#C8D4E3\"}, \"line\": {\"color\": \"white\"}}, \"type\": \"table\"}]}, \"layout\": {\"annotationdefaults\": {\"arrowcolor\": \"#2a3f5f\", \"arrowhead\": 0, \"arrowwidth\": 1}, \"coloraxis\": {\"colorbar\": {\"outlinewidth\": 0, \"ticks\": \"\"}}, \"colorscale\": {\"diverging\": [[0, \"#8e0152\"], [0.1, \"#c51b7d\"], [0.2, \"#de77ae\"], [0.3, \"#f1b6da\"], [0.4, \"#fde0ef\"], [0.5, \"#f7f7f7\"], [0.6, \"#e6f5d0\"], [0.7, \"#b8e186\"], [0.8, \"#7fbc41\"], [0.9, \"#4d9221\"], [1, \"#276419\"]], \"sequential\": [[0.0, \"#0d0887\"], [0.1111111111111111, \"#46039f\"], [0.2222222222222222, \"#7201a8\"], [0.3333333333333333, \"#9c179e\"], [0.4444444444444444, \"#bd3786\"], [0.5555555555555556, \"#d8576b\"], [0.6666666666666666, \"#ed7953\"], [0.7777777777777778, \"#fb9f3a\"], [0.8888888888888888, \"#fdca26\"], [1.0, \"#f0f921\"]], \"sequentialminus\": [[0.0, \"#0d0887\"], [0.1111111111111111, \"#46039f\"], [0.2222222222222222, \"#7201a8\"], [0.3333333333333333, \"#9c179e\"], [0.4444444444444444, \"#bd3786\"], [0.5555555555555556, \"#d8576b\"], [0.6666666666666666, \"#ed7953\"], [0.7777777777777778, \"#fb9f3a\"], [0.8888888888888888, \"#fdca26\"], [1.0, \"#f0f921\"]]}, \"colorway\": [\"#636efa\", \"#EF553B\", \"#00cc96\", \"#ab63fa\", \"#FFA15A\", \"#19d3f3\", \"#FF6692\", \"#B6E880\", \"#FF97FF\", \"#FECB52\"], \"font\": {\"color\": \"#2a3f5f\"}, \"geo\": {\"bgcolor\": \"white\", \"lakecolor\": \"white\", \"landcolor\": \"#E5ECF6\", \"showlakes\": true, \"showland\": true, \"subunitcolor\": \"white\"}, \"hoverlabel\": {\"align\": \"left\"}, \"hovermode\": \"closest\", \"mapbox\": {\"style\": \"light\"}, \"paper_bgcolor\": \"white\", \"plot_bgcolor\": \"#E5ECF6\", \"polar\": {\"angularaxis\": {\"gridcolor\": \"white\", \"linecolor\": \"white\", \"ticks\": \"\"}, \"bgcolor\": \"#E5ECF6\", \"radialaxis\": {\"gridcolor\": \"white\", \"linecolor\": \"white\", \"ticks\": \"\"}}, \"scene\": {\"xaxis\": {\"backgroundcolor\": \"#E5ECF6\", \"gridcolor\": \"white\", \"gridwidth\": 2, \"linecolor\": \"white\", \"showbackground\": true, \"ticks\": \"\", \"zerolinecolor\": \"white\"}, \"yaxis\": {\"backgroundcolor\": \"#E5ECF6\", \"gridcolor\": \"white\", \"gridwidth\": 2, \"linecolor\": \"white\", \"showbackground\": true, \"ticks\": \"\", \"zerolinecolor\": \"white\"}, \"zaxis\": {\"backgroundcolor\": \"#E5ECF6\", \"gridcolor\": \"white\", \"gridwidth\": 2, \"linecolor\": \"white\", \"showbackground\": true, \"ticks\": \"\", \"zerolinecolor\": \"white\"}}, \"shapedefaults\": {\"line\": {\"color\": \"#2a3f5f\"}}, \"ternary\": {\"aaxis\": {\"gridcolor\": \"white\", \"linecolor\": \"white\", \"ticks\": \"\"}, \"baxis\": {\"gridcolor\": \"white\", \"linecolor\": \"white\", \"ticks\": \"\"}, \"bgcolor\": \"#E5ECF6\", \"caxis\": {\"gridcolor\": \"white\", \"linecolor\": \"white\", \"ticks\": \"\"}}, \"title\": {\"x\": 0.05}, \"xaxis\": {\"automargin\": true, \"gridcolor\": \"white\", \"linecolor\": \"white\", \"ticks\": \"\", \"title\": {\"standoff\": 15}, \"zerolinecolor\": \"white\", \"zerolinewidth\": 2}, \"yaxis\": {\"automargin\": true, \"gridcolor\": \"white\", \"linecolor\": \"white\", \"ticks\": \"\", \"title\": {\"standoff\": 15}, \"zerolinecolor\": \"white\", \"zerolinewidth\": 2}}}, \"xaxis\": {\"anchor\": \"y\", \"domain\": [0.0, 1.0], \"title\": {\"text\": \"Name of State / UT\"}}, \"yaxis\": {\"anchor\": \"x\", \"domain\": [0.0, 1.0], \"title\": {\"text\": \"Total Cases\"}}},\n",
       "                        {\"responsive\": true}\n",
       "                    ).then(function(){\n",
       "                            \n",
       "var gd = document.getElementById('4293d347-52a9-4aa5-afda-46026508ff00');\n",
       "var x = new MutationObserver(function (mutations, observer) {{\n",
       "        var display = window.getComputedStyle(gd).display;\n",
       "        if (!display || display === 'none') {{\n",
       "            console.log([gd, 'removed!']);\n",
       "            Plotly.purge(gd);\n",
       "            observer.disconnect();\n",
       "        }}\n",
       "}});\n",
       "\n",
       "// Listen for the removal of the full notebook cells\n",
       "var notebookContainer = gd.closest('#notebook-container');\n",
       "if (notebookContainer) {{\n",
       "    x.observe(notebookContainer, {childList: true});\n",
       "}}\n",
       "\n",
       "// Listen for the clearing of the current output cell\n",
       "var outputEl = gd.closest('.output');\n",
       "if (outputEl) {{\n",
       "    x.observe(outputEl, {childList: true});\n",
       "}}\n",
       "\n",
       "                        })\n",
       "                };\n",
       "                });\n",
       "            </script>\n",
       "        </div>"
      ]
     },
     "metadata": {},
     "output_type": "display_data"
    }
   ],
   "source": [
    "################# plotly express\n",
    "\n",
    "px.bar(df, x=\"Name of State / UT\", y=\"Total Cases\")"
   ]
  },
  {
   "cell_type": "code",
   "execution_count": 20,
   "metadata": {},
   "outputs": [
    {
     "data": {
      "text/plain": [
       "<matplotlib.axes._subplots.AxesSubplot at 0x248f332cec8>"
      ]
     },
     "execution_count": 20,
     "metadata": {},
     "output_type": "execute_result"
    },
    {
     "data": {
      "image/png": "[encoded data removed]",
      "text/plain": [
       "<Figure size 432x288 with 1 Axes>"
      ]
     },
     "metadata": {
      "needs_background": "light"
     },
     "output_type": "display_data"
    }
   ],
   "source": [
    "df.plot(kind=\"scatter\",x=\"Name of State / UT\",y=\"Total Cases\")"
   ]
  },
  {
   "cell_type": "code",
   "execution_count": 21,
   "metadata": {},
   "outputs": [
    {
     "data": {
      "text/plain": [
       "<matplotlib.collections.PathCollection at 0x248f363c448>"
      ]
     },
     "execution_count": 21,
     "metadata": {},
     "output_type": "execute_result"
    },
    {
     "data": {
      "image/png": "[encoded data removed]",
      "text/plain": [
       "<Figure size 432x288 with 1 Axes>"
      ]
     },
     "metadata": {
      "needs_background": "light"
     },
     "output_type": "display_data"
    }
   ],
   "source": [
    "plt.scatter(df[\"Name of State / UT\"],df[\"Total Cases\"])"
   ]
  },
  {
   "cell_type": "code",
   "execution_count": 22,
   "metadata": {},
   "outputs": [
    {
     "data": {
      "application/vnd.plotly.v1+json": {
       "config": {
        "linkText": "Export to plot.ly",
        "plotlyServerURL": "https://plot.ly",
        "showLink": true
       },
       "data": [
        {
         "line": {
          "color": "rgba(255, 153, 51, 1.0)",
          "dash": "solid",
          "shape": "linear",
          "width": 1.3
         },
         "marker": {
          "size": 12,
          "symbol": "circle"
         },
         "mode": "markers+lines",
         "name": "Total Cases",
         "text": "",
         "type": "scatter",
         "x": [
          "Andhra Pradesh",
          "Chhattisgarh",
          "Delhi",
          "Gujarat",
          "Haryana",
          "Himachal Pradesh",
          "Karnataka",
          "Kerala",
          "Madhya Pradesh",
          "Maharashtra",
          "Odisha",
          "Puducherry",
          "Punjab",
          "Rajasthan",
          "Tamil Nadu",
          "Telengana",
          "Chandigarh",
          "Jammu and Kashmir",
          "Ladakh",
          "Uttar Pradesh",
          "Uttarakhand",
          "West Bengal",
          "Bihar",
          "Mizoram",
          "Goa",
          "Manipur",
          "Jharkhand"
         ],
         "y": [
          955,
          36,
          2377,
          2624,
          286,
          40,
          463,
          455,
          1852,
          6433,
          90,
          1,
          277,
          1966,
          1686,
          995,
          27,
          427,
          13,
          1605,
          47,
          514,
          176,
          1,
          6,
          1,
          56
         ]
        }
       ],
       "layout": {
        "legend": {
         "bgcolor": "#F5F6F9",
         "font": {
          "color": "#4D5663"
         }
        },
        "paper_bgcolor": "#F5F6F9",
        "plot_bgcolor": "#F5F6F9",
        "template": {
         "data": {
          "bar": [
           {
            "error_x": {
             "color": "#2a3f5f"
            },
            "error_y": {
             "color": "#2a3f5f"
            },
            "marker": {
             "line": {
              "color": "#E5ECF6",
              "width": 0.5
             }
            },
            "type": "bar"
           }
          ],
          "barpolar": [
           {
            "marker": {
             "line": {
              "color": "#E5ECF6",
              "width": 0.5
             }
            },
            "type": "barpolar"
           }
          ],
          "carpet": [
           {
            "aaxis": {
             "endlinecolor": "#2a3f5f",
             "gridcolor": "white",
             "linecolor": "white",
             "minorgridcolor": "white",
             "startlinecolor": "#2a3f5f"
            },
            "baxis": {
             "endlinecolor": "#2a3f5f",
             "gridcolor": "white",
             "linecolor": "white",
             "minorgridcolor": "white",
             "startlinecolor": "#2a3f5f"
            },
            "type": "carpet"
           }
          ],
          "choropleth": [
           {
            "colorbar": {
             "outlinewidth": 0,
             "ticks": ""
            },
            "type": "choropleth"
           }
          ],
          "contour": [
           {
            "colorbar": {
             "outlinewidth": 0,
             "ticks": ""
            },
            "colorscale": [
             [
              0,
              "#0d0887"
             ],
             [
              0.1111111111111111,
              "#46039f"
             ],
             [
              0.2222222222222222,
              "#7201a8"
             ],
             [
              0.3333333333333333,
              "#9c179e"
             ],
             [
              0.4444444444444444,
              "#bd3786"
             ],
             [
              0.5555555555555556,
              "#d8576b"
             ],
             [
              0.6666666666666666,
              "#ed7953"
             ],
             [
              0.7777777777777778,
              "#fb9f3a"
             ],
             [
              0.8888888888888888,
              "#fdca26"
             ],
             [
              1,
              "#f0f921"
             ]
            ],
            "type": "contour"
           }
          ],
          "contourcarpet": [
           {
            "colorbar": {
             "outlinewidth": 0,
             "ticks": ""
            },
            "type": "contourcarpet"
           }
          ],
          "heatmap": [
           {
            "colorbar": {
             "outlinewidth": 0,
             "ticks": ""
            },
            "colorscale": [
             [
              0,
              "#0d0887"
             ],
             [
              0.1111111111111111,
              "#46039f"
             ],
             [
              0.2222222222222222,
              "#7201a8"
             ],
             [
              0.3333333333333333,
              "#9c179e"
             ],
             [
              0.4444444444444444,
              "#bd3786"
             ],
             [
              0.5555555555555556,
              "#d8576b"
             ],
             [
              0.6666666666666666,
              "#ed7953"
             ],
             [
              0.7777777777777778,
              "#fb9f3a"
             ],
             [
              0.8888888888888888,
              "#fdca26"
             ],
             [
              1,
              "#f0f921"
             ]
            ],
            "type": "heatmap"
           }
          ],
          "heatmapgl": [
           {
            "colorbar": {
             "outlinewidth": 0,
             "ticks": ""
            },
            "colorscale": [
             [
              0,
              "#0d0887"
             ],
             [
              0.1111111111111111,
              "#46039f"
             ],
             [
              0.2222222222222222,
              "#7201a8"
             ],
             [
              0.3333333333333333,
              "#9c179e"
             ],
             [
              0.4444444444444444,
              "#bd3786"
             ],
             [
              0.5555555555555556,
              "#d8576b"
             ],
             [
              0.6666666666666666,
              "#ed7953"
             ],
             [
              0.7777777777777778,
              "#fb9f3a"
             ],
             [
              0.8888888888888888,
              "#fdca26"
             ],
             [
              1,
              "#f0f921"
             ]
            ],
            "type": "heatmapgl"
           }
          ],
          "histogram": [
           {
            "marker": {
             "colorbar": {
              "outlinewidth": 0,
              "ticks": ""
             }
            },
            "type": "histogram"
           }
          ],
          "histogram2d": [
           {
            "colorbar": {
             "outlinewidth": 0,
             "ticks": ""
            },
            "colorscale": [
             [
              0,
              "#0d0887"
             ],
             [
              0.1111111111111111,
              "#46039f"
             ],
             [
              0.2222222222222222,
              "#7201a8"
             ],
             [
              0.3333333333333333,
              "#9c179e"
             ],
             [
              0.4444444444444444,
              "#bd3786"
             ],
             [
              0.5555555555555556,
              "#d8576b"
             ],
             [
              0.6666666666666666,
              "#ed7953"
             ],
             [
              0.7777777777777778,
              "#fb9f3a"
             ],
             [
              0.8888888888888888,
              "#fdca26"
             ],
             [
              1,
              "#f0f921"
             ]
            ],
            "type": "histogram2d"
           }
          ],
          "histogram2dcontour": [
           {
            "colorbar": {
             "outlinewidth": 0,
             "ticks": ""
            },
            "colorscale": [
             [
              0,
              "#0d0887"
             ],
             [
              0.1111111111111111,
              "#46039f"
             ],
             [
              0.2222222222222222,
              "#7201a8"
             ],
             [
              0.3333333333333333,
              "#9c179e"
             ],
             [
              0.4444444444444444,
              "#bd3786"
             ],
             [
              0.5555555555555556,
              "#d8576b"
             ],
             [
              0.6666666666666666,
              "#ed7953"
             ],
             [
              0.7777777777777778,
              "#fb9f3a"
             ],
             [
              0.8888888888888888,
              "#fdca26"
             ],
             [
              1,
              "#f0f921"
             ]
            ],
            "type": "histogram2dcontour"
           }
          ],
          "mesh3d": [
           {
            "colorbar": {
             "outlinewidth": 0,
             "ticks": ""
            },
            "type": "mesh3d"
           }
          ],
          "parcoords": [
           {
            "line": {
             "colorbar": {
              "outlinewidth": 0,
              "ticks": ""
             }
            },
            "type": "parcoords"
           }
          ],
          "pie": [
           {
            "automargin": true,
            "type": "pie"
           }
          ],
          "scatter": [
           {
            "marker": {
             "colorbar": {
              "outlinewidth": 0,
              "ticks": ""
             }
            },
            "type": "scatter"
           }
          ],
          "scatter3d": [
           {
            "line": {
             "colorbar": {
              "outlinewidth": 0,
              "ticks": ""
             }
            },
            "marker": {
             "colorbar": {
              "outlinewidth": 0,
              "ticks": ""
             }
            },
            "type": "scatter3d"
           }
          ],
          "scattercarpet": [
           {
            "marker": {
             "colorbar": {
              "outlinewidth": 0,
              "ticks": ""
             }
            },
            "type": "scattercarpet"
           }
          ],
          "scattergeo": [
           {
            "marker": {
             "colorbar": {
              "outlinewidth": 0,
              "ticks": ""
             }
            },
            "type": "scattergeo"
           }
          ],
          "scattergl": [
           {
            "marker": {
             "colorbar": {
              "outlinewidth": 0,
              "ticks": ""
             }
            },
            "type": "scattergl"
           }
          ],
          "scattermapbox": [
           {
            "marker": {
             "colorbar": {
              "outlinewidth": 0,
              "ticks": ""
             }
            },
            "type": "scattermapbox"
           }
          ],
          "scatterpolar": [
           {
            "marker": {
             "colorbar": {
              "outlinewidth": 0,
              "ticks": ""
             }
            },
            "type": "scatterpolar"
           }
          ],
          "scatterpolargl": [
           {
            "marker": {
             "colorbar": {
              "outlinewidth": 0,
              "ticks": ""
             }
            },
            "type": "scatterpolargl"
           }
          ],
          "scatterternary": [
           {
            "marker": {
             "colorbar": {
              "outlinewidth": 0,
              "ticks": ""
             }
            },
            "type": "scatterternary"
           }
          ],
          "surface": [
           {
            "colorbar": {
             "outlinewidth": 0,
             "ticks": ""
            },
            "colorscale": [
             [
              0,
              "#0d0887"
             ],
             [
              0.1111111111111111,
              "#46039f"
             ],
             [
              0.2222222222222222,
              "#7201a8"
             ],
             [
              0.3333333333333333,
              "#9c179e"
             ],
             [
              0.4444444444444444,
              "#bd3786"
             ],
             [
              0.5555555555555556,
              "#d8576b"
             ],
             [
              0.6666666666666666,
              "#ed7953"
             ],
             [
              0.7777777777777778,
              "#fb9f3a"
             ],
             [
              0.8888888888888888,
              "#fdca26"
             ],
             [
              1,
              "#f0f921"
             ]
            ],
            "type": "surface"
           }
          ],
          "table": [
           {
            "cells": {
             "fill": {
              "color": "#EBF0F8"
             },
             "line": {
              "color": "white"
             }
            },
            "header": {
             "fill": {
              "color": "#C8D4E3"
             },
             "line": {
              "color": "white"
             }
            },
            "type": "table"
           }
          ]
         },
         "layout": {
          "annotationdefaults": {
           "arrowcolor": "#2a3f5f",
           "arrowhead": 0,
           "arrowwidth": 1
          },
          "coloraxis": {
           "colorbar": {
            "outlinewidth": 0,
            "ticks": ""
           }
          },
          "colorscale": {
           "diverging": [
            [
             0,
             "#8e0152"
            ],
            [
             0.1,
             "#c51b7d"
            ],
            [
             0.2,
             "#de77ae"
            ],
            [
             0.3,
             "#f1b6da"
            ],
            [
             0.4,
             "#fde0ef"
            ],
            [
             0.5,
             "#f7f7f7"
            ],
            [
             0.6,
             "#e6f5d0"
            ],
            [
             0.7,
             "#b8e186"
            ],
            [
             0.8,
             "#7fbc41"
            ],
            [
             0.9,
             "#4d9221"
            ],
            [
             1,
             "#276419"
            ]
           ],
           "sequential": [
            [
             0,
             "#0d0887"
            ],
            [
             0.1111111111111111,
             "#46039f"
            ],
            [
             0.2222222222222222,
             "#7201a8"
            ],
            [
             0.3333333333333333,
             "#9c179e"
            ],
            [
             0.4444444444444444,
             "#bd3786"
            ],
            [
             0.5555555555555556,
             "#d8576b"
            ],
            [
             0.6666666666666666,
             "#ed7953"
            ],
            [
             0.7777777777777778,
             "#fb9f3a"
            ],
            [
             0.8888888888888888,
             "#fdca26"
            ],
            [
             1,
             "#f0f921"
            ]
           ],
           "sequentialminus": [
            [
             0,
             "#0d0887"
            ],
            [
             0.1111111111111111,
             "#46039f"
            ],
            [
             0.2222222222222222,
             "#7201a8"
            ],
            [
             0.3333333333333333,
             "#9c179e"
            ],
            [
             0.4444444444444444,
             "#bd3786"
            ],
            [
             0.5555555555555556,
             "#d8576b"
            ],
            [
             0.6666666666666666,
             "#ed7953"
            ],
            [
             0.7777777777777778,
             "#fb9f3a"
            ],
            [
             0.8888888888888888,
             "#fdca26"
            ],
            [
             1,
             "#f0f921"
            ]
           ]
          },
          "colorway": [
           "#636efa",
           "#EF553B",
           "#00cc96",
           "#ab63fa",
           "#FFA15A",
           "#19d3f3",
           "#FF6692",
           "#B6E880",
           "#FF97FF",
           "#FECB52"
          ],
          "font": {
           "color": "#2a3f5f"
          },
          "geo": {
           "bgcolor": "white",
           "lakecolor": "white",
           "landcolor": "#E5ECF6",
           "showlakes": true,
           "showland": true,
           "subunitcolor": "white"
          },
          "hoverlabel": {
           "align": "left"
          },
          "hovermode": "closest",
          "mapbox": {
           "style": "light"
          },
          "paper_bgcolor": "white",
          "plot_bgcolor": "#E5ECF6",
          "polar": {
           "angularaxis": {
            "gridcolor": "white",
            "linecolor": "white",
            "ticks": ""
           },
           "bgcolor": "#E5ECF6",
           "radialaxis": {
            "gridcolor": "white",
            "linecolor": "white",
            "ticks": ""
           }
          },
          "scene": {
           "xaxis": {
            "backgroundcolor": "#E5ECF6",
            "gridcolor": "white",
            "gridwidth": 2,
            "linecolor": "white",
            "showbackground": true,
            "ticks": "",
            "zerolinecolor": "white"
           },
           "yaxis": {
            "backgroundcolor": "#E5ECF6",
            "gridcolor": "white",
            "gridwidth": 2,
            "linecolor": "white",
            "showbackground": true,
            "ticks": "",
            "zerolinecolor": "white"
           },
           "zaxis": {
            "backgroundcolor": "#E5ECF6",
            "gridcolor": "white",
            "gridwidth": 2,
            "linecolor": "white",
            "showbackground": true,
            "ticks": "",
            "zerolinecolor": "white"
           }
          },
          "shapedefaults": {
           "line": {
            "color": "#2a3f5f"
           }
          },
          "ternary": {
           "aaxis": {
            "gridcolor": "white",
            "linecolor": "white",
            "ticks": ""
           },
           "baxis": {
            "gridcolor": "white",
            "linecolor": "white",
            "ticks": ""
           },
           "bgcolor": "#E5ECF6",
           "caxis": {
            "gridcolor": "white",
            "linecolor": "white",
            "ticks": ""
           }
          },
          "title": {
           "x": 0.05
          },
          "xaxis": {
           "automargin": true,
           "gridcolor": "white",
           "linecolor": "white",
           "ticks": "",
           "title": {
            "standoff": 15
           },
           "zerolinecolor": "white",
           "zerolinewidth": 2
          },
          "yaxis": {
           "automargin": true,
           "gridcolor": "white",
           "linecolor": "white",
           "ticks": "",
           "title": {
            "standoff": 15
           },
           "zerolinecolor": "white",
           "zerolinewidth": 2
          }
         }
        },
        "title": {
         "font": {
          "color": "#4D5663"
         }
        },
        "xaxis": {
         "gridcolor": "#E1E5ED",
         "showgrid": true,
         "tickfont": {
          "color": "#4D5663"
         },
         "title": {
          "font": {
           "color": "#4D5663"
          },
          "text": ""
         },
         "zerolinecolor": "#E1E5ED"
        },
        "yaxis": {
         "gridcolor": "#E1E5ED",
         "showgrid": true,
         "tickfont": {
          "color": "#4D5663"
         },
         "title": {
          "font": {
           "color": "#4D5663"
          },
          "text": ""
         },
         "zerolinecolor": "#E1E5ED"
        }
       }
      },
      "text/html": [
       "<div>\n",
       "        \n",
       "        \n",
       "            <div id=\"852be1b6-693b-427e-8c2c-6df324086449\" class=\"plotly-graph-div\" style=\"height:525px; width:100%;\"></div>\n",
       "            <script type=\"text/javascript\">\n",
       "                require([\"plotly\"], function(Plotly) {\n",
       "                    window.PLOTLYENV=window.PLOTLYENV || {};\n",
       "                    window.PLOTLYENV.BASE_URL='https://plot.ly';\n",
       "                    \n",
       "                if (document.getElementById(\"852be1b6-693b-427e-8c2c-6df324086449\")) {\n",
       "                    Plotly.newPlot(\n",
       "                        '852be1b6-693b-427e-8c2c-6df324086449',\n",
       "                        [{\"line\": {\"color\": \"rgba(255, 153, 51, 1.0)\", \"dash\": \"solid\", \"shape\": \"linear\", \"width\": 1.3}, \"marker\": {\"size\": 12, \"symbol\": \"circle\"}, \"mode\": \"markers+lines\", \"name\": \"Total Cases\", \"text\": \"\", \"type\": \"scatter\", \"x\": [\"Andhra Pradesh\", \"Chhattisgarh\", \"Delhi\", \"Gujarat\", \"Haryana\", \"Himachal Pradesh\", \"Karnataka\", \"Kerala\", \"Madhya Pradesh\", \"Maharashtra\", \"Odisha\", \"Puducherry\", \"Punjab\", \"Rajasthan\", \"Tamil Nadu\", \"Telengana\", \"Chandigarh\", \"Jammu and Kashmir\", \"Ladakh\", \"Uttar Pradesh\", \"Uttarakhand\", \"West Bengal\", \"Bihar\", \"Mizoram\", \"Goa\", \"Manipur\", \"Jharkhand\"], \"y\": [955, 36, 2377, 2624, 286, 40, 463, 455, 1852, 6433, 90, 1, 277, 1966, 1686, 995, 27, 427, 13, 1605, 47, 514, 176, 1, 6, 1, 56]}],\n",
       "                        {\"legend\": {\"bgcolor\": \"#F5F6F9\", \"font\": {\"color\": \"#4D5663\"}}, \"paper_bgcolor\": \"#F5F6F9\", \"plot_bgcolor\": \"#F5F6F9\", \"template\": {\"data\": {\"bar\": [{\"error_x\": {\"color\": \"#2a3f5f\"}, \"error_y\": {\"color\": \"#2a3f5f\"}, \"marker\": {\"line\": {\"color\": \"#E5ECF6\", \"width\": 0.5}}, \"type\": \"bar\"}], \"barpolar\": [{\"marker\": {\"line\": {\"color\": \"#E5ECF6\", \"width\": 0.5}}, \"type\": \"barpolar\"}], \"carpet\": [{\"aaxis\": {\"endlinecolor\": \"#2a3f5f\", \"gridcolor\": \"white\", \"linecolor\": \"white\", \"minorgridcolor\": \"white\", \"startlinecolor\": \"#2a3f5f\"}, \"baxis\": {\"endlinecolor\": \"#2a3f5f\", \"gridcolor\": \"white\", \"linecolor\": \"white\", \"minorgridcolor\": \"white\", \"startlinecolor\": \"#2a3f5f\"}, \"type\": \"carpet\"}], \"choropleth\": [{\"colorbar\": {\"outlinewidth\": 0, \"ticks\": \"\"}, \"type\": \"choropleth\"}], \"contour\": [{\"colorbar\": {\"outlinewidth\": 0, \"ticks\": \"\"}, \"colorscale\": [[0.0, \"#0d0887\"], [0.1111111111111111, \"#46039f\"], [0.2222222222222222, \"#7201a8\"], [0.3333333333333333, \"#9c179e\"], [0.4444444444444444, \"#bd3786\"], [0.5555555555555556, \"#d8576b\"], [0.6666666666666666, \"#ed7953\"], [0.7777777777777778, \"#fb9f3a\"], [0.8888888888888888, \"#fdca26\"], [1.0, \"#f0f921\"]], \"type\": \"contour\"}], \"contourcarpet\": [{\"colorbar\": {\"outlinewidth\": 0, \"ticks\": \"\"}, \"type\": \"contourcarpet\"}], \"heatmap\": [{\"colorbar\": {\"outlinewidth\": 0, \"ticks\": \"\"}, \"colorscale\": [[0.0, \"#0d0887\"], [0.1111111111111111, \"#46039f\"], [0.2222222222222222, \"#7201a8\"], [0.3333333333333333, \"#9c179e\"], [0.4444444444444444, \"#bd3786\"], [0.5555555555555556, \"#d8576b\"], [0.6666666666666666, \"#ed7953\"], [0.7777777777777778, \"#fb9f3a\"], [0.8888888888888888, \"#fdca26\"], [1.0, \"#f0f921\"]], \"type\": \"heatmap\"}], \"heatmapgl\": [{\"colorbar\": {\"outlinewidth\": 0, \"ticks\": \"\"}, \"colorscale\": [[0.0, \"#0d0887\"], [0.1111111111111111, \"#46039f\"], [0.2222222222222222, \"#7201a8\"], [0.3333333333333333, \"#9c179e\"], [0.4444444444444444, \"#bd3786\"], [0.5555555555555556, \"#d8576b\"], [0.6666666666666666, \"#ed7953\"], [0.7777777777777778, \"#fb9f3a\"], [0.8888888888888888, \"#fdca26\"], [1.0, \"#f0f921\"]], \"type\": \"heatmapgl\"}], \"histogram\": [{\"marker\": {\"colorbar\": {\"outlinewidth\": 0, \"ticks\": \"\"}}, \"type\": \"histogram\"}], \"histogram2d\": [{\"colorbar\": {\"outlinewidth\": 0, \"ticks\": \"\"}, \"colorscale\": [[0.0, \"#0d0887\"], [0.1111111111111111, \"#46039f\"], [0.2222222222222222, \"#7201a8\"], [0.3333333333333333, \"#9c179e\"], [0.4444444444444444, \"#bd3786\"], [0.5555555555555556, \"#d8576b\"], [0.6666666666666666, \"#ed7953\"], [0.7777777777777778, \"#fb9f3a\"], [0.8888888888888888, \"#fdca26\"], [1.0, \"#f0f921\"]], \"type\": \"histogram2d\"}], \"histogram2dcontour\": [{\"colorbar\": {\"outlinewidth\": 0, \"ticks\": \"\"}, \"colorscale\": [[0.0, \"#0d0887\"], [0.1111111111111111, \"#46039f\"], [0.2222222222222222, \"#7201a8\"], [0.3333333333333333, \"#9c179e\"], [0.4444444444444444, \"#bd3786\"], [0.5555555555555556, \"#d8576b\"], [0.6666666666666666, \"#ed7953\"], [0.7777777777777778, \"#fb9f3a\"], [0.8888888888888888, \"#fdca26\"], [1.0, \"#f0f921\"]], \"type\": \"histogram2dcontour\"}], \"mesh3d\": [{\"colorbar\": {\"outlinewidth\": 0, \"ticks\": \"\"}, \"type\": \"mesh3d\"}], \"parcoords\": [{\"line\": {\"colorbar\": {\"outlinewidth\": 0, \"ticks\": \"\"}}, \"type\": \"parcoords\"}], \"pie\": [{\"automargin\": true, \"type\": \"pie\"}], \"scatter\": [{\"marker\": {\"colorbar\": {\"outlinewidth\": 0, \"ticks\": \"\"}}, \"type\": \"scatter\"}], \"scatter3d\": [{\"line\": {\"colorbar\": {\"outlinewidth\": 0, \"ticks\": \"\"}}, \"marker\": {\"colorbar\": {\"outlinewidth\": 0, \"ticks\": \"\"}}, \"type\": \"scatter3d\"}], \"scattercarpet\": [{\"marker\": {\"colorbar\": {\"outlinewidth\": 0, \"ticks\": \"\"}}, \"type\": \"scattercarpet\"}], \"scattergeo\": [{\"marker\": {\"colorbar\": {\"outlinewidth\": 0, \"ticks\": \"\"}}, \"type\": \"scattergeo\"}], \"scattergl\": [{\"marker\": {\"colorbar\": {\"outlinewidth\": 0, \"ticks\": \"\"}}, \"type\": \"scattergl\"}], \"scattermapbox\": [{\"marker\": {\"colorbar\": {\"outlinewidth\": 0, \"ticks\": \"\"}}, \"type\": \"scattermapbox\"}], \"scatterpolar\": [{\"marker\": {\"colorbar\": {\"outlinewidth\": 0, \"ticks\": \"\"}}, \"type\": \"scatterpolar\"}], \"scatterpolargl\": [{\"marker\": {\"colorbar\": {\"outlinewidth\": 0, \"ticks\": \"\"}}, \"type\": \"scatterpolargl\"}], \"scatterternary\": [{\"marker\": {\"colorbar\": {\"outlinewidth\": 0, \"ticks\": \"\"}}, \"type\": \"scatterternary\"}], \"surface\": [{\"colorbar\": {\"outlinewidth\": 0, \"ticks\": \"\"}, \"colorscale\": [[0.0, \"#0d0887\"], [0.1111111111111111, \"#46039f\"], [0.2222222222222222, \"#7201a8\"], [0.3333333333333333, \"#9c179e\"], [0.4444444444444444, \"#bd3786\"], [0.5555555555555556, \"#d8576b\"], [0.6666666666666666, \"#ed7953\"], [0.7777777777777778, \"#fb9f3a\"], [0.8888888888888888, \"#fdca26\"], [1.0, \"#f0f921\"]], \"type\": \"surface\"}], \"table\": [{\"cells\": {\"fill\": {\"color\": \"#EBF0F8\"}, \"line\": {\"color\": \"white\"}}, \"header\": {\"fill\": {\"color\": \"#C8D4E3\"}, \"line\": {\"color\": \"white\"}}, \"type\": \"table\"}]}, \"layout\": {\"annotationdefaults\": {\"arrowcolor\": \"#2a3f5f\", \"arrowhead\": 0, \"arrowwidth\": 1}, \"coloraxis\": {\"colorbar\": {\"outlinewidth\": 0, \"ticks\": \"\"}}, \"colorscale\": {\"diverging\": [[0, \"#8e0152\"], [0.1, \"#c51b7d\"], [0.2, \"#de77ae\"], [0.3, \"#f1b6da\"], [0.4, \"#fde0ef\"], [0.5, \"#f7f7f7\"], [0.6, \"#e6f5d0\"], [0.7, \"#b8e186\"], [0.8, \"#7fbc41\"], [0.9, \"#4d9221\"], [1, \"#276419\"]], \"sequential\": [[0.0, \"#0d0887\"], [0.1111111111111111, \"#46039f\"], [0.2222222222222222, \"#7201a8\"], [0.3333333333333333, \"#9c179e\"], [0.4444444444444444, \"#bd3786\"], [0.5555555555555556, \"#d8576b\"], [0.6666666666666666, \"#ed7953\"], [0.7777777777777778, \"#fb9f3a\"], [0.8888888888888888, \"#fdca26\"], [1.0, \"#f0f921\"]], \"sequentialminus\": [[0.0, \"#0d0887\"], [0.1111111111111111, \"#46039f\"], [0.2222222222222222, \"#7201a8\"], [0.3333333333333333, \"#9c179e\"], [0.4444444444444444, \"#bd3786\"], [0.5555555555555556, \"#d8576b\"], [0.6666666666666666, \"#ed7953\"], [0.7777777777777778, \"#fb9f3a\"], [0.8888888888888888, \"#fdca26\"], [1.0, \"#f0f921\"]]}, \"colorway\": [\"#636efa\", \"#EF553B\", \"#00cc96\", \"#ab63fa\", \"#FFA15A\", \"#19d3f3\", \"#FF6692\", \"#B6E880\", \"#FF97FF\", \"#FECB52\"], \"font\": {\"color\": \"#2a3f5f\"}, \"geo\": {\"bgcolor\": \"white\", \"lakecolor\": \"white\", \"landcolor\": \"#E5ECF6\", \"showlakes\": true, \"showland\": true, \"subunitcolor\": \"white\"}, \"hoverlabel\": {\"align\": \"left\"}, \"hovermode\": \"closest\", \"mapbox\": {\"style\": \"light\"}, \"paper_bgcolor\": \"white\", \"plot_bgcolor\": \"#E5ECF6\", \"polar\": {\"angularaxis\": {\"gridcolor\": \"white\", \"linecolor\": \"white\", \"ticks\": \"\"}, \"bgcolor\": \"#E5ECF6\", \"radialaxis\": {\"gridcolor\": \"white\", \"linecolor\": \"white\", \"ticks\": \"\"}}, \"scene\": {\"xaxis\": {\"backgroundcolor\": \"#E5ECF6\", \"gridcolor\": \"white\", \"gridwidth\": 2, \"linecolor\": \"white\", \"showbackground\": true, \"ticks\": \"\", \"zerolinecolor\": \"white\"}, \"yaxis\": {\"backgroundcolor\": \"#E5ECF6\", \"gridcolor\": \"white\", \"gridwidth\": 2, \"linecolor\": \"white\", \"showbackground\": true, \"ticks\": \"\", \"zerolinecolor\": \"white\"}, \"zaxis\": {\"backgroundcolor\": \"#E5ECF6\", \"gridcolor\": \"white\", \"gridwidth\": 2, \"linecolor\": \"white\", \"showbackground\": true, \"ticks\": \"\", \"zerolinecolor\": \"white\"}}, \"shapedefaults\": {\"line\": {\"color\": \"#2a3f5f\"}}, \"ternary\": {\"aaxis\": {\"gridcolor\": \"white\", \"linecolor\": \"white\", \"ticks\": \"\"}, \"baxis\": {\"gridcolor\": \"white\", \"linecolor\": \"white\", \"ticks\": \"\"}, \"bgcolor\": \"#E5ECF6\", \"caxis\": {\"gridcolor\": \"white\", \"linecolor\": \"white\", \"ticks\": \"\"}}, \"title\": {\"x\": 0.05}, \"xaxis\": {\"automargin\": true, \"gridcolor\": \"white\", \"linecolor\": \"white\", \"ticks\": \"\", \"title\": {\"standoff\": 15}, \"zerolinecolor\": \"white\", \"zerolinewidth\": 2}, \"yaxis\": {\"automargin\": true, \"gridcolor\": \"white\", \"linecolor\": \"white\", \"ticks\": \"\", \"title\": {\"standoff\": 15}, \"zerolinecolor\": \"white\", \"zerolinewidth\": 2}}}, \"title\": {\"font\": {\"color\": \"#4D5663\"}}, \"xaxis\": {\"gridcolor\": \"#E1E5ED\", \"showgrid\": true, \"tickfont\": {\"color\": \"#4D5663\"}, \"title\": {\"font\": {\"color\": \"#4D5663\"}, \"text\": \"\"}, \"zerolinecolor\": \"#E1E5ED\"}, \"yaxis\": {\"gridcolor\": \"#E1E5ED\", \"showgrid\": true, \"tickfont\": {\"color\": \"#4D5663\"}, \"title\": {\"font\": {\"color\": \"#4D5663\"}, \"text\": \"\"}, \"zerolinecolor\": \"#E1E5ED\"}},\n",
       "                        {\"showLink\": true, \"linkText\": \"Export to plot.ly\", \"plotlyServerURL\": \"https://plot.ly\", \"responsive\": true}\n",
       "                    ).then(function(){\n",
       "                            \n",
       "var gd = document.getElementById('852be1b6-693b-427e-8c2c-6df324086449');\n",
       "var x = new MutationObserver(function (mutations, observer) {{\n",
       "        var display = window.getComputedStyle(gd).display;\n",
       "        if (!display || display === 'none') {{\n",
       "            console.log([gd, 'removed!']);\n",
       "            Plotly.purge(gd);\n",
       "            observer.disconnect();\n",
       "        }}\n",
       "}});\n",
       "\n",
       "// Listen for the removal of the full notebook cells\n",
       "var notebookContainer = gd.closest('#notebook-container');\n",
       "if (notebookContainer) {{\n",
       "    x.observe(notebookContainer, {childList: true});\n",
       "}}\n",
       "\n",
       "// Listen for the clearing of the current output cell\n",
       "var outputEl = gd.closest('.output');\n",
       "if (outputEl) {{\n",
       "    x.observe(outputEl, {childList: true});\n",
       "}}\n",
       "\n",
       "                        })\n",
       "                };\n",
       "                });\n",
       "            </script>\n",
       "        </div>"
      ]
     },
     "metadata": {},
     "output_type": "display_data"
    }
   ],
   "source": [
    "###################### Plotly\n",
    "df.iplot(kind=\"scatter\",x=\"Name of State / UT\",y=\"Total Cases\",mode='markers+lines')"
   ]
  },
  {
   "cell_type": "code",
   "execution_count": 23,
   "metadata": {},
   "outputs": [],
   "source": [
    "######################### Object Oriented Method"
   ]
  },
  {
   "cell_type": "code",
   "execution_count": 24,
   "metadata": {},
   "outputs": [
    {
     "data": {
      "image/png": "[encoded data removed]",
      "text/plain": [
       "<Figure size 4000x2000 with 1 Axes>"
      ]
     },
     "metadata": {
      "needs_background": "light"
     },
     "output_type": "display_data"
    },
    {
     "data": {
      "application/vnd.plotly.v1+json": {
       "config": {
        "plotlyServerURL": "https://plot.ly"
       },
       "data": [
        {
         "type": "bar",
         "x": [
          "Andhra Pradesh",
          "Chhattisgarh",
          "Delhi",
          "Gujarat",
          "Haryana",
          "Himachal Pradesh",
          "Karnataka",
          "Kerala",
          "Madhya Pradesh",
          "Maharashtra",
          "Odisha",
          "Puducherry",
          "Punjab",
          "Rajasthan",
          "Tamil Nadu",
          "Telengana",
          "Chandigarh",
          "Jammu and Kashmir",
          "Ladakh",
          "Uttar Pradesh",
          "Uttarakhand",
          "West Bengal",
          "Bihar",
          "Mizoram",
          "Goa",
          "Manipur",
          "Jharkhand"
         ],
         "y": [
          955,
          36,
          2377,
          2624,
          286,
          40,
          463,
          455,
          1852,
          6433,
          90,
          1,
          277,
          1966,
          1686,
          995,
          27,
          427,
          13,
          1605,
          47,
          514,
          176,
          1,
          6,
          1,
          56
         ]
        }
       ],
       "layout": {
        "template": {
         "data": {
          "bar": [
           {
            "error_x": {
             "color": "#2a3f5f"
            },
            "error_y": {
             "color": "#2a3f5f"
            },
            "marker": {
             "line": {
              "color": "#E5ECF6",
              "width": 0.5
             }
            },
            "type": "bar"
           }
          ],
          "barpolar": [
           {
            "marker": {
             "line": {
              "color": "#E5ECF6",
              "width": 0.5
             }
            },
            "type": "barpolar"
           }
          ],
          "carpet": [
           {
            "aaxis": {
             "endlinecolor": "#2a3f5f",
             "gridcolor": "white",
             "linecolor": "white",
             "minorgridcolor": "white",
             "startlinecolor": "#2a3f5f"
            },
            "baxis": {
             "endlinecolor": "#2a3f5f",
             "gridcolor": "white",
             "linecolor": "white",
             "minorgridcolor": "white",
             "startlinecolor": "#2a3f5f"
            },
            "type": "carpet"
           }
          ],
          "choropleth": [
           {
            "colorbar": {
             "outlinewidth": 0,
             "ticks": ""
            },
            "type": "choropleth"
           }
          ],
          "contour": [
           {
            "colorbar": {
             "outlinewidth": 0,
             "ticks": ""
            },
            "colorscale": [
             [
              0,
              "#0d0887"
             ],
             [
              0.1111111111111111,
              "#46039f"
             ],
             [
              0.2222222222222222,
              "#7201a8"
             ],
             [
              0.3333333333333333,
              "#9c179e"
             ],
             [
              0.4444444444444444,
              "#bd3786"
             ],
             [
              0.5555555555555556,
              "#d8576b"
             ],
             [
              0.6666666666666666,
              "#ed7953"
             ],
             [
              0.7777777777777778,
              "#fb9f3a"
             ],
             [
              0.8888888888888888,
              "#fdca26"
             ],
             [
              1,
              "#f0f921"
             ]
            ],
            "type": "contour"
           }
          ],
          "contourcarpet": [
           {
            "colorbar": {
             "outlinewidth": 0,
             "ticks": ""
            },
            "type": "contourcarpet"
           }
          ],
          "heatmap": [
           {
            "colorbar": {
             "outlinewidth": 0,
             "ticks": ""
            },
            "colorscale": [
             [
              0,
              "#0d0887"
             ],
             [
              0.1111111111111111,
              "#46039f"
             ],
             [
              0.2222222222222222,
              "#7201a8"
             ],
             [
              0.3333333333333333,
              "#9c179e"
             ],
             [
              0.4444444444444444,
              "#bd3786"
             ],
             [
              0.5555555555555556,
              "#d8576b"
             ],
             [
              0.6666666666666666,
              "#ed7953"
             ],
             [
              0.7777777777777778,
              "#fb9f3a"
             ],
             [
              0.8888888888888888,
              "#fdca26"
             ],
             [
              1,
              "#f0f921"
             ]
            ],
            "type": "heatmap"
           }
          ],
          "heatmapgl": [
           {
            "colorbar": {
             "outlinewidth": 0,
             "ticks": ""
            },
            "colorscale": [
             [
              0,
              "#0d0887"
             ],
             [
              0.1111111111111111,
              "#46039f"
             ],
             [
              0.2222222222222222,
              "#7201a8"
             ],
             [
              0.3333333333333333,
              "#9c179e"
             ],
             [
              0.4444444444444444,
              "#bd3786"
             ],
             [
              0.5555555555555556,
              "#d8576b"
             ],
             [
              0.6666666666666666,
              "#ed7953"
             ],
             [
              0.7777777777777778,
              "#fb9f3a"
             ],
             [
              0.8888888888888888,
              "#fdca26"
             ],
             [
              1,
              "#f0f921"
             ]
            ],
            "type": "heatmapgl"
           }
          ],
          "histogram": [
           {
            "marker": {
             "colorbar": {
              "outlinewidth": 0,
              "ticks": ""
             }
            },
            "type": "histogram"
           }
          ],
          "histogram2d": [
           {
            "colorbar": {
             "outlinewidth": 0,
             "ticks": ""
            },
            "colorscale": [
             [
              0,
              "#0d0887"
             ],
             [
              0.1111111111111111,
              "#46039f"
             ],
             [
              0.2222222222222222,
              "#7201a8"
             ],
             [
              0.3333333333333333,
              "#9c179e"
             ],
             [
              0.4444444444444444,
              "#bd3786"
             ],
             [
              0.5555555555555556,
              "#d8576b"
             ],
             [
              0.6666666666666666,
              "#ed7953"
             ],
             [
              0.7777777777777778,
              "#fb9f3a"
             ],
             [
              0.8888888888888888,
              "#fdca26"
             ],
             [
              1,
              "#f0f921"
             ]
            ],
            "type": "histogram2d"
           }
          ],
          "histogram2dcontour": [
           {
            "colorbar": {
             "outlinewidth": 0,
             "ticks": ""
            },
            "colorscale": [
             [
              0,
              "#0d0887"
             ],
             [
              0.1111111111111111,
              "#46039f"
             ],
             [
              0.2222222222222222,
              "#7201a8"
             ],
             [
              0.3333333333333333,
              "#9c179e"
             ],
             [
              0.4444444444444444,
              "#bd3786"
             ],
             [
              0.5555555555555556,
              "#d8576b"
             ],
             [
              0.6666666666666666,
              "#ed7953"
             ],
             [
              0.7777777777777778,
              "#fb9f3a"
             ],
             [
              0.8888888888888888,
              "#fdca26"
             ],
             [
              1,
              "#f0f921"
             ]
            ],
            "type": "histogram2dcontour"
           }
          ],
          "mesh3d": [
           {
            "colorbar": {
             "outlinewidth": 0,
             "ticks": ""
            },
            "type": "mesh3d"
           }
          ],
          "parcoords": [
           {
            "line": {
             "colorbar": {
              "outlinewidth": 0,
              "ticks": ""
             }
            },
            "type": "parcoords"
           }
          ],
          "pie": [
           {
            "automargin": true,
            "type": "pie"
           }
          ],
          "scatter": [
           {
            "marker": {
             "colorbar": {
              "outlinewidth": 0,
              "ticks": ""
             }
            },
            "type": "scatter"
           }
          ],
          "scatter3d": [
           {
            "line": {
             "colorbar": {
              "outlinewidth": 0,
              "ticks": ""
             }
            },
            "marker": {
             "colorbar": {
              "outlinewidth": 0,
              "ticks": ""
             }
            },
            "type": "scatter3d"
           }
          ],
          "scattercarpet": [
           {
            "marker": {
             "colorbar": {
              "outlinewidth": 0,
              "ticks": ""
             }
            },
            "type": "scattercarpet"
           }
          ],
          "scattergeo": [
           {
            "marker": {
             "colorbar": {
              "outlinewidth": 0,
              "ticks": ""
             }
            },
            "type": "scattergeo"
           }
          ],
          "scattergl": [
           {
            "marker": {
             "colorbar": {
              "outlinewidth": 0,
              "ticks": ""
             }
            },
            "type": "scattergl"
           }
          ],
          "scattermapbox": [
           {
            "marker": {
             "colorbar": {
              "outlinewidth": 0,
              "ticks": ""
             }
            },
            "type": "scattermapbox"
           }
          ],
          "scatterpolar": [
           {
            "marker": {
             "colorbar": {
              "outlinewidth": 0,
              "ticks": ""
             }
            },
            "type": "scatterpolar"
           }
          ],
          "scatterpolargl": [
           {
            "marker": {
             "colorbar": {
              "outlinewidth": 0,
              "ticks": ""
             }
            },
            "type": "scatterpolargl"
           }
          ],
          "scatterternary": [
           {
            "marker": {
             "colorbar": {
              "outlinewidth": 0,
              "ticks": ""
             }
            },
            "type": "scatterternary"
           }
          ],
          "surface": [
           {
            "colorbar": {
             "outlinewidth": 0,
             "ticks": ""
            },
            "colorscale": [
             [
              0,
              "#0d0887"
             ],
             [
              0.1111111111111111,
              "#46039f"
             ],
             [
              0.2222222222222222,
              "#7201a8"
             ],
             [
              0.3333333333333333,
              "#9c179e"
             ],
             [
              0.4444444444444444,
              "#bd3786"
             ],
             [
              0.5555555555555556,
              "#d8576b"
             ],
             [
              0.6666666666666666,
              "#ed7953"
             ],
             [
              0.7777777777777778,
              "#fb9f3a"
             ],
             [
              0.8888888888888888,
              "#fdca26"
             ],
             [
              1,
              "#f0f921"
             ]
            ],
            "type": "surface"
           }
          ],
          "table": [
           {
            "cells": {
             "fill": {
              "color": "#EBF0F8"
             },
             "line": {
              "color": "white"
             }
            },
            "header": {
             "fill": {
              "color": "#C8D4E3"
             },
             "line": {
              "color": "white"
             }
            },
            "type": "table"
           }
          ]
         },
         "layout": {
          "annotationdefaults": {
           "arrowcolor": "#2a3f5f",
           "arrowhead": 0,
           "arrowwidth": 1
          },
          "coloraxis": {
           "colorbar": {
            "outlinewidth": 0,
            "ticks": ""
           }
          },
          "colorscale": {
           "diverging": [
            [
             0,
             "#8e0152"
            ],
            [
             0.1,
             "#c51b7d"
            ],
            [
             0.2,
             "#de77ae"
            ],
            [
             0.3,
             "#f1b6da"
            ],
            [
             0.4,
             "#fde0ef"
            ],
            [
             0.5,
             "#f7f7f7"
            ],
            [
             0.6,
             "#e6f5d0"
            ],
            [
             0.7,
             "#b8e186"
            ],
            [
             0.8,
             "#7fbc41"
            ],
            [
             0.9,
             "#4d9221"
            ],
            [
             1,
             "#276419"
            ]
           ],
           "sequential": [
            [
             0,
             "#0d0887"
            ],
            [
             0.1111111111111111,
             "#46039f"
            ],
            [
             0.2222222222222222,
             "#7201a8"
            ],
            [
             0.3333333333333333,
             "#9c179e"
            ],
            [
             0.4444444444444444,
             "#bd3786"
            ],
            [
             0.5555555555555556,
             "#d8576b"
            ],
            [
             0.6666666666666666,
             "#ed7953"
            ],
            [
             0.7777777777777778,
             "#fb9f3a"
            ],
            [
             0.8888888888888888,
             "#fdca26"
            ],
            [
             1,
             "#f0f921"
            ]
           ],
           "sequentialminus": [
            [
             0,
             "#0d0887"
            ],
            [
             0.1111111111111111,
             "#46039f"
            ],
            [
             0.2222222222222222,
             "#7201a8"
            ],
            [
             0.3333333333333333,
             "#9c179e"
            ],
            [
             0.4444444444444444,
             "#bd3786"
            ],
            [
             0.5555555555555556,
             "#d8576b"
            ],
            [
             0.6666666666666666,
             "#ed7953"
            ],
            [
             0.7777777777777778,
             "#fb9f3a"
            ],
            [
             0.8888888888888888,
             "#fdca26"
            ],
            [
             1,
             "#f0f921"
            ]
           ]
          },
          "colorway": [
           "#636efa",
           "#EF553B",
           "#00cc96",
           "#ab63fa",
           "#FFA15A",
           "#19d3f3",
           "#FF6692",
           "#B6E880",
           "#FF97FF",
           "#FECB52"
          ],
          "font": {
           "color": "#2a3f5f"
          },
          "geo": {
           "bgcolor": "white",
           "lakecolor": "white",
           "landcolor": "#E5ECF6",
           "showlakes": true,
           "showland": true,
           "subunitcolor": "white"
          },
          "hoverlabel": {
           "align": "left"
          },
          "hovermode": "closest",
          "mapbox": {
           "style": "light"
          },
          "paper_bgcolor": "white",
          "plot_bgcolor": "#E5ECF6",
          "polar": {
           "angularaxis": {
            "gridcolor": "white",
            "linecolor": "white",
            "ticks": ""
           },
           "bgcolor": "#E5ECF6",
           "radialaxis": {
            "gridcolor": "white",
            "linecolor": "white",
            "ticks": ""
           }
          },
          "scene": {
           "xaxis": {
            "backgroundcolor": "#E5ECF6",
            "gridcolor": "white",
            "gridwidth": 2,
            "linecolor": "white",
            "showbackground": true,
            "ticks": "",
            "zerolinecolor": "white"
           },
           "yaxis": {
            "backgroundcolor": "#E5ECF6",
            "gridcolor": "white",
            "gridwidth": 2,
            "linecolor": "white",
            "showbackground": true,
            "ticks": "",
            "zerolinecolor": "white"
           },
           "zaxis": {
            "backgroundcolor": "#E5ECF6",
            "gridcolor": "white",
            "gridwidth": 2,
            "linecolor": "white",
            "showbackground": true,
            "ticks": "",
            "zerolinecolor": "white"
           }
          },
          "shapedefaults": {
           "line": {
            "color": "#2a3f5f"
           }
          },
          "ternary": {
           "aaxis": {
            "gridcolor": "white",
            "linecolor": "white",
            "ticks": ""
           },
           "baxis": {
            "gridcolor": "white",
            "linecolor": "white",
            "ticks": ""
           },
           "bgcolor": "#E5ECF6",
           "caxis": {
            "gridcolor": "white",
            "linecolor": "white",
            "ticks": ""
           }
          },
          "title": {
           "x": 0.05
          },
          "xaxis": {
           "automargin": true,
           "gridcolor": "white",
           "linecolor": "white",
           "ticks": "",
           "title": {
            "standoff": 15
           },
           "zerolinecolor": "white",
           "zerolinewidth": 2
          },
          "yaxis": {
           "automargin": true,
           "gridcolor": "white",
           "linecolor": "white",
           "ticks": "",
           "title": {
            "standoff": 15
           },
           "zerolinecolor": "white",
           "zerolinewidth": 2
          }
         }
        },
        "title": {
         "text": "Total Cases in India"
        },
        "xaxis": {
         "title": {
          "text": "States"
         }
        },
        "yaxis": {
         "title": {
          "text": "Total Cases"
         }
        }
       }
      },
      "text/html": [
       "<div>\n",
       "        \n",
       "        \n",
       "            <div id=\"b3536675-2ce9-4aa0-8e07-1557ddfb65ce\" class=\"plotly-graph-div\" style=\"height:525px; width:100%;\"></div>\n",
       "            <script type=\"text/javascript\">\n",
       "                require([\"plotly\"], function(Plotly) {\n",
       "                    window.PLOTLYENV=window.PLOTLYENV || {};\n",
       "                    \n",
       "                if (document.getElementById(\"b3536675-2ce9-4aa0-8e07-1557ddfb65ce\")) {\n",
       "                    Plotly.newPlot(\n",
       "                        'b3536675-2ce9-4aa0-8e07-1557ddfb65ce',\n",
       "                        [{\"type\": \"bar\", \"x\": [\"Andhra Pradesh\", \"Chhattisgarh\", \"Delhi\", \"Gujarat\", \"Haryana\", \"Himachal Pradesh\", \"Karnataka\", \"Kerala\", \"Madhya Pradesh\", \"Maharashtra\", \"Odisha\", \"Puducherry\", \"Punjab\", \"Rajasthan\", \"Tamil Nadu\", \"Telengana\", \"Chandigarh\", \"Jammu and Kashmir\", \"Ladakh\", \"Uttar Pradesh\", \"Uttarakhand\", \"West Bengal\", \"Bihar\", \"Mizoram\", \"Goa\", \"Manipur\", \"Jharkhand\"], \"y\": [955, 36, 2377, 2624, 286, 40, 463, 455, 1852, 6433, 90, 1, 277, 1966, 1686, 995, 27, 427, 13, 1605, 47, 514, 176, 1, 6, 1, 56]}],\n",
       "                        {\"template\": {\"data\": {\"bar\": [{\"error_x\": {\"color\": \"#2a3f5f\"}, \"error_y\": {\"color\": \"#2a3f5f\"}, \"marker\": {\"line\": {\"color\": \"#E5ECF6\", \"width\": 0.5}}, \"type\": \"bar\"}], \"barpolar\": [{\"marker\": {\"line\": {\"color\": \"#E5ECF6\", \"width\": 0.5}}, \"type\": \"barpolar\"}], \"carpet\": [{\"aaxis\": {\"endlinecolor\": \"#2a3f5f\", \"gridcolor\": \"white\", \"linecolor\": \"white\", \"minorgridcolor\": \"white\", \"startlinecolor\": \"#2a3f5f\"}, \"baxis\": {\"endlinecolor\": \"#2a3f5f\", \"gridcolor\": \"white\", \"linecolor\": \"white\", \"minorgridcolor\": \"white\", \"startlinecolor\": \"#2a3f5f\"}, \"type\": \"carpet\"}], \"choropleth\": [{\"colorbar\": {\"outlinewidth\": 0, \"ticks\": \"\"}, \"type\": \"choropleth\"}], \"contour\": [{\"colorbar\": {\"outlinewidth\": 0, \"ticks\": \"\"}, \"colorscale\": [[0.0, \"#0d0887\"], [0.1111111111111111, \"#46039f\"], [0.2222222222222222, \"#7201a8\"], [0.3333333333333333, \"#9c179e\"], [0.4444444444444444, \"#bd3786\"], [0.5555555555555556, \"#d8576b\"], [0.6666666666666666, \"#ed7953\"], [0.7777777777777778, \"#fb9f3a\"], [0.8888888888888888, \"#fdca26\"], [1.0, \"#f0f921\"]], \"type\": \"contour\"}], \"contourcarpet\": [{\"colorbar\": {\"outlinewidth\": 0, \"ticks\": \"\"}, \"type\": \"contourcarpet\"}], \"heatmap\": [{\"colorbar\": {\"outlinewidth\": 0, \"ticks\": \"\"}, \"colorscale\": [[0.0, \"#0d0887\"], [0.1111111111111111, \"#46039f\"], [0.2222222222222222, \"#7201a8\"], [0.3333333333333333, \"#9c179e\"], [0.4444444444444444, \"#bd3786\"], [0.5555555555555556, \"#d8576b\"], [0.6666666666666666, \"#ed7953\"], [0.7777777777777778, \"#fb9f3a\"], [0.8888888888888888, \"#fdca26\"], [1.0, \"#f0f921\"]], \"type\": \"heatmap\"}], \"heatmapgl\": [{\"colorbar\": {\"outlinewidth\": 0, \"ticks\": \"\"}, \"colorscale\": [[0.0, \"#0d0887\"], [0.1111111111111111, \"#46039f\"], [0.2222222222222222, \"#7201a8\"], [0.3333333333333333, \"#9c179e\"], [0.4444444444444444, \"#bd3786\"], [0.5555555555555556, \"#d8576b\"], [0.6666666666666666, \"#ed7953\"], [0.7777777777777778, \"#fb9f3a\"], [0.8888888888888888, \"#fdca26\"], [1.0, \"#f0f921\"]], \"type\": \"heatmapgl\"}], \"histogram\": [{\"marker\": {\"colorbar\": {\"outlinewidth\": 0, \"ticks\": \"\"}}, \"type\": \"histogram\"}], \"histogram2d\": [{\"colorbar\": {\"outlinewidth\": 0, \"ticks\": \"\"}, \"colorscale\": [[0.0, \"#0d0887\"], [0.1111111111111111, \"#46039f\"], [0.2222222222222222, \"#7201a8\"], [0.3333333333333333, \"#9c179e\"], [0.4444444444444444, \"#bd3786\"], [0.5555555555555556, \"#d8576b\"], [0.6666666666666666, \"#ed7953\"], [0.7777777777777778, \"#fb9f3a\"], [0.8888888888888888, \"#fdca26\"], [1.0, \"#f0f921\"]], \"type\": \"histogram2d\"}], \"histogram2dcontour\": [{\"colorbar\": {\"outlinewidth\": 0, \"ticks\": \"\"}, \"colorscale\": [[0.0, \"#0d0887\"], [0.1111111111111111, \"#46039f\"], [0.2222222222222222, \"#7201a8\"], [0.3333333333333333, \"#9c179e\"], [0.4444444444444444, \"#bd3786\"], [0.5555555555555556, \"#d8576b\"], [0.6666666666666666, \"#ed7953\"], [0.7777777777777778, \"#fb9f3a\"], [0.8888888888888888, \"#fdca26\"], [1.0, \"#f0f921\"]], \"type\": \"histogram2dcontour\"}], \"mesh3d\": [{\"colorbar\": {\"outlinewidth\": 0, \"ticks\": \"\"}, \"type\": \"mesh3d\"}], \"parcoords\": [{\"line\": {\"colorbar\": {\"outlinewidth\": 0, \"ticks\": \"\"}}, \"type\": \"parcoords\"}], \"pie\": [{\"automargin\": true, \"type\": \"pie\"}], \"scatter\": [{\"marker\": {\"colorbar\": {\"outlinewidth\": 0, \"ticks\": \"\"}}, \"type\": \"scatter\"}], \"scatter3d\": [{\"line\": {\"colorbar\": {\"outlinewidth\": 0, \"ticks\": \"\"}}, \"marker\": {\"colorbar\": {\"outlinewidth\": 0, \"ticks\": \"\"}}, \"type\": \"scatter3d\"}], \"scattercarpet\": [{\"marker\": {\"colorbar\": {\"outlinewidth\": 0, \"ticks\": \"\"}}, \"type\": \"scattercarpet\"}], \"scattergeo\": [{\"marker\": {\"colorbar\": {\"outlinewidth\": 0, \"ticks\": \"\"}}, \"type\": \"scattergeo\"}], \"scattergl\": [{\"marker\": {\"colorbar\": {\"outlinewidth\": 0, \"ticks\": \"\"}}, \"type\": \"scattergl\"}], \"scattermapbox\": [{\"marker\": {\"colorbar\": {\"outlinewidth\": 0, \"ticks\": \"\"}}, \"type\": \"scattermapbox\"}], \"scatterpolar\": [{\"marker\": {\"colorbar\": {\"outlinewidth\": 0, \"ticks\": \"\"}}, \"type\": \"scatterpolar\"}], \"scatterpolargl\": [{\"marker\": {\"colorbar\": {\"outlinewidth\": 0, \"ticks\": \"\"}}, \"type\": \"scatterpolargl\"}], \"scatterternary\": [{\"marker\": {\"colorbar\": {\"outlinewidth\": 0, \"ticks\": \"\"}}, \"type\": \"scatterternary\"}], \"surface\": [{\"colorbar\": {\"outlinewidth\": 0, \"ticks\": \"\"}, \"colorscale\": [[0.0, \"#0d0887\"], [0.1111111111111111, \"#46039f\"], [0.2222222222222222, \"#7201a8\"], [0.3333333333333333, \"#9c179e\"], [0.4444444444444444, \"#bd3786\"], [0.5555555555555556, \"#d8576b\"], [0.6666666666666666, \"#ed7953\"], [0.7777777777777778, \"#fb9f3a\"], [0.8888888888888888, \"#fdca26\"], [1.0, \"#f0f921\"]], \"type\": \"surface\"}], \"table\": [{\"cells\": {\"fill\": {\"color\": \"#EBF0F8\"}, \"line\": {\"color\": \"white\"}}, \"header\": {\"fill\": {\"color\": \"#C8D4E3\"}, \"line\": {\"color\": \"white\"}}, \"type\": \"table\"}]}, \"layout\": {\"annotationdefaults\": {\"arrowcolor\": \"#2a3f5f\", \"arrowhead\": 0, \"arrowwidth\": 1}, \"coloraxis\": {\"colorbar\": {\"outlinewidth\": 0, \"ticks\": \"\"}}, \"colorscale\": {\"diverging\": [[0, \"#8e0152\"], [0.1, \"#c51b7d\"], [0.2, \"#de77ae\"], [0.3, \"#f1b6da\"], [0.4, \"#fde0ef\"], [0.5, \"#f7f7f7\"], [0.6, \"#e6f5d0\"], [0.7, \"#b8e186\"], [0.8, \"#7fbc41\"], [0.9, \"#4d9221\"], [1, \"#276419\"]], \"sequential\": [[0.0, \"#0d0887\"], [0.1111111111111111, \"#46039f\"], [0.2222222222222222, \"#7201a8\"], [0.3333333333333333, \"#9c179e\"], [0.4444444444444444, \"#bd3786\"], [0.5555555555555556, \"#d8576b\"], [0.6666666666666666, \"#ed7953\"], [0.7777777777777778, \"#fb9f3a\"], [0.8888888888888888, \"#fdca26\"], [1.0, \"#f0f921\"]], \"sequentialminus\": [[0.0, \"#0d0887\"], [0.1111111111111111, \"#46039f\"], [0.2222222222222222, \"#7201a8\"], [0.3333333333333333, \"#9c179e\"], [0.4444444444444444, \"#bd3786\"], [0.5555555555555556, \"#d8576b\"], [0.6666666666666666, \"#ed7953\"], [0.7777777777777778, \"#fb9f3a\"], [0.8888888888888888, \"#fdca26\"], [1.0, \"#f0f921\"]]}, \"colorway\": [\"#636efa\", \"#EF553B\", \"#00cc96\", \"#ab63fa\", \"#FFA15A\", \"#19d3f3\", \"#FF6692\", \"#B6E880\", \"#FF97FF\", \"#FECB52\"], \"font\": {\"color\": \"#2a3f5f\"}, \"geo\": {\"bgcolor\": \"white\", \"lakecolor\": \"white\", \"landcolor\": \"#E5ECF6\", \"showlakes\": true, \"showland\": true, \"subunitcolor\": \"white\"}, \"hoverlabel\": {\"align\": \"left\"}, \"hovermode\": \"closest\", \"mapbox\": {\"style\": \"light\"}, \"paper_bgcolor\": \"white\", \"plot_bgcolor\": \"#E5ECF6\", \"polar\": {\"angularaxis\": {\"gridcolor\": \"white\", \"linecolor\": \"white\", \"ticks\": \"\"}, \"bgcolor\": \"#E5ECF6\", \"radialaxis\": {\"gridcolor\": \"white\", \"linecolor\": \"white\", \"ticks\": \"\"}}, \"scene\": {\"xaxis\": {\"backgroundcolor\": \"#E5ECF6\", \"gridcolor\": \"white\", \"gridwidth\": 2, \"linecolor\": \"white\", \"showbackground\": true, \"ticks\": \"\", \"zerolinecolor\": \"white\"}, \"yaxis\": {\"backgroundcolor\": \"#E5ECF6\", \"gridcolor\": \"white\", \"gridwidth\": 2, \"linecolor\": \"white\", \"showbackground\": true, \"ticks\": \"\", \"zerolinecolor\": \"white\"}, \"zaxis\": {\"backgroundcolor\": \"#E5ECF6\", \"gridcolor\": \"white\", \"gridwidth\": 2, \"linecolor\": \"white\", \"showbackground\": true, \"ticks\": \"\", \"zerolinecolor\": \"white\"}}, \"shapedefaults\": {\"line\": {\"color\": \"#2a3f5f\"}}, \"ternary\": {\"aaxis\": {\"gridcolor\": \"white\", \"linecolor\": \"white\", \"ticks\": \"\"}, \"baxis\": {\"gridcolor\": \"white\", \"linecolor\": \"white\", \"ticks\": \"\"}, \"bgcolor\": \"#E5ECF6\", \"caxis\": {\"gridcolor\": \"white\", \"linecolor\": \"white\", \"ticks\": \"\"}}, \"title\": {\"x\": 0.05}, \"xaxis\": {\"automargin\": true, \"gridcolor\": \"white\", \"linecolor\": \"white\", \"ticks\": \"\", \"title\": {\"standoff\": 15}, \"zerolinecolor\": \"white\", \"zerolinewidth\": 2}, \"yaxis\": {\"automargin\": true, \"gridcolor\": \"white\", \"linecolor\": \"white\", \"ticks\": \"\", \"title\": {\"standoff\": 15}, \"zerolinecolor\": \"white\", \"zerolinewidth\": 2}}}, \"title\": {\"text\": \"Total Cases in India\"}, \"xaxis\": {\"title\": {\"text\": \"States\"}}, \"yaxis\": {\"title\": {\"text\": \"Total Cases\"}}},\n",
       "                        {\"responsive\": true}\n",
       "                    ).then(function(){\n",
       "                            \n",
       "var gd = document.getElementById('b3536675-2ce9-4aa0-8e07-1557ddfb65ce');\n",
       "var x = new MutationObserver(function (mutations, observer) {{\n",
       "        var display = window.getComputedStyle(gd).display;\n",
       "        if (!display || display === 'none') {{\n",
       "            console.log([gd, 'removed!']);\n",
       "            Plotly.purge(gd);\n",
       "            observer.disconnect();\n",
       "        }}\n",
       "}});\n",
       "\n",
       "// Listen for the removal of the full notebook cells\n",
       "var notebookContainer = gd.closest('#notebook-container');\n",
       "if (notebookContainer) {{\n",
       "    x.observe(notebookContainer, {childList: true});\n",
       "}}\n",
       "\n",
       "// Listen for the clearing of the current output cell\n",
       "var outputEl = gd.closest('.output');\n",
       "if (outputEl) {{\n",
       "    x.observe(outputEl, {childList: true});\n",
       "}}\n",
       "\n",
       "                        })\n",
       "                };\n",
       "                });\n",
       "            </script>\n",
       "        </div>"
      ]
     },
     "metadata": {},
     "output_type": "display_data"
    }
   ],
   "source": [
    "fig=plt.figure(figsize=(20,10),dpi=200)\n",
    "axes=fig.add_axes([0,0,1,1])\n",
    "axes.bar(df[\"Name of State / UT\"],df[\"Total Cases\"])\n",
    "axes.set_title(\"Total Cases in India\")\n",
    "axes.set_xlabel(\"States\")\n",
    "axes.set_ylabel(\"Total Cases\")\n",
    "plt.show()\n",
    "\n",
    "#plotly\n",
    "fig=go.Figure()\n",
    "fig.add_trace(go.Bar(x=df[\"Name of State / UT\"], y=df[\"Total Cases\"]))\n",
    "fig.update_layout(title='Total Cases in India', xaxis=dict(title=\"States\"), yaxis=dict(title=\"Total Cases\"))"
   ]
  },
  {
   "cell_type": "code",
   "execution_count": 25,
   "metadata": {},
   "outputs": [],
   "source": [
    "Indian_Cord=pd.read_excel(r\"E:\\projects\\ML_Data_Science\\COVID-19-Time-Series-Forecasting-with-Data-Analysis-master\\Indian Coordinates.xlsx\")"
   ]
  },
  {
   "cell_type": "code",
   "execution_count": 26,
   "metadata": {},
   "outputs": [
    {
     "data": {
      "text/html": [
       "<div>\n",
       "<style scoped>\n",
       "    .dataframe tbody tr th:only-of-type {\n",
       "        vertical-align: middle;\n",
       "    }\n",
       "\n",
       "    .dataframe tbody tr th {\n",
       "        vertical-align: top;\n",
       "    }\n",
       "\n",
       "    .dataframe thead th {\n",
       "        text-align: right;\n",
       "    }\n",
       "</style>\n",
       "<table border=\"1\" class=\"dataframe\">\n",
       "  <thead>\n",
       "    <tr style=\"text-align: right;\">\n",
       "      <th></th>\n",
       "      <th>Name of State / UT</th>\n",
       "      <th>Latitude</th>\n",
       "      <th>Longitude</th>\n",
       "    </tr>\n",
       "  </thead>\n",
       "  <tbody>\n",
       "    <tr>\n",
       "      <th>0</th>\n",
       "      <td>Andaman And Nicobar</td>\n",
       "      <td>11.667026</td>\n",
       "      <td>92.735983</td>\n",
       "    </tr>\n",
       "    <tr>\n",
       "      <th>1</th>\n",
       "      <td>Andhra Pradesh</td>\n",
       "      <td>14.750429</td>\n",
       "      <td>78.570026</td>\n",
       "    </tr>\n",
       "    <tr>\n",
       "      <th>2</th>\n",
       "      <td>Arunachal Pradesh</td>\n",
       "      <td>27.100399</td>\n",
       "      <td>93.616601</td>\n",
       "    </tr>\n",
       "    <tr>\n",
       "      <th>3</th>\n",
       "      <td>Assam</td>\n",
       "      <td>26.749981</td>\n",
       "      <td>94.216667</td>\n",
       "    </tr>\n",
       "    <tr>\n",
       "      <th>4</th>\n",
       "      <td>Bihar</td>\n",
       "      <td>25.785414</td>\n",
       "      <td>87.479973</td>\n",
       "    </tr>\n",
       "    <tr>\n",
       "      <th>5</th>\n",
       "      <td>Chandigarh</td>\n",
       "      <td>30.719997</td>\n",
       "      <td>76.780006</td>\n",
       "    </tr>\n",
       "    <tr>\n",
       "      <th>6</th>\n",
       "      <td>Chhattisgarh</td>\n",
       "      <td>22.090420</td>\n",
       "      <td>82.159987</td>\n",
       "    </tr>\n",
       "    <tr>\n",
       "      <th>7</th>\n",
       "      <td>Dadra And Nagar Haveli</td>\n",
       "      <td>20.266578</td>\n",
       "      <td>73.016618</td>\n",
       "    </tr>\n",
       "    <tr>\n",
       "      <th>8</th>\n",
       "      <td>Delhi</td>\n",
       "      <td>28.669993</td>\n",
       "      <td>77.230004</td>\n",
       "    </tr>\n",
       "    <tr>\n",
       "      <th>9</th>\n",
       "      <td>Goa</td>\n",
       "      <td>15.491997</td>\n",
       "      <td>73.818001</td>\n",
       "    </tr>\n",
       "    <tr>\n",
       "      <th>10</th>\n",
       "      <td>Haryana</td>\n",
       "      <td>28.450006</td>\n",
       "      <td>77.019991</td>\n",
       "    </tr>\n",
       "    <tr>\n",
       "      <th>11</th>\n",
       "      <td>Himachal Pradesh</td>\n",
       "      <td>31.100025</td>\n",
       "      <td>77.166597</td>\n",
       "    </tr>\n",
       "    <tr>\n",
       "      <th>12</th>\n",
       "      <td>Union Territory of Jammu and Kashmir</td>\n",
       "      <td>33.450000</td>\n",
       "      <td>76.240000</td>\n",
       "    </tr>\n",
       "    <tr>\n",
       "      <th>13</th>\n",
       "      <td>Jharkhand</td>\n",
       "      <td>23.800393</td>\n",
       "      <td>86.419986</td>\n",
       "    </tr>\n",
       "    <tr>\n",
       "      <th>14</th>\n",
       "      <td>Karnataka</td>\n",
       "      <td>12.570381</td>\n",
       "      <td>76.919997</td>\n",
       "    </tr>\n",
       "    <tr>\n",
       "      <th>15</th>\n",
       "      <td>Kerala</td>\n",
       "      <td>8.900373</td>\n",
       "      <td>76.569993</td>\n",
       "    </tr>\n",
       "    <tr>\n",
       "      <th>16</th>\n",
       "      <td>Lakshadweep</td>\n",
       "      <td>10.562573</td>\n",
       "      <td>72.636867</td>\n",
       "    </tr>\n",
       "    <tr>\n",
       "      <th>17</th>\n",
       "      <td>Madhya Pradesh</td>\n",
       "      <td>21.300391</td>\n",
       "      <td>76.130019</td>\n",
       "    </tr>\n",
       "    <tr>\n",
       "      <th>18</th>\n",
       "      <td>Maharashtra</td>\n",
       "      <td>19.250232</td>\n",
       "      <td>73.160175</td>\n",
       "    </tr>\n",
       "    <tr>\n",
       "      <th>19</th>\n",
       "      <td>Manipur</td>\n",
       "      <td>24.799971</td>\n",
       "      <td>93.950017</td>\n",
       "    </tr>\n",
       "    <tr>\n",
       "      <th>20</th>\n",
       "      <td>Meghalaya</td>\n",
       "      <td>25.570492</td>\n",
       "      <td>91.880014</td>\n",
       "    </tr>\n",
       "    <tr>\n",
       "      <th>21</th>\n",
       "      <td>Mizoram</td>\n",
       "      <td>23.710399</td>\n",
       "      <td>92.720015</td>\n",
       "    </tr>\n",
       "    <tr>\n",
       "      <th>22</th>\n",
       "      <td>Nagaland</td>\n",
       "      <td>25.666998</td>\n",
       "      <td>94.116570</td>\n",
       "    </tr>\n",
       "    <tr>\n",
       "      <th>23</th>\n",
       "      <td>Orissa</td>\n",
       "      <td>19.820430</td>\n",
       "      <td>85.900017</td>\n",
       "    </tr>\n",
       "    <tr>\n",
       "      <th>24</th>\n",
       "      <td>Puducherry</td>\n",
       "      <td>11.934994</td>\n",
       "      <td>79.830000</td>\n",
       "    </tr>\n",
       "    <tr>\n",
       "      <th>25</th>\n",
       "      <td>Punjab</td>\n",
       "      <td>31.519974</td>\n",
       "      <td>75.980003</td>\n",
       "    </tr>\n",
       "    <tr>\n",
       "      <th>26</th>\n",
       "      <td>Rajasthan</td>\n",
       "      <td>26.449999</td>\n",
       "      <td>74.639981</td>\n",
       "    </tr>\n",
       "    <tr>\n",
       "      <th>27</th>\n",
       "      <td>Sikkim</td>\n",
       "      <td>27.333330</td>\n",
       "      <td>88.616647</td>\n",
       "    </tr>\n",
       "    <tr>\n",
       "      <th>28</th>\n",
       "      <td>Telengana</td>\n",
       "      <td>18.112400</td>\n",
       "      <td>79.019300</td>\n",
       "    </tr>\n",
       "    <tr>\n",
       "      <th>29</th>\n",
       "      <td>Tamil Nadu</td>\n",
       "      <td>12.920386</td>\n",
       "      <td>79.150042</td>\n",
       "    </tr>\n",
       "    <tr>\n",
       "      <th>30</th>\n",
       "      <td>Tripura</td>\n",
       "      <td>23.835404</td>\n",
       "      <td>91.279999</td>\n",
       "    </tr>\n",
       "    <tr>\n",
       "      <th>31</th>\n",
       "      <td>Uttar Pradesh</td>\n",
       "      <td>27.599981</td>\n",
       "      <td>78.050006</td>\n",
       "    </tr>\n",
       "    <tr>\n",
       "      <th>32</th>\n",
       "      <td>Uttarakhand</td>\n",
       "      <td>30.320409</td>\n",
       "      <td>78.050006</td>\n",
       "    </tr>\n",
       "    <tr>\n",
       "      <th>33</th>\n",
       "      <td>West Bengal</td>\n",
       "      <td>22.580390</td>\n",
       "      <td>88.329947</td>\n",
       "    </tr>\n",
       "    <tr>\n",
       "      <th>34</th>\n",
       "      <td>Union Territory of Ladakh</td>\n",
       "      <td>34.100000</td>\n",
       "      <td>77.340000</td>\n",
       "    </tr>\n",
       "  </tbody>\n",
       "</table>\n",
       "</div>"
      ],
      "text/plain": [
       "                      Name of State / UT   Latitude  Longitude\n",
       "0                   Andaman And Nicobar   11.667026  92.735983\n",
       "1                         Andhra Pradesh  14.750429  78.570026\n",
       "2                     Arunachal Pradesh   27.100399  93.616601\n",
       "3                                 Assam   26.749981  94.216667\n",
       "4                                 Bihar   25.785414  87.479973\n",
       "5                            Chandigarh   30.719997  76.780006\n",
       "6                          Chhattisgarh   22.090420  82.159987\n",
       "7                Dadra And Nagar Haveli   20.266578  73.016618\n",
       "8                                  Delhi  28.669993  77.230004\n",
       "9                                   Goa   15.491997  73.818001\n",
       "10                               Haryana  28.450006  77.019991\n",
       "11                     Himachal Pradesh   31.100025  77.166597\n",
       "12  Union Territory of Jammu and Kashmir  33.450000  76.240000\n",
       "13                            Jharkhand   23.800393  86.419986\n",
       "14                             Karnataka  12.570381  76.919997\n",
       "15                                Kerala   8.900373  76.569993\n",
       "16                          Lakshadweep   10.562573  72.636867\n",
       "17                       Madhya Pradesh   21.300391  76.130019\n",
       "18                           Maharashtra  19.250232  73.160175\n",
       "19                              Manipur   24.799971  93.950017\n",
       "20                            Meghalaya   25.570492  91.880014\n",
       "21                              Mizoram   23.710399  92.720015\n",
       "22                             Nagaland   25.666998  94.116570\n",
       "23                               Orissa   19.820430  85.900017\n",
       "24                           Puducherry   11.934994  79.830000\n",
       "25                                Punjab  31.519974  75.980003\n",
       "26                             Rajasthan  26.449999  74.639981\n",
       "27                               Sikkim   27.333330  88.616647\n",
       "28                             Telengana  18.112400  79.019300\n",
       "29                            Tamil Nadu  12.920386  79.150042\n",
       "30                              Tripura   23.835404  91.279999\n",
       "31                         Uttar Pradesh  27.599981  78.050006\n",
       "32                           Uttarakhand  30.320409  78.050006\n",
       "33                          West Bengal   22.580390  88.329947\n",
       "34             Union Territory of Ladakh  34.100000  77.340000"
      ]
     },
     "execution_count": 26,
     "metadata": {},
     "output_type": "execute_result"
    }
   ],
   "source": [
    "Indian_Cord"
   ]
  },
  {
   "cell_type": "code",
   "execution_count": 27,
   "metadata": {},
   "outputs": [
    {
     "data": {
      "text/html": [
       "<div>\n",
       "<style scoped>\n",
       "    .dataframe tbody tr th:only-of-type {\n",
       "        vertical-align: middle;\n",
       "    }\n",
       "\n",
       "    .dataframe tbody tr th {\n",
       "        vertical-align: top;\n",
       "    }\n",
       "\n",
       "    .dataframe thead th {\n",
       "        text-align: right;\n",
       "    }\n",
       "</style>\n",
       "<table border=\"1\" class=\"dataframe\">\n",
       "  <thead>\n",
       "    <tr style=\"text-align: right;\">\n",
       "      <th></th>\n",
       "      <th>Name of State / UT</th>\n",
       "      <th>Latitude</th>\n",
       "      <th>Longitude</th>\n",
       "      <th>Total Confirmed cases (Indian National)</th>\n",
       "      <th>Total Confirmed cases ( Foreign National )</th>\n",
       "      <th>Cured</th>\n",
       "      <th>Death</th>\n",
       "      <th>Total Cases</th>\n",
       "      <th>Active Cases</th>\n",
       "    </tr>\n",
       "  </thead>\n",
       "  <tbody>\n",
       "    <tr>\n",
       "      <th>0</th>\n",
       "      <td>Andhra Pradesh</td>\n",
       "      <td>14.750429</td>\n",
       "      <td>78.570026</td>\n",
       "      <td>955</td>\n",
       "      <td>0</td>\n",
       "      <td>11</td>\n",
       "      <td>0</td>\n",
       "      <td>955</td>\n",
       "      <td>944</td>\n",
       "    </tr>\n",
       "    <tr>\n",
       "      <th>1</th>\n",
       "      <td>Delhi</td>\n",
       "      <td>28.669993</td>\n",
       "      <td>77.230004</td>\n",
       "      <td>2376</td>\n",
       "      <td>1</td>\n",
       "      <td>857</td>\n",
       "      <td>1</td>\n",
       "      <td>2377</td>\n",
       "      <td>1520</td>\n",
       "    </tr>\n",
       "    <tr>\n",
       "      <th>2</th>\n",
       "      <td>Haryana</td>\n",
       "      <td>28.450006</td>\n",
       "      <td>77.019991</td>\n",
       "      <td>272</td>\n",
       "      <td>14</td>\n",
       "      <td>186</td>\n",
       "      <td>0</td>\n",
       "      <td>286</td>\n",
       "      <td>100</td>\n",
       "    </tr>\n",
       "    <tr>\n",
       "      <th>3</th>\n",
       "      <td>Karnataka</td>\n",
       "      <td>12.570381</td>\n",
       "      <td>76.919997</td>\n",
       "      <td>463</td>\n",
       "      <td>0</td>\n",
       "      <td>158</td>\n",
       "      <td>2</td>\n",
       "      <td>463</td>\n",
       "      <td>305</td>\n",
       "    </tr>\n",
       "    <tr>\n",
       "      <th>4</th>\n",
       "      <td>Kerala</td>\n",
       "      <td>8.900373</td>\n",
       "      <td>76.569993</td>\n",
       "      <td>448</td>\n",
       "      <td>7</td>\n",
       "      <td>338</td>\n",
       "      <td>0</td>\n",
       "      <td>455</td>\n",
       "      <td>117</td>\n",
       "    </tr>\n",
       "    <tr>\n",
       "      <th>5</th>\n",
       "      <td>Maharashtra</td>\n",
       "      <td>19.250232</td>\n",
       "      <td>73.160175</td>\n",
       "      <td>6430</td>\n",
       "      <td>3</td>\n",
       "      <td>957</td>\n",
       "      <td>4</td>\n",
       "      <td>6433</td>\n",
       "      <td>5476</td>\n",
       "    </tr>\n",
       "    <tr>\n",
       "      <th>6</th>\n",
       "      <td>Punjab</td>\n",
       "      <td>31.519974</td>\n",
       "      <td>75.980003</td>\n",
       "      <td>277</td>\n",
       "      <td>0</td>\n",
       "      <td>70</td>\n",
       "      <td>1</td>\n",
       "      <td>277</td>\n",
       "      <td>207</td>\n",
       "    </tr>\n",
       "    <tr>\n",
       "      <th>7</th>\n",
       "      <td>Rajasthan</td>\n",
       "      <td>26.449999</td>\n",
       "      <td>74.639981</td>\n",
       "      <td>1964</td>\n",
       "      <td>2</td>\n",
       "      <td>493</td>\n",
       "      <td>0</td>\n",
       "      <td>1966</td>\n",
       "      <td>1473</td>\n",
       "    </tr>\n",
       "    <tr>\n",
       "      <th>8</th>\n",
       "      <td>Telengana</td>\n",
       "      <td>18.112400</td>\n",
       "      <td>79.019300</td>\n",
       "      <td>984</td>\n",
       "      <td>11</td>\n",
       "      <td>291</td>\n",
       "      <td>0</td>\n",
       "      <td>995</td>\n",
       "      <td>704</td>\n",
       "    </tr>\n",
       "    <tr>\n",
       "      <th>9</th>\n",
       "      <td>Tamil Nadu</td>\n",
       "      <td>12.920386</td>\n",
       "      <td>79.150042</td>\n",
       "      <td>1683</td>\n",
       "      <td>3</td>\n",
       "      <td>866</td>\n",
       "      <td>1</td>\n",
       "      <td>1686</td>\n",
       "      <td>820</td>\n",
       "    </tr>\n",
       "    <tr>\n",
       "      <th>10</th>\n",
       "      <td>Uttar Pradesh</td>\n",
       "      <td>27.599981</td>\n",
       "      <td>78.050006</td>\n",
       "      <td>1604</td>\n",
       "      <td>1</td>\n",
       "      <td>248</td>\n",
       "      <td>0</td>\n",
       "      <td>1605</td>\n",
       "      <td>1357</td>\n",
       "    </tr>\n",
       "    <tr>\n",
       "      <th>11</th>\n",
       "      <td>Uttarakhand</td>\n",
       "      <td>30.320409</td>\n",
       "      <td>78.050006</td>\n",
       "      <td>47</td>\n",
       "      <td>0</td>\n",
       "      <td>25</td>\n",
       "      <td>0</td>\n",
       "      <td>47</td>\n",
       "      <td>22</td>\n",
       "    </tr>\n",
       "  </tbody>\n",
       "</table>\n",
       "</div>"
      ],
      "text/plain": [
       "   Name of State / UT   Latitude  Longitude  \\\n",
       "0      Andhra Pradesh  14.750429  78.570026   \n",
       "1               Delhi  28.669993  77.230004   \n",
       "2             Haryana  28.450006  77.019991   \n",
       "3           Karnataka  12.570381  76.919997   \n",
       "4              Kerala   8.900373  76.569993   \n",
       "5         Maharashtra  19.250232  73.160175   \n",
       "6              Punjab  31.519974  75.980003   \n",
       "7           Rajasthan  26.449999  74.639981   \n",
       "8           Telengana  18.112400  79.019300   \n",
       "9          Tamil Nadu  12.920386  79.150042   \n",
       "10      Uttar Pradesh  27.599981  78.050006   \n",
       "11        Uttarakhand  30.320409  78.050006   \n",
       "\n",
       "    Total Confirmed cases (Indian National)  \\\n",
       "0                                       955   \n",
       "1                                      2376   \n",
       "2                                       272   \n",
       "3                                       463   \n",
       "4                                       448   \n",
       "5                                      6430   \n",
       "6                                       277   \n",
       "7                                      1964   \n",
       "8                                       984   \n",
       "9                                      1683   \n",
       "10                                     1604   \n",
       "11                                       47   \n",
       "\n",
       "    Total Confirmed cases ( Foreign National )  Cured  Death  Total Cases  \\\n",
       "0                                            0     11      0          955   \n",
       "1                                            1    857      1         2377   \n",
       "2                                           14    186      0          286   \n",
       "3                                            0    158      2          463   \n",
       "4                                            7    338      0          455   \n",
       "5                                            3    957      4         6433   \n",
       "6                                            0     70      1          277   \n",
       "7                                            2    493      0         1966   \n",
       "8                                           11    291      0          995   \n",
       "9                                            3    866      1         1686   \n",
       "10                                           1    248      0         1605   \n",
       "11                                           0     25      0           47   \n",
       "\n",
       "    Active Cases  \n",
       "0            944  \n",
       "1           1520  \n",
       "2            100  \n",
       "3            305  \n",
       "4            117  \n",
       "5           5476  \n",
       "6            207  \n",
       "7           1473  \n",
       "8            704  \n",
       "9            820  \n",
       "10          1357  \n",
       "11            22  "
      ]
     },
     "execution_count": 27,
     "metadata": {},
     "output_type": "execute_result"
    }
   ],
   "source": [
    "df_full=pd.merge(Indian_Cord, df, on=\"Name of State / UT\")\n",
    "df_full"
   ]
  },
  {
   "cell_type": "code",
   "execution_count": 28,
   "metadata": {},
   "outputs": [],
   "source": [
    "map=folium.Map(location=[20,70], zoom_start=4, tiles='Stamenterrain')\n",
    "\n",
    "for lat,long,value, name in zip(df_full['Latitude'],df_full['Longitude'],df_full['Total Cases'],df_full['Name of State / UT']):\n",
    "    folium.CircleMarker([lat,long],radius=value*0.02,popup=('<strong>State</strong>:'+str(name).capitalize()+'<br>''<strong>Total Cases</strong>:'+str(value)+'<br>'),color=\"red\",fill_color=\"red\",fill_opacity=0.3).add_to(map)"
   ]
  },
  {
   "cell_type": "code",
   "execution_count": 29,
   "metadata": {},
   "outputs": [
    {
     "data": {
      "text/html": [
       "<div style=\"width:100%;\"><div style=\"position:relative;width:100%;height:0;padding-bottom:60%;\"><iframe src=\"about:blank\" style=\"position:absolute;width:100%;height:100%;left:0;top:0;border:none !important;\" data-html=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 onload=\"this.contentDocument.open();this.contentDocument.write(atob(this.getAttribute('data-html')));this.contentDocument.close();\" allowfullscreen webkitallowfullscreen mozallowfullscreen></iframe></div></div>"
      ],
      "text/plain": [
       "<folium.folium.Map at 0x248f4f38248>"
      ]
     },
     "execution_count": 29,
     "metadata": {},
     "output_type": "execute_result"
    }
   ],
   "source": [
    "map"
   ]
  },
  {
   "cell_type": "code",
   "execution_count": null,
   "metadata": {},
   "outputs": [],
   "source": []
  },
  {
   "cell_type": "code",
   "execution_count": null,
   "metadata": {},
   "outputs": [],
   "source": []
  }
 ],
 "metadata": {
  "kernelspec": {
   "display_name": "Python 3",
   "language": "python",
   "name": "python3"
  },
  "language_info": {
   "codemirror_mode": {
    "name": "ipython",
    "version": 3
   },
   "file_extension": ".py",
   "mimetype": "text/x-python",
   "name": "python",
   "nbconvert_exporter": "python",
   "pygments_lexer": "ipython3",
   "version": "3.7.7"
  }
 },
 "nbformat": 4,
 "nbformat_minor": 2
}
